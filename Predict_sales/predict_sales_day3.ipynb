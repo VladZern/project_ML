{
 "cells": [
  {
   "cell_type": "code",
   "execution_count": 1,
   "metadata": {},
   "outputs": [
    {
     "name": "stdout",
     "output_type": "stream",
     "text": [
      ".\\data\\items.csv\n",
      ".\\data\\items_new.csv\n",
      ".\\data\\item_categories.csv\n",
      ".\\data\\item_categories_new.csv\n",
      ".\\data\\sales_train.csv\n",
      ".\\data\\sales_train_ag_m.csv\n",
      ".\\data\\sales_train_new.csv\n",
      ".\\data\\sample_submission.csv\n",
      ".\\data\\shops.csv\n",
      ".\\data\\shops_new.csv\n",
      ".\\data\\test.csv\n",
      ".\\data\\test_new.csv\n",
      ".\\data\\X_sparse_test.pkl\n",
      ".\\data\\X_sparse_train.pkl\n",
      ".\\data\\y_train.pkl\n"
     ]
    }
   ],
   "source": [
    "import numpy as np # linear algebra\n",
    "import pandas as pd # data processing, CSV file I/O (e.g. pd.read_csv)\n",
    "import matplotlib as mpl\n",
    "import matplotlib.pyplot as plt\n",
    "import seaborn as sns\n",
    "%matplotlib inline\n",
    "import os\n",
    "for dirname, _, filenames in os.walk('.\\data'):\n",
    "    for filename in filenames:\n",
    "        print os.path.join(dirname, filename)"
   ]
  },
  {
   "cell_type": "code",
   "execution_count": 3,
   "metadata": {},
   "outputs": [],
   "source": [
    "sales_train_ag_m = pd.read_csv('.\\data\\sales_train_ag_m.csv', index_col=0)\n",
    "test_new = pd.read_csv('.\\data\\\\test_new.csv', index_col=0)       "
   ]
  },
  {
   "cell_type": "code",
   "execution_count": 4,
   "metadata": {},
   "outputs": [
    {
     "data": {
      "text/html": [
       "<div>\n",
       "<style scoped>\n",
       "    .dataframe tbody tr th:only-of-type {\n",
       "        vertical-align: middle;\n",
       "    }\n",
       "\n",
       "    .dataframe tbody tr th {\n",
       "        vertical-align: top;\n",
       "    }\n",
       "\n",
       "    .dataframe thead th {\n",
       "        text-align: right;\n",
       "    }\n",
       "</style>\n",
       "<table border=\"1\" class=\"dataframe\">\n",
       "  <thead>\n",
       "    <tr style=\"text-align: right;\">\n",
       "      <th></th>\n",
       "      <th>date_block_num</th>\n",
       "      <th>shop_id</th>\n",
       "      <th>item_id</th>\n",
       "      <th>month</th>\n",
       "      <th>year</th>\n",
       "      <th>item_cnt_month</th>\n",
       "      <th>item_price</th>\n",
       "      <th>item_category_id</th>\n",
       "      <th>glob_item_category</th>\n",
       "      <th>city</th>\n",
       "    </tr>\n",
       "  </thead>\n",
       "  <tbody>\n",
       "    <tr>\n",
       "      <th>0</th>\n",
       "      <td>0</td>\n",
       "      <td>2</td>\n",
       "      <td>27</td>\n",
       "      <td>1</td>\n",
       "      <td>2013</td>\n",
       "      <td>1.0</td>\n",
       "      <td>2499.0</td>\n",
       "      <td>19</td>\n",
       "      <td>Игры</td>\n",
       "      <td>Адыгея</td>\n",
       "    </tr>\n",
       "    <tr>\n",
       "      <th>42141</th>\n",
       "      <td>0</td>\n",
       "      <td>42</td>\n",
       "      <td>21553</td>\n",
       "      <td>1</td>\n",
       "      <td>2013</td>\n",
       "      <td>1.0</td>\n",
       "      <td>199.0</td>\n",
       "      <td>40</td>\n",
       "      <td>Кино</td>\n",
       "      <td>СПб</td>\n",
       "    </tr>\n",
       "    <tr>\n",
       "      <th>42142</th>\n",
       "      <td>0</td>\n",
       "      <td>42</td>\n",
       "      <td>21554</td>\n",
       "      <td>1</td>\n",
       "      <td>2013</td>\n",
       "      <td>1.0</td>\n",
       "      <td>199.0</td>\n",
       "      <td>40</td>\n",
       "      <td>Кино</td>\n",
       "      <td>СПб</td>\n",
       "    </tr>\n",
       "    <tr>\n",
       "      <th>42143</th>\n",
       "      <td>0</td>\n",
       "      <td>42</td>\n",
       "      <td>21565</td>\n",
       "      <td>1</td>\n",
       "      <td>2013</td>\n",
       "      <td>3.0</td>\n",
       "      <td>349.0</td>\n",
       "      <td>55</td>\n",
       "      <td>Музыка</td>\n",
       "      <td>СПб</td>\n",
       "    </tr>\n",
       "    <tr>\n",
       "      <th>42144</th>\n",
       "      <td>0</td>\n",
       "      <td>42</td>\n",
       "      <td>21571</td>\n",
       "      <td>1</td>\n",
       "      <td>2013</td>\n",
       "      <td>1.0</td>\n",
       "      <td>199.0</td>\n",
       "      <td>55</td>\n",
       "      <td>Музыка</td>\n",
       "      <td>СПб</td>\n",
       "    </tr>\n",
       "  </tbody>\n",
       "</table>\n",
       "</div>"
      ],
      "text/plain": [
       "       date_block_num  shop_id  item_id  month  year  item_cnt_month  \\\n",
       "0                   0        2       27      1  2013             1.0   \n",
       "42141               0       42    21553      1  2013             1.0   \n",
       "42142               0       42    21554      1  2013             1.0   \n",
       "42143               0       42    21565      1  2013             3.0   \n",
       "42144               0       42    21571      1  2013             1.0   \n",
       "\n",
       "       item_price  item_category_id glob_item_category    city  \n",
       "0          2499.0                19               Игры  Адыгея  \n",
       "42141       199.0                40               Кино     СПб  \n",
       "42142       199.0                40               Кино     СПб  \n",
       "42143       349.0                55             Музыка     СПб  \n",
       "42144       199.0                55             Музыка     СПб  "
      ]
     },
     "execution_count": 4,
     "metadata": {},
     "output_type": "execute_result"
    }
   ],
   "source": [
    "sales_train_ag_m.head()"
   ]
  },
  {
   "cell_type": "code",
   "execution_count": 5,
   "metadata": {},
   "outputs": [
    {
     "data": {
      "text/html": [
       "<div>\n",
       "<style scoped>\n",
       "    .dataframe tbody tr th:only-of-type {\n",
       "        vertical-align: middle;\n",
       "    }\n",
       "\n",
       "    .dataframe tbody tr th {\n",
       "        vertical-align: top;\n",
       "    }\n",
       "\n",
       "    .dataframe thead th {\n",
       "        text-align: right;\n",
       "    }\n",
       "</style>\n",
       "<table border=\"1\" class=\"dataframe\">\n",
       "  <thead>\n",
       "    <tr style=\"text-align: right;\">\n",
       "      <th></th>\n",
       "      <th>shop_id</th>\n",
       "      <th>item_id</th>\n",
       "      <th>month</th>\n",
       "      <th>year</th>\n",
       "      <th>item_category_id</th>\n",
       "      <th>glob_item_category</th>\n",
       "      <th>city</th>\n",
       "    </tr>\n",
       "  </thead>\n",
       "  <tbody>\n",
       "    <tr>\n",
       "      <th>0</th>\n",
       "      <td>5</td>\n",
       "      <td>5037</td>\n",
       "      <td>11</td>\n",
       "      <td>2015</td>\n",
       "      <td>19</td>\n",
       "      <td>Игры</td>\n",
       "      <td>Вологда</td>\n",
       "    </tr>\n",
       "    <tr>\n",
       "      <th>1</th>\n",
       "      <td>5</td>\n",
       "      <td>5320</td>\n",
       "      <td>11</td>\n",
       "      <td>2015</td>\n",
       "      <td>55</td>\n",
       "      <td>Музыка</td>\n",
       "      <td>Вологда</td>\n",
       "    </tr>\n",
       "    <tr>\n",
       "      <th>2</th>\n",
       "      <td>5</td>\n",
       "      <td>5233</td>\n",
       "      <td>11</td>\n",
       "      <td>2015</td>\n",
       "      <td>19</td>\n",
       "      <td>Игры</td>\n",
       "      <td>Вологда</td>\n",
       "    </tr>\n",
       "    <tr>\n",
       "      <th>3</th>\n",
       "      <td>5</td>\n",
       "      <td>5232</td>\n",
       "      <td>11</td>\n",
       "      <td>2015</td>\n",
       "      <td>23</td>\n",
       "      <td>Игры</td>\n",
       "      <td>Вологда</td>\n",
       "    </tr>\n",
       "    <tr>\n",
       "      <th>4</th>\n",
       "      <td>5</td>\n",
       "      <td>5268</td>\n",
       "      <td>11</td>\n",
       "      <td>2015</td>\n",
       "      <td>20</td>\n",
       "      <td>Игры</td>\n",
       "      <td>Вологда</td>\n",
       "    </tr>\n",
       "  </tbody>\n",
       "</table>\n",
       "</div>"
      ],
      "text/plain": [
       "   shop_id  item_id  month  year  item_category_id glob_item_category     city\n",
       "0        5     5037     11  2015                19               Игры  Вологда\n",
       "1        5     5320     11  2015                55             Музыка  Вологда\n",
       "2        5     5233     11  2015                19               Игры  Вологда\n",
       "3        5     5232     11  2015                23               Игры  Вологда\n",
       "4        5     5268     11  2015                20               Игры  Вологда"
      ]
     },
     "execution_count": 5,
     "metadata": {},
     "output_type": "execute_result"
    }
   ],
   "source": [
    "test_new.head()"
   ]
  },
  {
   "cell_type": "code",
   "execution_count": 46,
   "metadata": {},
   "outputs": [],
   "source": [
    "import pickle\n",
    "with open('.\\data\\X_sparse_train.pkl', 'rb') as f:\n",
    "    X_sparse_train = pickle.load(f)\n",
    "with open('.\\data\\X_sparse_test.pkl', 'rb') as f:\n",
    "    X_sparse_test = pickle.load(f)\n",
    "with open('.\\data\\y_train.pkl', 'rb') as f:\n",
    "    y_train = pickle.load(f)"
   ]
  },
  {
   "cell_type": "markdown",
   "metadata": {},
   "source": [
    "# Построение моделей обучения"
   ]
  },
  {
   "cell_type": "markdown",
   "metadata": {},
   "source": [
    "Так как в данной задаче нужно предсказывать колличество проданных товаров (целые числа) в диапазоне от 0 до 20, то будем рассматривать данную задачу, как задачу многоклассовой классификации с 21 классом."
   ]
  },
  {
   "cell_type": "markdown",
   "metadata": {},
   "source": [
    "## *Разобьем обучающие данные на обучающую и тестовые данные. Попробуем предсказывать результаты в октябре 2015 года"
   ]
  },
  {
   "cell_type": "code",
   "execution_count": 40,
   "metadata": {},
   "outputs": [
    {
     "data": {
      "text/plain": [
       "(1609123, 10)"
      ]
     },
     "execution_count": 40,
     "metadata": {},
     "output_type": "execute_result"
    }
   ],
   "source": [
    "sales_train_ag_m.shape"
   ]
  },
  {
   "cell_type": "code",
   "execution_count": 42,
   "metadata": {},
   "outputs": [
    {
     "data": {
      "text/plain": [
       "(1577592, 10)"
      ]
     },
     "execution_count": 42,
     "metadata": {},
     "output_type": "execute_result"
    }
   ],
   "source": [
    "sales_train_ag_m[sales_train_ag_m['date_block_num']!=33].shape"
   ]
  },
  {
   "cell_type": "code",
   "execution_count": 47,
   "metadata": {},
   "outputs": [
    {
     "data": {
      "text/plain": [
       "(1609123L, 22372L)"
      ]
     },
     "execution_count": 47,
     "metadata": {},
     "output_type": "execute_result"
    }
   ],
   "source": [
    "X_sparse_train.shape"
   ]
  },
  {
   "cell_type": "code",
   "execution_count": 59,
   "metadata": {},
   "outputs": [],
   "source": [
    "X_tr = X_sparse_train.tocsc()[:1577592]\n",
    "X_val = X_sparse_train.tocsc()[1577592:]\n",
    "y_tr = y_train[:1577592]\n",
    "y_val = y_train[1577592:]"
   ]
  },
  {
   "cell_type": "markdown",
   "metadata": {},
   "source": [
    "# 1) Базовое решение\n",
    "\n",
    "Будем считать, что продажи в ноябре 2015года точно такие же как продажи в октябре 2015 года. Построим Previous_value_benchmark модель."
   ]
  },
  {
   "cell_type": "code",
   "execution_count": 14,
   "metadata": {},
   "outputs": [
    {
     "data": {
      "text/html": [
       "<div>\n",
       "<style scoped>\n",
       "    .dataframe tbody tr th:only-of-type {\n",
       "        vertical-align: middle;\n",
       "    }\n",
       "\n",
       "    .dataframe tbody tr th {\n",
       "        vertical-align: top;\n",
       "    }\n",
       "\n",
       "    .dataframe thead th {\n",
       "        text-align: right;\n",
       "    }\n",
       "</style>\n",
       "<table border=\"1\" class=\"dataframe\">\n",
       "  <thead>\n",
       "    <tr style=\"text-align: right;\">\n",
       "      <th></th>\n",
       "      <th>item_id</th>\n",
       "      <th>shop_id</th>\n",
       "      <th>item_cnt_month</th>\n",
       "    </tr>\n",
       "  </thead>\n",
       "  <tbody>\n",
       "    <tr>\n",
       "      <th>1598611</th>\n",
       "      <td>5657</td>\n",
       "      <td>42</td>\n",
       "      <td>2.0</td>\n",
       "    </tr>\n",
       "    <tr>\n",
       "      <th>1598612</th>\n",
       "      <td>5659</td>\n",
       "      <td>42</td>\n",
       "      <td>1.0</td>\n",
       "    </tr>\n",
       "    <tr>\n",
       "      <th>1598613</th>\n",
       "      <td>5660</td>\n",
       "      <td>42</td>\n",
       "      <td>6.0</td>\n",
       "    </tr>\n",
       "    <tr>\n",
       "      <th>1598614</th>\n",
       "      <td>5661</td>\n",
       "      <td>42</td>\n",
       "      <td>1.0</td>\n",
       "    </tr>\n",
       "    <tr>\n",
       "      <th>1598619</th>\n",
       "      <td>5671</td>\n",
       "      <td>42</td>\n",
       "      <td>6.0</td>\n",
       "    </tr>\n",
       "  </tbody>\n",
       "</table>\n",
       "</div>"
      ],
      "text/plain": [
       "         item_id  shop_id  item_cnt_month\n",
       "1598611     5657       42             2.0\n",
       "1598612     5659       42             1.0\n",
       "1598613     5660       42             6.0\n",
       "1598614     5661       42             1.0\n",
       "1598619     5671       42             6.0"
      ]
     },
     "execution_count": 14,
     "metadata": {},
     "output_type": "execute_result"
    }
   ],
   "source": [
    "Previous_value_data = sales_train_ag_m[sales_train_ag_m[\"date_block_num\"]==33][['item_id','shop_id', \"item_cnt_month\"]]\n",
    "Previous_value_data.head()"
   ]
  },
  {
   "cell_type": "code",
   "execution_count": 22,
   "metadata": {},
   "outputs": [
    {
     "data": {
      "text/plain": [
       "1.0     21351\n",
       "2.0      5071\n",
       "3.0      1907\n",
       "4.0       959\n",
       "5.0       582\n",
       "6.0       341\n",
       "20.0      261\n",
       "7.0       226\n",
       "8.0       158\n",
       "9.0       138\n",
       "10.0      103\n",
       "11.0       65\n",
       "12.0       63\n",
       "0.0        59\n",
       "13.0       54\n",
       "15.0       50\n",
       "14.0       46\n",
       "16.0       34\n",
       "18.0       25\n",
       "17.0       21\n",
       "19.0       17\n",
       "Name: item_cnt_month, dtype: int64"
      ]
     },
     "execution_count": 22,
     "metadata": {},
     "output_type": "execute_result"
    }
   ],
   "source": [
    "Previous_value_data['item_cnt_month'].clip(0,20,inplace=True)\n",
    "Previous_value_data['item_cnt_month'].value_counts()"
   ]
  },
  {
   "cell_type": "code",
   "execution_count": 23,
   "metadata": {},
   "outputs": [
    {
     "data": {
      "text/plain": [
       "(214200, 7)"
      ]
     },
     "execution_count": 23,
     "metadata": {},
     "output_type": "execute_result"
    }
   ],
   "source": [
    "test_new.shape"
   ]
  },
  {
   "cell_type": "code",
   "execution_count": 24,
   "metadata": {},
   "outputs": [
    {
     "name": "stdout",
     "output_type": "stream",
     "text": [
      "(214200, 8)\n"
     ]
    }
   ],
   "source": [
    "Previous_value_pred = pd.merge(test_new, Previous_value_data, how='left', left_on=[\"shop_id\",\"item_id\"], right_on = [\"shop_id\",\"item_id\"])\n",
    "print(Previous_value_pred.shape)"
   ]
  },
  {
   "cell_type": "code",
   "execution_count": 25,
   "metadata": {},
   "outputs": [
    {
     "data": {
      "text/html": [
       "<div>\n",
       "<style scoped>\n",
       "    .dataframe tbody tr th:only-of-type {\n",
       "        vertical-align: middle;\n",
       "    }\n",
       "\n",
       "    .dataframe tbody tr th {\n",
       "        vertical-align: top;\n",
       "    }\n",
       "\n",
       "    .dataframe thead th {\n",
       "        text-align: right;\n",
       "    }\n",
       "</style>\n",
       "<table border=\"1\" class=\"dataframe\">\n",
       "  <thead>\n",
       "    <tr style=\"text-align: right;\">\n",
       "      <th></th>\n",
       "      <th>shop_id</th>\n",
       "      <th>item_id</th>\n",
       "      <th>month</th>\n",
       "      <th>year</th>\n",
       "      <th>item_category_id</th>\n",
       "      <th>glob_item_category</th>\n",
       "      <th>city</th>\n",
       "      <th>item_cnt_month</th>\n",
       "    </tr>\n",
       "  </thead>\n",
       "  <tbody>\n",
       "    <tr>\n",
       "      <th>0</th>\n",
       "      <td>5</td>\n",
       "      <td>5037</td>\n",
       "      <td>11</td>\n",
       "      <td>2015</td>\n",
       "      <td>19</td>\n",
       "      <td>Игры</td>\n",
       "      <td>Вологда</td>\n",
       "      <td>NaN</td>\n",
       "    </tr>\n",
       "    <tr>\n",
       "      <th>1</th>\n",
       "      <td>5</td>\n",
       "      <td>5320</td>\n",
       "      <td>11</td>\n",
       "      <td>2015</td>\n",
       "      <td>55</td>\n",
       "      <td>Музыка</td>\n",
       "      <td>Вологда</td>\n",
       "      <td>NaN</td>\n",
       "    </tr>\n",
       "    <tr>\n",
       "      <th>2</th>\n",
       "      <td>5</td>\n",
       "      <td>5233</td>\n",
       "      <td>11</td>\n",
       "      <td>2015</td>\n",
       "      <td>19</td>\n",
       "      <td>Игры</td>\n",
       "      <td>Вологда</td>\n",
       "      <td>1.0</td>\n",
       "    </tr>\n",
       "    <tr>\n",
       "      <th>3</th>\n",
       "      <td>5</td>\n",
       "      <td>5232</td>\n",
       "      <td>11</td>\n",
       "      <td>2015</td>\n",
       "      <td>23</td>\n",
       "      <td>Игры</td>\n",
       "      <td>Вологда</td>\n",
       "      <td>NaN</td>\n",
       "    </tr>\n",
       "    <tr>\n",
       "      <th>4</th>\n",
       "      <td>5</td>\n",
       "      <td>5268</td>\n",
       "      <td>11</td>\n",
       "      <td>2015</td>\n",
       "      <td>20</td>\n",
       "      <td>Игры</td>\n",
       "      <td>Вологда</td>\n",
       "      <td>NaN</td>\n",
       "    </tr>\n",
       "  </tbody>\n",
       "</table>\n",
       "</div>"
      ],
      "text/plain": [
       "   shop_id  item_id  month  year  item_category_id glob_item_category  \\\n",
       "0        5     5037     11  2015                19               Игры   \n",
       "1        5     5320     11  2015                55             Музыка   \n",
       "2        5     5233     11  2015                19               Игры   \n",
       "3        5     5232     11  2015                23               Игры   \n",
       "4        5     5268     11  2015                20               Игры   \n",
       "\n",
       "      city  item_cnt_month  \n",
       "0  Вологда             NaN  \n",
       "1  Вологда             NaN  \n",
       "2  Вологда             1.0  \n",
       "3  Вологда             NaN  \n",
       "4  Вологда             NaN  "
      ]
     },
     "execution_count": 25,
     "metadata": {},
     "output_type": "execute_result"
    }
   ],
   "source": [
    "Previous_value_pred.head()"
   ]
  },
  {
   "cell_type": "code",
   "execution_count": 20,
   "metadata": {},
   "outputs": [
    {
     "data": {
      "text/plain": [
       "28680"
      ]
     },
     "execution_count": 20,
     "metadata": {},
     "output_type": "execute_result"
    }
   ],
   "source": [
    "Previous_value_pred['item_cnt_month'].count() #видим, что смогли предсказать всего 28680 товаров из 214200"
   ]
  },
  {
   "cell_type": "code",
   "execution_count": 27,
   "metadata": {},
   "outputs": [
    {
     "data": {
      "text/plain": [
       "1.0     19264\n",
       "2.0      4830\n",
       "3.0      1806\n",
       "4.0       880\n",
       "5.0       505\n",
       "6.0       311\n",
       "7.0       199\n",
       "20.0      197\n",
       "8.0       136\n",
       "9.0       115\n",
       "10.0       74\n",
       "11.0       56\n",
       "0.0        53\n",
       "12.0       52\n",
       "13.0       47\n",
       "14.0       40\n",
       "15.0       35\n",
       "16.0       28\n",
       "18.0       21\n",
       "17.0       19\n",
       "19.0       12\n",
       "Name: item_cnt_month, dtype: int64"
      ]
     },
     "execution_count": 27,
     "metadata": {},
     "output_type": "execute_result"
    }
   ],
   "source": [
    "Previous_value_pred['item_cnt_month'].value_counts()"
   ]
  },
  {
   "cell_type": "markdown",
   "metadata": {},
   "source": [
    "Заполним остальные значения, которые не смогли предсказать самым распространенным классом т.е единицей"
   ]
  },
  {
   "cell_type": "code",
   "execution_count": 28,
   "metadata": {},
   "outputs": [
    {
     "data": {
      "text/plain": [
       "1.0     204784\n",
       "2.0       4830\n",
       "3.0       1806\n",
       "4.0        880\n",
       "5.0        505\n",
       "6.0        311\n",
       "7.0        199\n",
       "20.0       197\n",
       "8.0        136\n",
       "9.0        115\n",
       "10.0        74\n",
       "11.0        56\n",
       "0.0         53\n",
       "12.0        52\n",
       "13.0        47\n",
       "14.0        40\n",
       "15.0        35\n",
       "16.0        28\n",
       "18.0        21\n",
       "17.0        19\n",
       "19.0        12\n",
       "Name: item_cnt_month, dtype: int64"
      ]
     },
     "execution_count": 28,
     "metadata": {},
     "output_type": "execute_result"
    }
   ],
   "source": [
    "Previous_value_pred.fillna(1,inplace=True)\n",
    "Previous_value_pred['item_cnt_month'].value_counts()"
   ]
  },
  {
   "cell_type": "code",
   "execution_count": 36,
   "metadata": {},
   "outputs": [],
   "source": [
    "Previous_value_pred['ID'] = Previous_value_pred.index"
   ]
  },
  {
   "cell_type": "code",
   "execution_count": 37,
   "metadata": {},
   "outputs": [
    {
     "data": {
      "text/html": [
       "<div>\n",
       "<style scoped>\n",
       "    .dataframe tbody tr th:only-of-type {\n",
       "        vertical-align: middle;\n",
       "    }\n",
       "\n",
       "    .dataframe tbody tr th {\n",
       "        vertical-align: top;\n",
       "    }\n",
       "\n",
       "    .dataframe thead th {\n",
       "        text-align: right;\n",
       "    }\n",
       "</style>\n",
       "<table border=\"1\" class=\"dataframe\">\n",
       "  <thead>\n",
       "    <tr style=\"text-align: right;\">\n",
       "      <th></th>\n",
       "      <th>shop_id</th>\n",
       "      <th>item_id</th>\n",
       "      <th>month</th>\n",
       "      <th>year</th>\n",
       "      <th>item_category_id</th>\n",
       "      <th>glob_item_category</th>\n",
       "      <th>city</th>\n",
       "      <th>item_cnt_month</th>\n",
       "      <th>ID</th>\n",
       "    </tr>\n",
       "  </thead>\n",
       "  <tbody>\n",
       "    <tr>\n",
       "      <th>0</th>\n",
       "      <td>5</td>\n",
       "      <td>5037</td>\n",
       "      <td>11</td>\n",
       "      <td>2015</td>\n",
       "      <td>19</td>\n",
       "      <td>Игры</td>\n",
       "      <td>Вологда</td>\n",
       "      <td>1.0</td>\n",
       "      <td>0</td>\n",
       "    </tr>\n",
       "    <tr>\n",
       "      <th>1</th>\n",
       "      <td>5</td>\n",
       "      <td>5320</td>\n",
       "      <td>11</td>\n",
       "      <td>2015</td>\n",
       "      <td>55</td>\n",
       "      <td>Музыка</td>\n",
       "      <td>Вологда</td>\n",
       "      <td>1.0</td>\n",
       "      <td>1</td>\n",
       "    </tr>\n",
       "    <tr>\n",
       "      <th>2</th>\n",
       "      <td>5</td>\n",
       "      <td>5233</td>\n",
       "      <td>11</td>\n",
       "      <td>2015</td>\n",
       "      <td>19</td>\n",
       "      <td>Игры</td>\n",
       "      <td>Вологда</td>\n",
       "      <td>1.0</td>\n",
       "      <td>2</td>\n",
       "    </tr>\n",
       "    <tr>\n",
       "      <th>3</th>\n",
       "      <td>5</td>\n",
       "      <td>5232</td>\n",
       "      <td>11</td>\n",
       "      <td>2015</td>\n",
       "      <td>23</td>\n",
       "      <td>Игры</td>\n",
       "      <td>Вологда</td>\n",
       "      <td>1.0</td>\n",
       "      <td>3</td>\n",
       "    </tr>\n",
       "    <tr>\n",
       "      <th>4</th>\n",
       "      <td>5</td>\n",
       "      <td>5268</td>\n",
       "      <td>11</td>\n",
       "      <td>2015</td>\n",
       "      <td>20</td>\n",
       "      <td>Игры</td>\n",
       "      <td>Вологда</td>\n",
       "      <td>1.0</td>\n",
       "      <td>4</td>\n",
       "    </tr>\n",
       "  </tbody>\n",
       "</table>\n",
       "</div>"
      ],
      "text/plain": [
       "   shop_id  item_id  month  year  item_category_id glob_item_category  \\\n",
       "0        5     5037     11  2015                19               Игры   \n",
       "1        5     5320     11  2015                55             Музыка   \n",
       "2        5     5233     11  2015                19               Игры   \n",
       "3        5     5232     11  2015                23               Игры   \n",
       "4        5     5268     11  2015                20               Игры   \n",
       "\n",
       "      city  item_cnt_month  ID  \n",
       "0  Вологда             1.0   0  \n",
       "1  Вологда             1.0   1  \n",
       "2  Вологда             1.0   2  \n",
       "3  Вологда             1.0   3  \n",
       "4  Вологда             1.0   4  "
      ]
     },
     "execution_count": 37,
     "metadata": {},
     "output_type": "execute_result"
    }
   ],
   "source": [
    "Previous_value_pred.head()"
   ]
  },
  {
   "cell_type": "code",
   "execution_count": 38,
   "metadata": {},
   "outputs": [],
   "source": [
    "Previous_value_pred[['ID','item_cnt_month']].to_csv('submission.csv',index=False) \n",
    "\n",
    "#score 1.39, если заполнять пропуски нулями, то оценка 1.16"
   ]
  },
  {
   "cell_type": "code",
   "execution_count": 35,
   "metadata": {},
   "outputs": [
    {
     "data": {
      "text/html": [
       "<div>\n",
       "<style scoped>\n",
       "    .dataframe tbody tr th:only-of-type {\n",
       "        vertical-align: middle;\n",
       "    }\n",
       "\n",
       "    .dataframe tbody tr th {\n",
       "        vertical-align: top;\n",
       "    }\n",
       "\n",
       "    .dataframe thead th {\n",
       "        text-align: right;\n",
       "    }\n",
       "</style>\n",
       "<table border=\"1\" class=\"dataframe\">\n",
       "  <thead>\n",
       "    <tr style=\"text-align: right;\">\n",
       "      <th></th>\n",
       "      <th>item_cnt_month</th>\n",
       "    </tr>\n",
       "    <tr>\n",
       "      <th>ID</th>\n",
       "      <th></th>\n",
       "    </tr>\n",
       "  </thead>\n",
       "  <tbody>\n",
       "    <tr>\n",
       "      <th>0</th>\n",
       "      <td>0.5</td>\n",
       "    </tr>\n",
       "    <tr>\n",
       "      <th>1</th>\n",
       "      <td>0.5</td>\n",
       "    </tr>\n",
       "    <tr>\n",
       "      <th>2</th>\n",
       "      <td>0.5</td>\n",
       "    </tr>\n",
       "    <tr>\n",
       "      <th>3</th>\n",
       "      <td>0.5</td>\n",
       "    </tr>\n",
       "    <tr>\n",
       "      <th>4</th>\n",
       "      <td>0.5</td>\n",
       "    </tr>\n",
       "  </tbody>\n",
       "</table>\n",
       "</div>"
      ],
      "text/plain": [
       "    item_cnt_month\n",
       "ID                \n",
       "0              0.5\n",
       "1              0.5\n",
       "2              0.5\n",
       "3              0.5\n",
       "4              0.5"
      ]
     },
     "execution_count": 35,
     "metadata": {},
     "output_type": "execute_result"
    }
   ],
   "source": [
    "submission = pd.read_csv('.\\data\\\\sample_submission.csv', index_col=0)  \n",
    "submission.head()"
   ]
  },
  {
   "cell_type": "markdown",
   "metadata": {},
   "source": [
    "Попробуем построить модель, которая будет превосходить качество MSE = 1.16, полученное для Previous_value_benchmark модели"
   ]
  },
  {
   "cell_type": "markdown",
   "metadata": {},
   "source": [
    "# 2) PCA (снижение размерности данных)"
   ]
  },
  {
   "cell_type": "code",
   "execution_count": 70,
   "metadata": {},
   "outputs": [
    {
     "data": {
      "text/plain": [
       "(1577592, 22372)"
      ]
     },
     "execution_count": 70,
     "metadata": {},
     "output_type": "execute_result"
    }
   ],
   "source": [
    "X_tr.shape"
   ]
  },
  {
   "cell_type": "code",
   "execution_count": 72,
   "metadata": {},
   "outputs": [
    {
     "data": {
      "text/plain": [
       "array([0.01630939, 0.06696476, 0.06398931, 0.0539004 , 0.04193671,\n",
       "       0.03674792, 0.02581724, 0.01890698, 0.01679816, 0.01598106,\n",
       "       0.01578382, 0.01520302, 0.01434516, 0.01415863, 0.0140989 ,\n",
       "       0.01390913, 0.01371938, 0.01290835, 0.01284216, 0.01260276,\n",
       "       0.01183955, 0.01174064, 0.01036972, 0.01009546, 0.00977398,\n",
       "       0.00957145, 0.0089397 , 0.00861004, 0.00836326, 0.00768269,\n",
       "       0.00765518, 0.00747585, 0.00741647, 0.00737028, 0.00722508,\n",
       "       0.00677323, 0.00648216, 0.00642854, 0.00608415, 0.00579655,\n",
       "       0.0057351 , 0.00548333, 0.00542333, 0.00533645, 0.00528025,\n",
       "       0.00516335, 0.0050527 , 0.00495527, 0.00486297, 0.00477543,\n",
       "       0.00451981, 0.00441068, 0.00426821, 0.00421267, 0.0038521 ,\n",
       "       0.00356284, 0.00351258, 0.0034172 , 0.00335697, 0.00329302,\n",
       "       0.00325701, 0.00321547, 0.00313723, 0.00306551, 0.00304674,\n",
       "       0.00298734, 0.00298281, 0.00293838, 0.00290254, 0.0027679 ,\n",
       "       0.00274478, 0.00270295, 0.0025641 , 0.00254786, 0.0025331 ,\n",
       "       0.00222451, 0.00201495, 0.00199227, 0.0018886 , 0.00176315,\n",
       "       0.0016967 , 0.00160854, 0.00159268, 0.00156483, 0.00155406,\n",
       "       0.00155207, 0.00144847, 0.00135371, 0.00130772, 0.00107445,\n",
       "       0.00098329, 0.00096039, 0.00095584, 0.0008168 , 0.00078823,\n",
       "       0.00075416, 0.00064859, 0.00062726, 0.00062575, 0.00061352])"
      ]
     },
     "execution_count": 72,
     "metadata": {},
     "output_type": "execute_result"
    }
   ],
   "source": [
    "from sklearn.decomposition import TruncatedSVD\n",
    "model = TruncatedSVD(n_components=100, random_state=42)\n",
    "model.fit(X_tr)\n",
    "model.explained_variance_ratio_ #массив, который показывает сколько дисперсии объясняет каждая компонента"
   ]
  },
  {
   "cell_type": "code",
   "execution_count": 80,
   "metadata": {},
   "outputs": [],
   "source": [
    "with open('.\\data\\model_pca.pkl', 'wb') as f:\n",
    "    pickle.dump(model,f, protocol=2)"
   ]
  },
  {
   "cell_type": "code",
   "execution_count": 73,
   "metadata": {},
   "outputs": [],
   "source": [
    "X_tr_svd = model.transform(X_tr)"
   ]
  },
  {
   "cell_type": "code",
   "execution_count": 74,
   "metadata": {},
   "outputs": [],
   "source": [
    "X_val_svd = model.transform(X_val)"
   ]
  },
  {
   "cell_type": "markdown",
   "metadata": {},
   "source": [
    "# 3) Логистическая регрессия"
   ]
  },
  {
   "cell_type": "code",
   "execution_count": 78,
   "metadata": {},
   "outputs": [],
   "source": [
    "from sklearn.linear_model import LogisticRegression\n",
    "c = 0.1 #параметр регуляризации, т.е насколько сильная регуляризация\n",
    "log_reg = LogisticRegression(C=c, penalty='l2', solver='lbfgs',class_weight='balanced', multi_class = 'multinomial')\n",
    "from sklearn.model_selection import TimeSeriesSplit #для данных с временной привязкой\n",
    "rang = TimeSeriesSplit(n_splits=5, max_train_size=None)"
   ]
  },
  {
   "cell_type": "code",
   "execution_count": null,
   "metadata": {},
   "outputs": [],
   "source": [
    "from sklearn.model_selection import cross_val_score \n",
    "score = cross_val_score(estimator=log_reg, X=X_tr_svd, y=y_tr, cv=rang,scoring='neg_mean_squared_error') \n",
    "score.mean() #средняя оценка score.std() #разброс по оценкам"
   ]
  }
 ],
 "metadata": {
  "kernelspec": {
   "display_name": "Python 3",
   "language": "python",
   "name": "python3"
  },
  "language_info": {
   "codemirror_mode": {
    "name": "ipython",
    "version": 3
   },
   "file_extension": ".py",
   "mimetype": "text/x-python",
   "name": "python",
   "nbconvert_exporter": "python",
   "pygments_lexer": "ipython3",
   "version": "3.7.7"
  }
 },
 "nbformat": 4,
 "nbformat_minor": 2
}
