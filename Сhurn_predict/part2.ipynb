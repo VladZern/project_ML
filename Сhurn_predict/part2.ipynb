{
 "cells": [
  {
   "cell_type": "markdown",
   "metadata": {},
   "source": [
    "## Финальный проект: Прогнозирование оттока клиентов\n",
    "\n",
    "## Неделя 2: Построение Baseline решения"
   ]
  },
  {
   "cell_type": "code",
   "execution_count": 1,
   "metadata": {},
   "outputs": [],
   "source": [
    "import pandas as pd\n",
    "import numpy as np\n",
    "import random\n",
    "import os\n",
    "from statsmodels.stats.weightstats import *\n",
    "from statsmodels.stats.proportion import proportion_confint\n",
    "import itertools\n",
    "from matplotlib import pyplot as plt\n",
    "import seaborn as sns\n",
    "%matplotlib inline"
   ]
  },
  {
   "cell_type": "code",
   "execution_count": 2,
   "metadata": {},
   "outputs": [],
   "source": [
    "PATH = '.\\\\telecom_clients_prediction'\n",
    "test = pd.read_csv(os.path.join(PATH,'orange_small_churn_test_data.csv'), index_col='ID')\n",
    "train = pd.read_csv(os.path.join(PATH,'orange_small_churn_train_data.csv'), index_col='ID')"
   ]
  },
  {
   "cell_type": "code",
   "execution_count": 3,
   "metadata": {},
   "outputs": [
    {
     "name": "stdout",
     "output_type": "stream",
     "text": [
      "(10000, 230)\n",
      "(18299, 231)\n"
     ]
    }
   ],
   "source": [
    "print(test.shape)\n",
    "print(train.shape)"
   ]
  },
  {
   "cell_type": "code",
   "execution_count": 4,
   "metadata": {},
   "outputs": [],
   "source": [
    "data = train.drop('labels',axis=1)\n",
    "target = train['labels']"
   ]
  },
  {
   "cell_type": "code",
   "execution_count": 5,
   "metadata": {},
   "outputs": [],
   "source": [
    "features_num = data.columns[0:190].tolist()\n",
    "features_cat = data.columns[190:].tolist()"
   ]
  },
  {
   "cell_type": "code",
   "execution_count": 6,
   "metadata": {},
   "outputs": [
    {
     "name": "stdout",
     "output_type": "stream",
     "text": [
      "190\n",
      "40\n"
     ]
    }
   ],
   "source": [
    "print(len(features_num))\n",
    "print(len(features_cat))"
   ]
  },
  {
   "cell_type": "code",
   "execution_count": 7,
   "metadata": {},
   "outputs": [],
   "source": [
    "target = pd.DataFrame(target)\n",
    "target['labels'] = target['labels'].map({-1:0, 1:1})"
   ]
  },
  {
   "cell_type": "code",
   "execution_count": 8,
   "metadata": {},
   "outputs": [],
   "source": [
    "data = data[:-1]\n",
    "target = target[:-1]"
   ]
  },
  {
   "cell_type": "code",
   "execution_count": 9,
   "metadata": {},
   "outputs": [
    {
     "name": "stdout",
     "output_type": "stream",
     "text": [
      "(18298, 230)\n",
      "(18298, 1)\n"
     ]
    }
   ],
   "source": [
    "print(data.shape)\n",
    "print(target.shape)"
   ]
  },
  {
   "cell_type": "markdown",
   "metadata": {},
   "source": [
    "# Доли классов (отток-не отток)"
   ]
  },
  {
   "cell_type": "code",
   "execution_count": 215,
   "metadata": {},
   "outputs": [
    {
     "name": "stdout",
     "output_type": "stream",
     "text": [
      "churn: 0.9247458738659963\n",
      "no_churn: 0.07525412613400372\n"
     ]
    }
   ],
   "source": [
    "print('churn:', len(target[target['labels']==0])/len(target['labels']))\n",
    "print('no_churn:', len(target[target['labels']==1])/len(target['labels']))"
   ]
  },
  {
   "cell_type": "markdown",
   "metadata": {},
   "source": [
    "# Числовые признаки"
   ]
  },
  {
   "cell_type": "code",
   "execution_count": 10,
   "metadata": {},
   "outputs": [],
   "source": [
    "data_num = data[features_num]"
   ]
  },
  {
   "cell_type": "code",
   "execution_count": 11,
   "metadata": {},
   "outputs": [
    {
     "name": "stdout",
     "output_type": "stream",
     "text": [
      "19\n",
      "22\n",
      "65\n",
      "148\n",
      "41\n",
      "3\n"
     ]
    }
   ],
   "source": [
    "print(len(data_num.columns[data_num.isnull().sum()>18200])) #признаки с более чем 18200 пропущенными значениями\n",
    "print(len(data_num.columns[data_num.isnull().sum()>18100]))\n",
    "print(len(data_num.columns[data_num.isnull().sum()>18000]))\n",
    "print(len(data_num.columns[data_num.isnull().sum()>16000])) \n",
    "print(len(data_num.columns[data_num.isnull().sum()<9000]))\n",
    "print(len(data_num.columns[data_num.isnull().sum()<1000])) "
   ]
  },
  {
   "cell_type": "code",
   "execution_count": 12,
   "metadata": {},
   "outputs": [],
   "source": [
    "set_more_18200 = set(data_num.columns[data_num.isnull().sum()>18200])\n",
    "set_more_18100 = set(data_num.columns[data_num.isnull().sum()>18100])\n",
    "set_more_18000 = set(data_num.columns[data_num.isnull().sum()>18000])  \n",
    "set_more_16000 = set(data_num.columns[data_num.isnull().sum()>16000])\n",
    "set_less_18000 = set(data_num.columns[data_num.isnull().sum()<18000])  \n",
    "set_less_9000 = set(data_num.columns[data_num.isnull().sum()<9000])\n",
    "set_less_1000 = set(data_num.columns[data_num.isnull().sum()<1000])"
   ]
  },
  {
   "cell_type": "markdown",
   "metadata": {},
   "source": [
    "Удалим признаки с более чем 18000 пропусков."
   ]
  },
  {
   "cell_type": "code",
   "execution_count": 13,
   "metadata": {},
   "outputs": [],
   "source": [
    "data_num = data_num[set_less_18000]"
   ]
  },
  {
   "cell_type": "markdown",
   "metadata": {},
   "source": [
    "Много пропусков. Будем считать корреляции признаков с целевой переменной, как разность мат ожиданий и отберем только те признаки уровень значимости p для которых меньше 0.05 при проверке гипотезы о том, что распределения классов разные"
   ]
  },
  {
   "cell_type": "code",
   "execution_count": 14,
   "metadata": {},
   "outputs": [],
   "source": [
    "corr_num = data_num[target['labels']==1].mean() - data_num[target['labels']==0].mean() #разность мат ожиданий классов"
   ]
  },
  {
   "cell_type": "code",
   "execution_count": 15,
   "metadata": {},
   "outputs": [
    {
     "data": {
      "text/html": [
       "<div>\n",
       "<style scoped>\n",
       "    .dataframe tbody tr th:only-of-type {\n",
       "        vertical-align: middle;\n",
       "    }\n",
       "\n",
       "    .dataframe tbody tr th {\n",
       "        vertical-align: top;\n",
       "    }\n",
       "\n",
       "    .dataframe thead th {\n",
       "        text-align: right;\n",
       "    }\n",
       "</style>\n",
       "<table border=\"1\" class=\"dataframe\">\n",
       "  <thead>\n",
       "    <tr style=\"text-align: right;\">\n",
       "      <th></th>\n",
       "      <th>mean_diff</th>\n",
       "      <th>p_value</th>\n",
       "    </tr>\n",
       "  </thead>\n",
       "  <tbody>\n",
       "    <tr>\n",
       "      <th>Var67</th>\n",
       "      <td>0.000000</td>\n",
       "      <td>-1.000000e+00</td>\n",
       "    </tr>\n",
       "    <tr>\n",
       "      <th>Var189</th>\n",
       "      <td>-44.351848</td>\n",
       "      <td>5.151733e-36</td>\n",
       "    </tr>\n",
       "    <tr>\n",
       "      <th>Var74</th>\n",
       "      <td>-53.217041</td>\n",
       "      <td>1.215318e-32</td>\n",
       "    </tr>\n",
       "    <tr>\n",
       "      <th>Var13</th>\n",
       "      <td>-464.307878</td>\n",
       "      <td>2.163432e-28</td>\n",
       "    </tr>\n",
       "    <tr>\n",
       "      <th>Var7</th>\n",
       "      <td>-1.629618</td>\n",
       "      <td>2.017203e-24</td>\n",
       "    </tr>\n",
       "  </tbody>\n",
       "</table>\n",
       "</div>"
      ],
      "text/plain": [
       "         mean_diff       p_value\n",
       "Var67     0.000000 -1.000000e+00\n",
       "Var189  -44.351848  5.151733e-36\n",
       "Var74   -53.217041  1.215318e-32\n",
       "Var13  -464.307878  2.163432e-28\n",
       "Var7     -1.629618  2.017203e-24"
      ]
     },
     "execution_count": 15,
     "metadata": {},
     "output_type": "execute_result"
    }
   ],
   "source": [
    "# проверим, значимо ли отличаются средние для обоих классов в каждом признаке\n",
    "# H0 - распределения совпадают\n",
    "# H1 - H0 - неверна\n",
    "p_values = list()\n",
    "for i,feat in enumerate(set_less_18000):\n",
    "    label0 = data_num.loc[target.labels == 0, feat].dropna()\n",
    "    label1 = data_num.loc[target.labels == 1, feat].dropna()\n",
    "    if len(label0) < 10 or len(label1) < 10:\n",
    "        p_value = 1\n",
    "    else:\n",
    "        try:\n",
    "            p_value = stats.mannwhitneyu(label0, label1)[1]\n",
    "        except ValueError:\n",
    "            p_value = -1\n",
    "    p_values.append(p_value)\n",
    "\n",
    "# сохраним разности матожиданий и значимости в отдельный датафрейм. и сразу отсортируем.\n",
    "mns_and_ps = pd.DataFrame({'mean_diff': corr_num, 'p_value': p_values}).sort_values('p_value')\n",
    "\n",
    "mns_and_ps.head()"
   ]
  },
  {
   "cell_type": "code",
   "execution_count": 16,
   "metadata": {},
   "outputs": [],
   "source": [
    "mns_and_ps['null_count:'] = list(data_num[corr_num.index].isnull().sum())"
   ]
  },
  {
   "cell_type": "code",
   "execution_count": 17,
   "metadata": {},
   "outputs": [
    {
     "data": {
      "text/html": [
       "<div>\n",
       "<style scoped>\n",
       "    .dataframe tbody tr th:only-of-type {\n",
       "        vertical-align: middle;\n",
       "    }\n",
       "\n",
       "    .dataframe tbody tr th {\n",
       "        vertical-align: top;\n",
       "    }\n",
       "\n",
       "    .dataframe thead th {\n",
       "        text-align: right;\n",
       "    }\n",
       "</style>\n",
       "<table border=\"1\" class=\"dataframe\">\n",
       "  <thead>\n",
       "    <tr style=\"text-align: right;\">\n",
       "      <th></th>\n",
       "      <th>mean_diff</th>\n",
       "      <th>p_value</th>\n",
       "      <th>null_count:</th>\n",
       "    </tr>\n",
       "  </thead>\n",
       "  <tbody>\n",
       "    <tr>\n",
       "      <th>Var67</th>\n",
       "      <td>0.000000</td>\n",
       "      <td>-1.000000e+00</td>\n",
       "      <td>0</td>\n",
       "    </tr>\n",
       "    <tr>\n",
       "      <th>Var189</th>\n",
       "      <td>-44.351848</td>\n",
       "      <td>5.151733e-36</td>\n",
       "      <td>17798</td>\n",
       "    </tr>\n",
       "    <tr>\n",
       "      <th>Var74</th>\n",
       "      <td>-53.217041</td>\n",
       "      <td>1.215318e-32</td>\n",
       "      <td>1792</td>\n",
       "    </tr>\n",
       "    <tr>\n",
       "      <th>Var13</th>\n",
       "      <td>-464.307878</td>\n",
       "      <td>2.163432e-28</td>\n",
       "      <td>17798</td>\n",
       "    </tr>\n",
       "    <tr>\n",
       "      <th>Var7</th>\n",
       "      <td>-1.629618</td>\n",
       "      <td>2.017203e-24</td>\n",
       "      <td>1792</td>\n",
       "    </tr>\n",
       "    <tr>\n",
       "      <th>Var140</th>\n",
       "      <td>-476.387318</td>\n",
       "      <td>4.374723e-23</td>\n",
       "      <td>17831</td>\n",
       "    </tr>\n",
       "    <tr>\n",
       "      <th>Var125</th>\n",
       "      <td>-4620.962359</td>\n",
       "      <td>5.338340e-19</td>\n",
       "      <td>8162</td>\n",
       "    </tr>\n",
       "    <tr>\n",
       "      <th>Var73</th>\n",
       "      <td>-14.330625</td>\n",
       "      <td>5.467037e-18</td>\n",
       "      <td>17798</td>\n",
       "    </tr>\n",
       "    <tr>\n",
       "      <th>Var144</th>\n",
       "      <td>-2.439151</td>\n",
       "      <td>4.017486e-13</td>\n",
       "      <td>1976</td>\n",
       "    </tr>\n",
       "    <tr>\n",
       "      <th>Var65</th>\n",
       "      <td>-1.700608</td>\n",
       "      <td>6.899475e-13</td>\n",
       "      <td>1792</td>\n",
       "    </tr>\n",
       "    <tr>\n",
       "      <th>Var6</th>\n",
       "      <td>-256.865115</td>\n",
       "      <td>9.241568e-13</td>\n",
       "      <td>17798</td>\n",
       "    </tr>\n",
       "    <tr>\n",
       "      <th>Var126</th>\n",
       "      <td>4.308840</td>\n",
       "      <td>2.844570e-12</td>\n",
       "      <td>17798</td>\n",
       "    </tr>\n",
       "    <tr>\n",
       "      <th>Var113</th>\n",
       "      <td>166716.849658</td>\n",
       "      <td>2.268347e-09</td>\n",
       "      <td>17830</td>\n",
       "    </tr>\n",
       "    <tr>\n",
       "      <th>Var81</th>\n",
       "      <td>14914.461718</td>\n",
       "      <td>4.251783e-08</td>\n",
       "      <td>1792</td>\n",
       "    </tr>\n",
       "    <tr>\n",
       "      <th>Var72</th>\n",
       "      <td>-0.393625</td>\n",
       "      <td>1.335791e-06</td>\n",
       "      <td>17798</td>\n",
       "    </tr>\n",
       "    <tr>\n",
       "      <th>Var119</th>\n",
       "      <td>-113.618601</td>\n",
       "      <td>8.491135e-06</td>\n",
       "      <td>1991</td>\n",
       "    </tr>\n",
       "    <tr>\n",
       "      <th>Var112</th>\n",
       "      <td>-7.173885</td>\n",
       "      <td>2.769919e-05</td>\n",
       "      <td>1991</td>\n",
       "    </tr>\n",
       "    <tr>\n",
       "      <th>Var160</th>\n",
       "      <td>-5.559410</td>\n",
       "      <td>1.169982e-04</td>\n",
       "      <td>17989</td>\n",
       "    </tr>\n",
       "    <tr>\n",
       "      <th>Var19</th>\n",
       "      <td>0.895985</td>\n",
       "      <td>2.491855e-04</td>\n",
       "      <td>17798</td>\n",
       "    </tr>\n",
       "    <tr>\n",
       "      <th>Var21</th>\n",
       "      <td>-18.885492</td>\n",
       "      <td>3.196768e-04</td>\n",
       "      <td>17735</td>\n",
       "    </tr>\n",
       "  </tbody>\n",
       "</table>\n",
       "</div>"
      ],
      "text/plain": [
       "            mean_diff       p_value  null_count:\n",
       "Var67        0.000000 -1.000000e+00            0\n",
       "Var189     -44.351848  5.151733e-36        17798\n",
       "Var74      -53.217041  1.215318e-32         1792\n",
       "Var13     -464.307878  2.163432e-28        17798\n",
       "Var7        -1.629618  2.017203e-24         1792\n",
       "Var140    -476.387318  4.374723e-23        17831\n",
       "Var125   -4620.962359  5.338340e-19         8162\n",
       "Var73      -14.330625  5.467037e-18        17798\n",
       "Var144      -2.439151  4.017486e-13         1976\n",
       "Var65       -1.700608  6.899475e-13         1792\n",
       "Var6      -256.865115  9.241568e-13        17798\n",
       "Var126       4.308840  2.844570e-12        17798\n",
       "Var113  166716.849658  2.268347e-09        17830\n",
       "Var81    14914.461718  4.251783e-08         1792\n",
       "Var72       -0.393625  1.335791e-06        17798\n",
       "Var119    -113.618601  8.491135e-06         1991\n",
       "Var112      -7.173885  2.769919e-05         1991\n",
       "Var160      -5.559410  1.169982e-04        17989\n",
       "Var19        0.895985  2.491855e-04        17798\n",
       "Var21      -18.885492  3.196768e-04        17735"
      ]
     },
     "execution_count": 17,
     "metadata": {},
     "output_type": "execute_result"
    }
   ],
   "source": [
    "mns_and_ps[:20]"
   ]
  },
  {
   "cell_type": "code",
   "execution_count": 18,
   "metadata": {},
   "outputs": [
    {
     "data": {
      "text/plain": [
       "0.0    500\n",
       "Name: Var67, dtype: int64"
      ]
     },
     "execution_count": 18,
     "metadata": {},
     "output_type": "execute_result"
    }
   ],
   "source": [
    "data_num['Var67'].value_counts() #видим, что есть пустой столбец"
   ]
  },
  {
   "cell_type": "code",
   "execution_count": 19,
   "metadata": {},
   "outputs": [],
   "source": [
    "mns_and_ps = mns_and_ps[1:]"
   ]
  },
  {
   "cell_type": "code",
   "execution_count": 20,
   "metadata": {},
   "outputs": [
    {
     "data": {
      "text/plain": [
       "(40, 3)"
      ]
     },
     "execution_count": 20,
     "metadata": {},
     "output_type": "execute_result"
    }
   ],
   "source": [
    "corr_num = mns_and_ps[mns_and_ps['p_value']<0.025]\n",
    "corr_num.shape"
   ]
  },
  {
   "cell_type": "code",
   "execution_count": 21,
   "metadata": {},
   "outputs": [],
   "source": [
    "#топ 20 числовых признаков, которые коррелируют сильнее всего\n",
    "corr_num_feat = corr_num['mean_diff'].map(lambda x: abs(x)).sort_values(ascending=False)[:20].index"
   ]
  },
  {
   "cell_type": "code",
   "execution_count": 22,
   "metadata": {},
   "outputs": [
    {
     "data": {
      "text/plain": [
       "Var69     1.923416e+06\n",
       "Var177    7.472087e+05\n",
       "Var111    4.936644e+05\n",
       "Var139    3.092434e+05\n",
       "Var114    3.091895e+05\n",
       "Var113    1.667168e+05\n",
       "Var38     1.024331e+05\n",
       "Var183    3.832174e+04\n",
       "Var134    2.618022e+04\n",
       "Var81     1.491446e+04\n",
       "Var94     1.155787e+04\n",
       "Var125    4.620962e+03\n",
       "Var140    4.763873e+02\n",
       "Var13     4.643079e+02\n",
       "Var6      2.568651e+02\n",
       "Var3      1.294523e+02\n",
       "Var119    1.136186e+02\n",
       "Var188    5.616032e+01\n",
       "Var74     5.321704e+01\n",
       "Var189    4.435185e+01\n",
       "Name: mean_diff, dtype: float64"
      ]
     },
     "execution_count": 22,
     "metadata": {},
     "output_type": "execute_result"
    }
   ],
   "source": [
    "corr_num['mean_diff'].map(lambda x: abs(x)).sort_values(ascending=False)[:20]"
   ]
  },
  {
   "cell_type": "code",
   "execution_count": 23,
   "metadata": {},
   "outputs": [
    {
     "data": {
      "text/plain": [
       "Var69     17798\n",
       "Var177    17830\n",
       "Var111    17910\n",
       "Var139    17798\n",
       "Var114    17830\n",
       "Var113        0\n",
       "Var38      1792\n",
       "Var183    17830\n",
       "Var134     1792\n",
       "Var81      1991\n",
       "Var94      8162\n",
       "Var125     1976\n",
       "Var140     1976\n",
       "Var13      1976\n",
       "Var6       1991\n",
       "Var3      17831\n",
       "Var119     1991\n",
       "Var188    17830\n",
       "Var74      1976\n",
       "Var189    10617\n",
       "dtype: int64"
      ]
     },
     "execution_count": 23,
     "metadata": {},
     "output_type": "execute_result"
    }
   ],
   "source": [
    "#число пропусков в признаках, которые коррелируют сильнее всего с целевой переменной\n",
    "data_num[corr_num_feat].isnull().sum()"
   ]
  },
  {
   "cell_type": "code",
   "execution_count": 24,
   "metadata": {},
   "outputs": [],
   "source": [
    "mean_train = data_num[corr_num_feat].mean()"
   ]
  },
  {
   "cell_type": "code",
   "execution_count": 25,
   "metadata": {},
   "outputs": [],
   "source": [
    "data_num = data_num[corr_num_feat].fillna(mean_train)"
   ]
  },
  {
   "cell_type": "code",
   "execution_count": 26,
   "metadata": {},
   "outputs": [],
   "source": [
    "from sklearn.preprocessing import StandardScaler\n",
    "scaler = StandardScaler()\n",
    "data_num_scaled = scaler.fit_transform(data_num)"
   ]
  },
  {
   "cell_type": "code",
   "execution_count": 27,
   "metadata": {},
   "outputs": [],
   "source": [
    "data_num_scaled = pd.DataFrame(data_num_scaled, index=data_num.index, columns=data_num.columns)"
   ]
  },
  {
   "cell_type": "code",
   "execution_count": 238,
   "metadata": {},
   "outputs": [
    {
     "name": "stdout",
     "output_type": "stream",
     "text": [
      "Wall time: 149 ms\n"
     ]
    }
   ],
   "source": [
    "%%time\n",
    "# считаем корреляции\n",
    "corr_list_num = data_num[corr_num_feat].corr(method='spearman', ) #спирмен"
   ]
  },
  {
   "cell_type": "code",
   "execution_count": 239,
   "metadata": {},
   "outputs": [
    {
     "name": "stdout",
     "output_type": "stream",
     "text": [
      "('Var177', 'Var114') 0.7295186623434725\n",
      "('Var140', 'Var13') 0.7528775995587274\n",
      "('Var140', 'Var74') 0.7053240943289616\n",
      "('Var13', 'Var74') 0.7704212336377563\n",
      "('Var6', 'Var119') 0.7556262946629158\n"
     ]
    }
   ],
   "source": [
    "for feat in itertools.combinations(corr_num_feat, 2):\n",
    "    if corr_list_num.loc[feat[0], feat[1]] > 0.7:\n",
    "        print(feat, corr_list_num.loc[feat[0], feat[1]])"
   ]
  },
  {
   "cell_type": "markdown",
   "metadata": {},
   "source": [
    "# Категориальные признаки"
   ]
  },
  {
   "cell_type": "code",
   "execution_count": 28,
   "metadata": {},
   "outputs": [],
   "source": [
    "data_cat = data[features_cat]"
   ]
  },
  {
   "cell_type": "code",
   "execution_count": 29,
   "metadata": {},
   "outputs": [
    {
     "data": {
      "text/plain": [
       "(18298, 40)"
      ]
     },
     "execution_count": 29,
     "metadata": {},
     "output_type": "execute_result"
    }
   ],
   "source": [
    "data_cat.shape"
   ]
  },
  {
   "cell_type": "code",
   "execution_count": 30,
   "metadata": {},
   "outputs": [
    {
     "name": "stdout",
     "output_type": "stream",
     "text": [
      "3\n",
      "9\n",
      "25\n"
     ]
    }
   ],
   "source": [
    "print(len(data_cat.columns[data_cat.isnull().sum()>18000]))\n",
    "print(len(data_cat.columns[data_cat.isnull().sum()>10000])) \n",
    "print(len(data_cat.columns[data_cat.isnull().sum()<1000])) #большинство категориальных признаков имеет меньше 1000 пропусков"
   ]
  },
  {
   "cell_type": "code",
   "execution_count": 31,
   "metadata": {},
   "outputs": [],
   "source": [
    "import scipy.stats as ss\n",
    "\n",
    "def cramers_corrected_stat(confusion_matrix):\n",
    "    \"\"\" calculate Cramers V statistic for categorial-categorial association.\n",
    "        uses correction from Bergsma and Wicher, \n",
    "        Journal of the Korean Statistical Society 42 (2013): 323-328\n",
    "    \"\"\"\n",
    "    chi2 = ss.chi2_contingency(confusion_matrix)[0]\n",
    "    n = confusion_matrix.sum().sum()\n",
    "    phi2 = chi2/n\n",
    "    r,k = confusion_matrix.shape\n",
    "    phi2corr = max(0, phi2 - ((k-1)*(r-1))/(n-1))    \n",
    "    rcorr = r - ((r-1)**2)/(n-1)\n",
    "    kcorr = k - ((k-1)**2)/(n-1)\n",
    "    return np.sqrt(phi2corr / min( (kcorr-1), (rcorr-1)))"
   ]
  },
  {
   "cell_type": "code",
   "execution_count": 32,
   "metadata": {},
   "outputs": [],
   "source": [
    "# обертка для функции выше\n",
    "def get_cramers_cor(var1, var2):\n",
    "    if var1.equals(var2):\n",
    "        return 1.0\n",
    "    confusion_matrix = pd.crosstab(var1, var2)\n",
    "    return cramers_corrected_stat(confusion_matrix)"
   ]
  },
  {
   "cell_type": "code",
   "execution_count": 33,
   "metadata": {},
   "outputs": [
    {
     "name": "stderr",
     "output_type": "stream",
     "text": [
      "C:\\Users\\Vladuk\\Anaconda2\\envs\\tf\\lib\\site-packages\\ipykernel_launcher.py:6: SettingWithCopyWarning: \n",
      "A value is trying to be set on a copy of a slice from a DataFrame.\n",
      "Try using .loc[row_indexer,col_indexer] = value instead\n",
      "\n",
      "See the caveats in the documentation: https://pandas.pydata.org/pandas-docs/stable/user_guide/indexing.html#returning-a-view-versus-a-copy\n",
      "  \n"
     ]
    }
   ],
   "source": [
    "list_fear_cat=features_cat\n",
    "from sklearn import preprocessing\n",
    "for feature in list_fear_cat:\n",
    "    le = preprocessing.LabelEncoder()\n",
    "    le.fit(data_cat[feature].astype(str))\n",
    "    data_cat[feature] = le.transform(data_cat[feature].astype(str))"
   ]
  },
  {
   "cell_type": "code",
   "execution_count": 34,
   "metadata": {},
   "outputs": [],
   "source": [
    "corr_cat_feat = features_cat"
   ]
  },
  {
   "cell_type": "markdown",
   "metadata": {},
   "source": [
    "Проверим есть ли корреляции категориальных признаков между собой"
   ]
  },
  {
   "cell_type": "code",
   "execution_count": 271,
   "metadata": {},
   "outputs": [
    {
     "name": "stderr",
     "output_type": "stream",
     "text": [
      "C:\\Users\\Vladuk\\Anaconda2\\envs\\tf\\lib\\site-packages\\ipykernel_launcher.py:15: RuntimeWarning: invalid value encountered in double_scalars\n",
      "  from ipykernel import kernelapp as app\n"
     ]
    },
    {
     "name": "stdout",
     "output_type": "stream",
     "text": [
      "Wall time: 7min 49s\n"
     ]
    }
   ],
   "source": [
    "%%time\n",
    "# считаем корреляции\n",
    "conf_matrix_cor = pd.DataFrame(1.0, index=corr_cat_feat, columns=corr_cat_feat)\n",
    "for feat in itertools.combinations(corr_cat_feat, 2):\n",
    "    conf_matrix_cor.loc[feat[0], feat[1]] = get_cramers_cor(data_cat[feat[0]], data_cat[feat[1]])\n",
    "    conf_matrix_cor.loc[feat[1], feat[0]] = conf_matrix_cor.loc[feat[0], feat[1]]"
   ]
  },
  {
   "cell_type": "code",
   "execution_count": 272,
   "metadata": {},
   "outputs": [
    {
     "data": {
      "text/plain": [
       "<matplotlib.axes._subplots.AxesSubplot at 0x1bed2948>"
      ]
     },
     "execution_count": 272,
     "metadata": {},
     "output_type": "execute_result"
    },
    {
     "data": {
      "image/png": "[encoded data removed]",
      "text/plain": [
       "<Figure size 1296x1152 with 2 Axes>"
      ]
     },
     "metadata": {
      "needs_background": "light"
     },
     "output_type": "display_data"
    }
   ],
   "source": [
    "# параметры графика\n",
    "f, ax = plt.subplots(figsize=(18, 16))\n",
    "\n",
    "# палитра\n",
    "cmap = sns.diverging_palette(220, 10, as_cmap=True)\n",
    "\n",
    "# отрисовка тепловой карты\n",
    "sns.heatmap(conf_matrix_cor, cmap=cmap, vmax=1.0, vmin=0.0,\n",
    "            square=True, xticklabels=True, yticklabels=True,\n",
    "            linewidths=.1, cbar_kws={\"shrink\": .5}, ax=ax)"
   ]
  },
  {
   "cell_type": "code",
   "execution_count": 273,
   "metadata": {},
   "outputs": [
    {
     "name": "stdout",
     "output_type": "stream",
     "text": [
      "('Var192', 'Var226') 0.9167771347643895\n",
      "('Var216', 'Var212') 0.9672023218419863\n",
      "('Var216', 'Var221') 0.9655087241377992\n",
      "('Var212', 'Var221') 0.9587722519198268\n",
      "('Var207', 'Var220') 0.9229593042399905\n",
      "('Var207', 'Var222') 0.9229593042399906\n",
      "('Var207', 'Var198') 0.9229593042399905\n",
      "('Var227', 'Var220') 0.9228331462404893\n",
      "('Var227', 'Var222') 0.9228331462404893\n",
      "('Var227', 'Var198') 0.9228331462404893\n",
      "('Var204', 'Var226') 0.9978910730672214\n",
      "('Var203', 'Var208') 0.957326181675236\n",
      "('Var220', 'Var222') 0.9999999999999996\n",
      "('Var220', 'Var198') 0.9999999999999994\n",
      "('Var222', 'Var198') 0.9999999999999998\n",
      "('Var200', 'Var214') 0.9999999999999988\n",
      "('Var209', 'Var230') 1.0\n"
     ]
    }
   ],
   "source": [
    "for feat in itertools.combinations(corr_cat_feat, 2):\n",
    "    if conf_matrix_cor.loc[feat[0], feat[1]] > 0.9:\n",
    "        print(feat, conf_matrix_cor.loc[feat[0], feat[1]])"
   ]
  },
  {
   "cell_type": "code",
   "execution_count": 35,
   "metadata": {},
   "outputs": [],
   "source": [
    "#удалим признак 209 и 230 как пустые\n",
    "corr_cat_feat = list(set(corr_cat_feat) - set(['Var209','Var230']))"
   ]
  },
  {
   "cell_type": "code",
   "execution_count": 275,
   "metadata": {},
   "outputs": [
    {
     "data": {
      "text/plain": [
       "[('Var192', 326), ('Var226', 23), ('Var204', 100)]"
      ]
     },
     "execution_count": 275,
     "metadata": {},
     "output_type": "execute_result"
    }
   ],
   "source": [
    "#признаки 192,226,204\n",
    "temp_fear = ['Var192','Var226','Var204']\n",
    "[(feat,len(data_cat[feat].unique())) for feat in temp_fear] #число уникальных значений категорий включая nan"
   ]
  },
  {
   "cell_type": "code",
   "execution_count": 276,
   "metadata": {},
   "outputs": [
    {
     "data": {
      "text/plain": [
       "Var192    124\n",
       "Var226      0\n",
       "Var204      0\n",
       "dtype: int64"
      ]
     },
     "execution_count": 276,
     "metadata": {},
     "output_type": "execute_result"
    }
   ],
   "source": [
    "data[temp_fear].isnull().sum() "
   ]
  },
  {
   "cell_type": "code",
   "execution_count": 36,
   "metadata": {},
   "outputs": [],
   "source": [
    "#удалим признак 192 и 204\n",
    "corr_cat_feat = list(set(corr_cat_feat) - set(['Var192','Var204']))"
   ]
  },
  {
   "cell_type": "code",
   "execution_count": 278,
   "metadata": {},
   "outputs": [
    {
     "data": {
      "text/plain": [
       "[('Var216', 1247), ('Var212', 71), ('Var221', 7)]"
      ]
     },
     "execution_count": 278,
     "metadata": {},
     "output_type": "execute_result"
    }
   ],
   "source": [
    "#признаки 216,212,221\n",
    "temp_fear = ['Var216','Var212','Var221']\n",
    "[(feat,len(data_cat[feat].unique())) for feat in temp_fear] #число уникальных значений категорий включая nan"
   ]
  },
  {
   "cell_type": "code",
   "execution_count": 279,
   "metadata": {},
   "outputs": [
    {
     "data": {
      "text/plain": [
       "Var216    0\n",
       "Var212    0\n",
       "Var221    0\n",
       "dtype: int64"
      ]
     },
     "execution_count": 279,
     "metadata": {},
     "output_type": "execute_result"
    }
   ],
   "source": [
    "data[temp_fear].isnull().sum() "
   ]
  },
  {
   "cell_type": "code",
   "execution_count": 37,
   "metadata": {},
   "outputs": [],
   "source": [
    "#удалим признаки 216 и 212\n",
    "corr_cat_feat = list(set(corr_cat_feat) - set(['Var216','Var212']))"
   ]
  },
  {
   "cell_type": "code",
   "execution_count": 282,
   "metadata": {},
   "outputs": [
    {
     "data": {
      "text/plain": [
       "[('Var207', 12),\n",
       " ('Var220', 2721),\n",
       " ('Var222', 2721),\n",
       " ('Var198', 2721),\n",
       " ('Var227', 7)]"
      ]
     },
     "execution_count": 282,
     "metadata": {},
     "output_type": "execute_result"
    }
   ],
   "source": [
    "#207,220,222,198,227\n",
    "temp_fear = ['Var207','Var220','Var222','Var198','Var227']\n",
    "[(feat,len(data_cat[feat].unique())) for feat in temp_fear] #число уникальных значений категорий включая nan"
   ]
  },
  {
   "cell_type": "code",
   "execution_count": 283,
   "metadata": {},
   "outputs": [
    {
     "data": {
      "text/plain": [
       "Var207    0\n",
       "Var220    0\n",
       "Var222    0\n",
       "Var198    0\n",
       "Var227    0\n",
       "dtype: int64"
      ]
     },
     "execution_count": 283,
     "metadata": {},
     "output_type": "execute_result"
    }
   ],
   "source": [
    "data[temp_fear].isnull().sum() "
   ]
  },
  {
   "cell_type": "code",
   "execution_count": 38,
   "metadata": {},
   "outputs": [],
   "source": [
    "#удалим признаки 220,222,198\n",
    "corr_cat_feat = list(set(corr_cat_feat) - set(['Var220','Var222','Var198']))"
   ]
  },
  {
   "cell_type": "code",
   "execution_count": 285,
   "metadata": {},
   "outputs": [
    {
     "data": {
      "text/plain": [
       "[('Var203', 4), ('Var208', 3)]"
      ]
     },
     "execution_count": 285,
     "metadata": {},
     "output_type": "execute_result"
    }
   ],
   "source": [
    "#203,208\n",
    "temp_fear = ['Var203','Var208']\n",
    "[(feat,len(data_cat[feat].unique())) for feat in temp_fear] #число уникальных значений категорий включая nan"
   ]
  },
  {
   "cell_type": "code",
   "execution_count": 286,
   "metadata": {},
   "outputs": [
    {
     "data": {
      "text/plain": [
       "Var203    55\n",
       "Var208    55\n",
       "dtype: int64"
      ]
     },
     "execution_count": 286,
     "metadata": {},
     "output_type": "execute_result"
    }
   ],
   "source": [
    "data[temp_fear].isnull().sum() "
   ]
  },
  {
   "cell_type": "code",
   "execution_count": 287,
   "metadata": {},
   "outputs": [
    {
     "data": {
      "text/plain": [
       "0    16585\n",
       "2     1145\n",
       "1      513\n",
       "3       55\n",
       "Name: Var203, dtype: int64"
      ]
     },
     "execution_count": 287,
     "metadata": {},
     "output_type": "execute_result"
    }
   ],
   "source": [
    "data_cat['Var203'].value_counts()"
   ]
  },
  {
   "cell_type": "code",
   "execution_count": 288,
   "metadata": {},
   "outputs": [
    {
     "data": {
      "text/plain": [
       "0    16888\n",
       "2     1355\n",
       "1       55\n",
       "Name: Var208, dtype: int64"
      ]
     },
     "execution_count": 288,
     "metadata": {},
     "output_type": "execute_result"
    }
   ],
   "source": [
    "data_cat['Var208'].value_counts()"
   ]
  },
  {
   "cell_type": "code",
   "execution_count": 39,
   "metadata": {},
   "outputs": [],
   "source": [
    "#удалим признаки 208\n",
    "corr_cat_feat = list(set(corr_cat_feat) - set(['Var208']))"
   ]
  },
  {
   "cell_type": "code",
   "execution_count": 290,
   "metadata": {},
   "outputs": [
    {
     "data": {
      "text/plain": [
       "[('Var200', 7414), ('Var214', 7414)]"
      ]
     },
     "execution_count": 290,
     "metadata": {},
     "output_type": "execute_result"
    }
   ],
   "source": [
    "#200,214\n",
    "temp_fear = ['Var200','Var214']\n",
    "[(feat,len(data_cat[feat].unique())) for feat in temp_fear] #число уникальных значений категорий включая nan"
   ]
  },
  {
   "cell_type": "code",
   "execution_count": 291,
   "metadata": {},
   "outputs": [
    {
     "data": {
      "text/plain": [
       "Var200    9305\n",
       "Var214    9305\n",
       "dtype: int64"
      ]
     },
     "execution_count": 291,
     "metadata": {},
     "output_type": "execute_result"
    }
   ],
   "source": [
    "data[temp_fear].isnull().sum() "
   ]
  },
  {
   "cell_type": "code",
   "execution_count": 40,
   "metadata": {},
   "outputs": [],
   "source": [
    "#удалим оба этих признака\n",
    "corr_cat_feat = list(set(corr_cat_feat) - set(['Var200','Var214']))"
   ]
  },
  {
   "cell_type": "code",
   "execution_count": 41,
   "metadata": {},
   "outputs": [
    {
     "data": {
      "text/plain": [
       "28"
      ]
     },
     "execution_count": 41,
     "metadata": {},
     "output_type": "execute_result"
    }
   ],
   "source": [
    "len(corr_cat_feat) #осталось 28 признаков"
   ]
  },
  {
   "cell_type": "code",
   "execution_count": 42,
   "metadata": {},
   "outputs": [
    {
     "data": {
      "text/plain": [
       "28"
      ]
     },
     "execution_count": 42,
     "metadata": {},
     "output_type": "execute_result"
    }
   ],
   "source": [
    "cramer_list = list()\n",
    "for features in corr_cat_feat:\n",
    "    confusion_mx = pd.crosstab(target['labels'], data_cat[features])\n",
    "    cramer_list.append(cramers_corrected_stat(confusion_mx))\n",
    "len(cramer_list)"
   ]
  },
  {
   "cell_type": "code",
   "execution_count": 43,
   "metadata": {},
   "outputs": [
    {
     "data": {
      "text/html": [
       "<div>\n",
       "<style scoped>\n",
       "    .dataframe tbody tr th:only-of-type {\n",
       "        vertical-align: middle;\n",
       "    }\n",
       "\n",
       "    .dataframe tbody tr th {\n",
       "        vertical-align: top;\n",
       "    }\n",
       "\n",
       "    .dataframe thead th {\n",
       "        text-align: right;\n",
       "    }\n",
       "</style>\n",
       "<table border=\"1\" class=\"dataframe\">\n",
       "  <thead>\n",
       "    <tr style=\"text-align: right;\">\n",
       "      <th></th>\n",
       "      <th>cor_cat</th>\n",
       "    </tr>\n",
       "  </thead>\n",
       "  <tbody>\n",
       "    <tr>\n",
       "      <th>Var199</th>\n",
       "      <td>0.270911</td>\n",
       "    </tr>\n",
       "    <tr>\n",
       "      <th>Var218</th>\n",
       "      <td>0.112029</td>\n",
       "    </tr>\n",
       "    <tr>\n",
       "      <th>Var206</th>\n",
       "      <td>0.079270</td>\n",
       "    </tr>\n",
       "    <tr>\n",
       "      <th>Var205</th>\n",
       "      <td>0.077717</td>\n",
       "    </tr>\n",
       "    <tr>\n",
       "      <th>Var228</th>\n",
       "      <td>0.068072</td>\n",
       "    </tr>\n",
       "    <tr>\n",
       "      <th>Var229</th>\n",
       "      <td>0.061392</td>\n",
       "    </tr>\n",
       "    <tr>\n",
       "      <th>Var207</th>\n",
       "      <td>0.060657</td>\n",
       "    </tr>\n",
       "    <tr>\n",
       "      <th>Var193</th>\n",
       "      <td>0.058623</td>\n",
       "    </tr>\n",
       "    <tr>\n",
       "      <th>Var210</th>\n",
       "      <td>0.057438</td>\n",
       "    </tr>\n",
       "    <tr>\n",
       "      <th>Var225</th>\n",
       "      <td>0.057336</td>\n",
       "    </tr>\n",
       "  </tbody>\n",
       "</table>\n",
       "</div>"
      ],
      "text/plain": [
       "         cor_cat\n",
       "Var199  0.270911\n",
       "Var218  0.112029\n",
       "Var206  0.079270\n",
       "Var205  0.077717\n",
       "Var228  0.068072\n",
       "Var229  0.061392\n",
       "Var207  0.060657\n",
       "Var193  0.058623\n",
       "Var210  0.057438\n",
       "Var225  0.057336"
      ]
     },
     "execution_count": 43,
     "metadata": {},
     "output_type": "execute_result"
    }
   ],
   "source": [
    "data_cor_cat = pd.DataFrame(cramer_list, index=corr_cat_feat, columns=['cor_cat'])\n",
    "data_cor_cat.sort_values(by='cor_cat', ascending=False)[:10] #топ 10 категориальных признаков коррелирующих с целевой переменнй"
   ]
  },
  {
   "cell_type": "code",
   "execution_count": 44,
   "metadata": {},
   "outputs": [
    {
     "data": {
      "text/plain": [
       "Var199        2\n",
       "Var218      269\n",
       "Var206     1991\n",
       "Var205      714\n",
       "Var228        0\n",
       "Var229    10365\n",
       "Var207        0\n",
       "Var193        0\n",
       "Var210        0\n",
       "Var225     9571\n",
       "Var227        0\n",
       "Var221        0\n",
       "Var197       55\n",
       "Var195        0\n",
       "Var226        0\n",
       "Var211        0\n",
       "Var201    13659\n",
       "Var194    13659\n",
       "Var203       55\n",
       "Var213    17910\n",
       "Var196        0\n",
       "Var191    17921\n",
       "Var219     1882\n",
       "Var224    17989\n",
       "Var202        1\n",
       "Var223     1882\n",
       "Var215    18040\n",
       "Var217      269\n",
       "dtype: int64"
      ]
     },
     "execution_count": 44,
     "metadata": {},
     "output_type": "execute_result"
    }
   ],
   "source": [
    "corr_cat_feat_top = data_cor_cat.sort_values(by='cor_cat', ascending=False)[:].index\n",
    "data[corr_cat_feat_top].isnull().sum() "
   ]
  },
  {
   "cell_type": "code",
   "execution_count": 45,
   "metadata": {},
   "outputs": [
    {
     "data": {
      "text/plain": [
       "[('Var199', 2639),\n",
       " ('Var218', 3),\n",
       " ('Var206', 22),\n",
       " ('Var205', 4),\n",
       " ('Var228', 29),\n",
       " ('Var229', 5),\n",
       " ('Var207', 12),\n",
       " ('Var193', 44),\n",
       " ('Var210', 6),\n",
       " ('Var225', 4),\n",
       " ('Var227', 7),\n",
       " ('Var221', 7),\n",
       " ('Var197', 207),\n",
       " ('Var195', 21),\n",
       " ('Var226', 23),\n",
       " ('Var211', 2),\n",
       " ('Var201', 3),\n",
       " ('Var194', 4),\n",
       " ('Var203', 4),\n",
       " ('Var213', 2),\n",
       " ('Var196', 4),\n",
       " ('Var191', 2),\n",
       " ('Var219', 20),\n",
       " ('Var224', 2),\n",
       " ('Var202', 4673),\n",
       " ('Var223', 5),\n",
       " ('Var215', 2),\n",
       " ('Var217', 7944)]"
      ]
     },
     "execution_count": 45,
     "metadata": {},
     "output_type": "execute_result"
    }
   ],
   "source": [
    "[(feat,len(data_cat[feat].unique())) for feat in corr_cat_feat_top] #число уникальных значений категорий включая nan"
   ]
  },
  {
   "cell_type": "code",
   "execution_count": 46,
   "metadata": {},
   "outputs": [
    {
     "data": {
      "text/plain": [
       "[('Var199', 2639),\n",
       " ('Var218', 3),\n",
       " ('Var206', 22),\n",
       " ('Var205', 4),\n",
       " ('Var228', 29)]"
      ]
     },
     "execution_count": 46,
     "metadata": {},
     "output_type": "execute_result"
    }
   ],
   "source": [
    "#удалим признаки у которых более 2000 различных категориальных значений\n",
    "list_unique_cat = [(feat,len(data_cat[feat].unique())) for feat in corr_cat_feat_top] #число уникальных значений категорий включая nan\n",
    "list_unique_cat[0:5]"
   ]
  },
  {
   "cell_type": "code",
   "execution_count": 47,
   "metadata": {},
   "outputs": [],
   "source": [
    "corr_cat_feat_top_filter = list()\n",
    "for obj in list_unique_cat:\n",
    "    if (obj[1]>2) & (obj[1]<2000):\n",
    "        corr_cat_feat_top_filter.append(obj[0])"
   ]
  },
  {
   "cell_type": "code",
   "execution_count": 48,
   "metadata": {},
   "outputs": [
    {
     "data": {
      "text/plain": [
       "20"
      ]
     },
     "execution_count": 48,
     "metadata": {},
     "output_type": "execute_result"
    }
   ],
   "source": [
    "len(corr_cat_feat_top_filter)"
   ]
  },
  {
   "cell_type": "markdown",
   "metadata": {},
   "source": [
    "# Отбор и преобразование признаков"
   ]
  },
  {
   "cell_type": "code",
   "execution_count": 49,
   "metadata": {},
   "outputs": [
    {
     "name": "stdout",
     "output_type": "stream",
     "text": [
      "20\n",
      "20\n"
     ]
    }
   ],
   "source": [
    "print(len(corr_num_feat))\n",
    "print(len(corr_cat_feat_top_filter))"
   ]
  },
  {
   "cell_type": "code",
   "execution_count": 50,
   "metadata": {},
   "outputs": [],
   "source": [
    "train_num = data_num_scaled"
   ]
  },
  {
   "cell_type": "code",
   "execution_count": 51,
   "metadata": {},
   "outputs": [],
   "source": [
    "train_cat = pd.get_dummies(data[corr_cat_feat_top_filter], dummy_na=True) #one-hot кодирование"
   ]
  },
  {
   "cell_type": "code",
   "execution_count": 52,
   "metadata": {},
   "outputs": [
    {
     "name": "stdout",
     "output_type": "stream",
     "text": [
      "(18298, 463)\n"
     ]
    }
   ],
   "source": [
    "data_train = pd.concat([train_num, train_cat], axis = 1)\n",
    "print(data_train.shape)"
   ]
  },
  {
   "cell_type": "markdown",
   "metadata": {},
   "source": [
    "# Построение базовой модели"
   ]
  },
  {
   "cell_type": "code",
   "execution_count": 53,
   "metadata": {},
   "outputs": [],
   "source": [
    "from sklearn.model_selection import train_test_split\n",
    "from sklearn.model_selection import StratifiedKFold\n",
    "from sklearn import metrics\n",
    "from sklearn.linear_model import LogisticRegression\n",
    "from sklearn.ensemble import RandomForestClassifier\n",
    "from sklearn.ensemble import GradientBoostingClassifier\n",
    "\n",
    "from sklearn.metrics import accuracy_score #точность\n",
    "from sklearn.metrics import roc_auc_score #площадь под кривой\n",
    "from sklearn.metrics import precision_score\n",
    "from sklearn.metrics import recall_score"
   ]
  },
  {
   "cell_type": "code",
   "execution_count": 198,
   "metadata": {},
   "outputs": [],
   "source": [
    "# отделим отложенную выборку\n",
    "X, X_hold_out, y, y_hold_out = train_test_split(data_train, target['labels'], test_size=0.1, stratify = target)\n",
    "\n",
    "# разобьем рабочие данные для кросс-валидации, поделим на 9 подвыборок\n",
    "skf = StratifiedKFold(n_splits=3)"
   ]
  },
  {
   "cell_type": "code",
   "execution_count": 75,
   "metadata": {},
   "outputs": [],
   "source": [
    "# печатаем метрики по кросс-валидации\n",
    "def get_cv_roc_pr_rc(clf, skf, X, y):\n",
    "    roc_auc = []\n",
    "    pr_auc = []\n",
    "    precision = []\n",
    "    recall = []\n",
    "    models = []\n",
    "    for train, test in skf.split(X, y):\n",
    "        print('fit_starting...')\n",
    "        models.append(clf.fit(X.iloc[train,:], y.iloc[train]))\n",
    "        print('fit_iter_compit!!!')\n",
    "        y_pred = clf.predict(X.iloc[test,:])\n",
    "        y_pred_prob = clf.predict_proba(X.iloc[test,:])[:,1]\n",
    "        roc_auc.append(metrics.roc_auc_score(y.iloc[test], y_pred_prob))\n",
    "        pr_auc.append(metrics.average_precision_score(y.iloc[test], y_pred_prob))\n",
    "        precision.append(metrics.precision_score(y.iloc[test], y_pred))\n",
    "        recall.append(metrics.recall_score(y.iloc[test], y_pred))\n",
    "\n",
    "    print('ROC-AUC:', np.mean(roc_auc))\n",
    "    print('PR-AUC:', np.mean(pr_auc))\n",
    "    print('Precission:', np.mean(precision))\n",
    "    print('Recall:', np.mean(recall))\n",
    "    \n",
    "    return roc_auc, pr_auc, precision, recall, models"
   ]
  },
  {
   "cell_type": "code",
   "execution_count": 76,
   "metadata": {},
   "outputs": [],
   "source": [
    "def get_result_for_x_hold(clf, X, X_hold_out, y, y_hold_out):\n",
    "    clf.fit(X,y)\n",
    "    y_pred = clf.predict(X_hold_out)\n",
    "    acc = accuracy_score(y_hold_out,y_pred)\n",
    "    roc_auc = roc_auc_score(y_hold_out,y_pred)\n",
    "    precision = precision_score(y_hold_out,y_pred)\n",
    "    recall = recall_score(y_hold_out,y_pred)\n",
    "    print('ROC-AUC:', roc_auc)\n",
    "    print('ACC:', acc)\n",
    "    print('Precission:', precision)\n",
    "    print('Recall:', recall)\n",
    "    \n",
    "    return clf, y_pred"
   ]
  },
  {
   "cell_type": "code",
   "execution_count": 322,
   "metadata": {},
   "outputs": [
    {
     "name": "stdout",
     "output_type": "stream",
     "text": [
      "fit_starting...\n",
      "fit_iter_compit!!!\n",
      "fit_starting...\n",
      "fit_iter_compit!!!\n",
      "fit_starting...\n",
      "fit_iter_compit!!!\n",
      "ROC-AUC: 0.6474318309335164\n",
      "PR-AUC: 0.14265794812457652\n",
      "Precission: 0.11683509500326082\n",
      "Recall: 0.5520581113801453\n"
     ]
    }
   ],
   "source": [
    "# Логистическая регрессия\n",
    "clf = LogisticRegression(class_weight='balanced', n_jobs=-1)\n",
    "roc_auc, pr_auc, precision, recall, models = get_cv_roc_pr_rc(clf, skf, X, y)"
   ]
  },
  {
   "cell_type": "code",
   "execution_count": 323,
   "metadata": {},
   "outputs": [
    {
     "name": "stdout",
     "output_type": "stream",
     "text": [
      "ROC-AUC: 0.6539469626888683\n",
      "ACC: 0.66775956284153\n",
      "Precission: 0.13622291021671826\n",
      "Recall: 0.6376811594202898\n"
     ]
    }
   ],
   "source": [
    "model, y_pred = get_result_for_x_hold(clf, X, X_hold_out, y, y_hold_out)"
   ]
  },
  {
   "cell_type": "code",
   "execution_count": 321,
   "metadata": {},
   "outputs": [
    {
     "data": {
      "text/plain": [
       "array([0., 1.])"
      ]
     },
     "execution_count": 321,
     "metadata": {},
     "output_type": "execute_result"
    }
   ],
   "source": [
    "np.unique(y_pred) # модель дает константное предсказание"
   ]
  },
  {
   "cell_type": "code",
   "execution_count": 327,
   "metadata": {},
   "outputs": [
    {
     "name": "stderr",
     "output_type": "stream",
     "text": [
      "C:\\Users\\Vladuk\\Anaconda2\\envs\\tf\\lib\\site-packages\\sklearn\\model_selection\\_validation.py:536: FitFailedWarning: Estimator fit failed. The score on this train-test partition for these parameters will be set to nan. Details: \n",
      "ValueError: Solver lbfgs supports only 'l2' or 'none' penalties, got l1 penalty.\n",
      "\n",
      "  FitFailedWarning)\n",
      "C:\\Users\\Vladuk\\Anaconda2\\envs\\tf\\lib\\site-packages\\sklearn\\linear_model\\_sag.py:330: ConvergenceWarning: The max_iter was reached which means the coef_ did not converge\n",
      "  \"the coef_ did not converge\", ConvergenceWarning)\n",
      "C:\\Users\\Vladuk\\Anaconda2\\envs\\tf\\lib\\site-packages\\sklearn\\linear_model\\_sag.py:330: ConvergenceWarning: The max_iter was reached which means the coef_ did not converge\n",
      "  \"the coef_ did not converge\", ConvergenceWarning)\n",
      "C:\\Users\\Vladuk\\Anaconda2\\envs\\tf\\lib\\site-packages\\sklearn\\linear_model\\_sag.py:330: ConvergenceWarning: The max_iter was reached which means the coef_ did not converge\n",
      "  \"the coef_ did not converge\", ConvergenceWarning)\n",
      "C:\\Users\\Vladuk\\Anaconda2\\envs\\tf\\lib\\site-packages\\sklearn\\linear_model\\_logistic.py:940: ConvergenceWarning: lbfgs failed to converge (status=1):\n",
      "STOP: TOTAL NO. of ITERATIONS REACHED LIMIT.\n",
      "\n",
      "Increase the number of iterations (max_iter) or scale the data as shown in:\n",
      "    https://scikit-learn.org/stable/modules/preprocessing.html\n",
      "Please also refer to the documentation for alternative solver options:\n",
      "    https://scikit-learn.org/stable/modules/linear_model.html#logistic-regression\n",
      "  extra_warning_msg=_LOGISTIC_SOLVER_CONVERGENCE_MSG)\n",
      "C:\\Users\\Vladuk\\Anaconda2\\envs\\tf\\lib\\site-packages\\sklearn\\linear_model\\_logistic.py:940: ConvergenceWarning: lbfgs failed to converge (status=1):\n",
      "STOP: TOTAL NO. of ITERATIONS REACHED LIMIT.\n",
      "\n",
      "Increase the number of iterations (max_iter) or scale the data as shown in:\n",
      "    https://scikit-learn.org/stable/modules/preprocessing.html\n",
      "Please also refer to the documentation for alternative solver options:\n",
      "    https://scikit-learn.org/stable/modules/linear_model.html#logistic-regression\n",
      "  extra_warning_msg=_LOGISTIC_SOLVER_CONVERGENCE_MSG)\n",
      "C:\\Users\\Vladuk\\Anaconda2\\envs\\tf\\lib\\site-packages\\sklearn\\linear_model\\_logistic.py:940: ConvergenceWarning: lbfgs failed to converge (status=1):\n",
      "STOP: TOTAL NO. of ITERATIONS REACHED LIMIT.\n",
      "\n",
      "Increase the number of iterations (max_iter) or scale the data as shown in:\n",
      "    https://scikit-learn.org/stable/modules/preprocessing.html\n",
      "Please also refer to the documentation for alternative solver options:\n",
      "    https://scikit-learn.org/stable/modules/linear_model.html#logistic-regression\n",
      "  extra_warning_msg=_LOGISTIC_SOLVER_CONVERGENCE_MSG)\n",
      "C:\\Users\\Vladuk\\Anaconda2\\envs\\tf\\lib\\site-packages\\sklearn\\linear_model\\_sag.py:330: ConvergenceWarning: The max_iter was reached which means the coef_ did not converge\n",
      "  \"the coef_ did not converge\", ConvergenceWarning)\n",
      "C:\\Users\\Vladuk\\Anaconda2\\envs\\tf\\lib\\site-packages\\sklearn\\linear_model\\_sag.py:330: ConvergenceWarning: The max_iter was reached which means the coef_ did not converge\n",
      "  \"the coef_ did not converge\", ConvergenceWarning)\n",
      "C:\\Users\\Vladuk\\Anaconda2\\envs\\tf\\lib\\site-packages\\sklearn\\linear_model\\_sag.py:330: ConvergenceWarning: The max_iter was reached which means the coef_ did not converge\n",
      "  \"the coef_ did not converge\", ConvergenceWarning)\n",
      "C:\\Users\\Vladuk\\Anaconda2\\envs\\tf\\lib\\site-packages\\sklearn\\model_selection\\_validation.py:536: FitFailedWarning: Estimator fit failed. The score on this train-test partition for these parameters will be set to nan. Details: \n",
      "ValueError: Solver lbfgs supports only 'l2' or 'none' penalties, got l1 penalty.\n",
      "\n",
      "  FitFailedWarning)\n",
      "C:\\Users\\Vladuk\\Anaconda2\\envs\\tf\\lib\\site-packages\\sklearn\\linear_model\\_sag.py:330: ConvergenceWarning: The max_iter was reached which means the coef_ did not converge\n",
      "  \"the coef_ did not converge\", ConvergenceWarning)\n",
      "C:\\Users\\Vladuk\\Anaconda2\\envs\\tf\\lib\\site-packages\\sklearn\\linear_model\\_sag.py:330: ConvergenceWarning: The max_iter was reached which means the coef_ did not converge\n",
      "  \"the coef_ did not converge\", ConvergenceWarning)\n",
      "C:\\Users\\Vladuk\\Anaconda2\\envs\\tf\\lib\\site-packages\\sklearn\\linear_model\\_sag.py:330: ConvergenceWarning: The max_iter was reached which means the coef_ did not converge\n",
      "  \"the coef_ did not converge\", ConvergenceWarning)\n",
      "C:\\Users\\Vladuk\\Anaconda2\\envs\\tf\\lib\\site-packages\\sklearn\\linear_model\\_logistic.py:940: ConvergenceWarning: lbfgs failed to converge (status=1):\n",
      "STOP: TOTAL NO. of ITERATIONS REACHED LIMIT.\n",
      "\n",
      "Increase the number of iterations (max_iter) or scale the data as shown in:\n",
      "    https://scikit-learn.org/stable/modules/preprocessing.html\n",
      "Please also refer to the documentation for alternative solver options:\n",
      "    https://scikit-learn.org/stable/modules/linear_model.html#logistic-regression\n",
      "  extra_warning_msg=_LOGISTIC_SOLVER_CONVERGENCE_MSG)\n",
      "C:\\Users\\Vladuk\\Anaconda2\\envs\\tf\\lib\\site-packages\\sklearn\\linear_model\\_logistic.py:940: ConvergenceWarning: lbfgs failed to converge (status=1):\n",
      "STOP: TOTAL NO. of ITERATIONS REACHED LIMIT.\n",
      "\n",
      "Increase the number of iterations (max_iter) or scale the data as shown in:\n",
      "    https://scikit-learn.org/stable/modules/preprocessing.html\n",
      "Please also refer to the documentation for alternative solver options:\n",
      "    https://scikit-learn.org/stable/modules/linear_model.html#logistic-regression\n",
      "  extra_warning_msg=_LOGISTIC_SOLVER_CONVERGENCE_MSG)\n",
      "C:\\Users\\Vladuk\\Anaconda2\\envs\\tf\\lib\\site-packages\\sklearn\\linear_model\\_logistic.py:940: ConvergenceWarning: lbfgs failed to converge (status=1):\n",
      "STOP: TOTAL NO. of ITERATIONS REACHED LIMIT.\n",
      "\n",
      "Increase the number of iterations (max_iter) or scale the data as shown in:\n",
      "    https://scikit-learn.org/stable/modules/preprocessing.html\n",
      "Please also refer to the documentation for alternative solver options:\n",
      "    https://scikit-learn.org/stable/modules/linear_model.html#logistic-regression\n",
      "  extra_warning_msg=_LOGISTIC_SOLVER_CONVERGENCE_MSG)\n",
      "C:\\Users\\Vladuk\\Anaconda2\\envs\\tf\\lib\\site-packages\\sklearn\\linear_model\\_sag.py:330: ConvergenceWarning: The max_iter was reached which means the coef_ did not converge\n",
      "  \"the coef_ did not converge\", ConvergenceWarning)\n",
      "C:\\Users\\Vladuk\\Anaconda2\\envs\\tf\\lib\\site-packages\\sklearn\\linear_model\\_sag.py:330: ConvergenceWarning: The max_iter was reached which means the coef_ did not converge\n",
      "  \"the coef_ did not converge\", ConvergenceWarning)\n",
      "C:\\Users\\Vladuk\\Anaconda2\\envs\\tf\\lib\\site-packages\\sklearn\\linear_model\\_sag.py:330: ConvergenceWarning: The max_iter was reached which means the coef_ did not converge\n",
      "  \"the coef_ did not converge\", ConvergenceWarning)\n",
      "C:\\Users\\Vladuk\\Anaconda2\\envs\\tf\\lib\\site-packages\\sklearn\\model_selection\\_validation.py:536: FitFailedWarning: Estimator fit failed. The score on this train-test partition for these parameters will be set to nan. Details: \n",
      "ValueError: Solver lbfgs supports only 'l2' or 'none' penalties, got l1 penalty.\n",
      "\n",
      "  FitFailedWarning)\n",
      "C:\\Users\\Vladuk\\Anaconda2\\envs\\tf\\lib\\site-packages\\sklearn\\svm\\_base.py:947: ConvergenceWarning: Liblinear failed to converge, increase the number of iterations.\n",
      "  \"the number of iterations.\", ConvergenceWarning)\n",
      "C:\\Users\\Vladuk\\Anaconda2\\envs\\tf\\lib\\site-packages\\sklearn\\linear_model\\_sag.py:330: ConvergenceWarning: The max_iter was reached which means the coef_ did not converge\n",
      "  \"the coef_ did not converge\", ConvergenceWarning)\n",
      "C:\\Users\\Vladuk\\Anaconda2\\envs\\tf\\lib\\site-packages\\sklearn\\linear_model\\_sag.py:330: ConvergenceWarning: The max_iter was reached which means the coef_ did not converge\n",
      "  \"the coef_ did not converge\", ConvergenceWarning)\n",
      "C:\\Users\\Vladuk\\Anaconda2\\envs\\tf\\lib\\site-packages\\sklearn\\linear_model\\_sag.py:330: ConvergenceWarning: The max_iter was reached which means the coef_ did not converge\n",
      "  \"the coef_ did not converge\", ConvergenceWarning)\n",
      "C:\\Users\\Vladuk\\Anaconda2\\envs\\tf\\lib\\site-packages\\sklearn\\linear_model\\_logistic.py:940: ConvergenceWarning: lbfgs failed to converge (status=1):\n",
      "STOP: TOTAL NO. of ITERATIONS REACHED LIMIT.\n",
      "\n",
      "Increase the number of iterations (max_iter) or scale the data as shown in:\n",
      "    https://scikit-learn.org/stable/modules/preprocessing.html\n",
      "Please also refer to the documentation for alternative solver options:\n",
      "    https://scikit-learn.org/stable/modules/linear_model.html#logistic-regression\n",
      "  extra_warning_msg=_LOGISTIC_SOLVER_CONVERGENCE_MSG)\n"
     ]
    },
    {
     "name": "stderr",
     "output_type": "stream",
     "text": [
      "C:\\Users\\Vladuk\\Anaconda2\\envs\\tf\\lib\\site-packages\\sklearn\\linear_model\\_logistic.py:940: ConvergenceWarning: lbfgs failed to converge (status=1):\n",
      "STOP: TOTAL NO. of ITERATIONS REACHED LIMIT.\n",
      "\n",
      "Increase the number of iterations (max_iter) or scale the data as shown in:\n",
      "    https://scikit-learn.org/stable/modules/preprocessing.html\n",
      "Please also refer to the documentation for alternative solver options:\n",
      "    https://scikit-learn.org/stable/modules/linear_model.html#logistic-regression\n",
      "  extra_warning_msg=_LOGISTIC_SOLVER_CONVERGENCE_MSG)\n",
      "C:\\Users\\Vladuk\\Anaconda2\\envs\\tf\\lib\\site-packages\\sklearn\\linear_model\\_logistic.py:940: ConvergenceWarning: lbfgs failed to converge (status=1):\n",
      "STOP: TOTAL NO. of ITERATIONS REACHED LIMIT.\n",
      "\n",
      "Increase the number of iterations (max_iter) or scale the data as shown in:\n",
      "    https://scikit-learn.org/stable/modules/preprocessing.html\n",
      "Please also refer to the documentation for alternative solver options:\n",
      "    https://scikit-learn.org/stable/modules/linear_model.html#logistic-regression\n",
      "  extra_warning_msg=_LOGISTIC_SOLVER_CONVERGENCE_MSG)\n",
      "C:\\Users\\Vladuk\\Anaconda2\\envs\\tf\\lib\\site-packages\\sklearn\\linear_model\\_sag.py:330: ConvergenceWarning: The max_iter was reached which means the coef_ did not converge\n",
      "  \"the coef_ did not converge\", ConvergenceWarning)\n",
      "C:\\Users\\Vladuk\\Anaconda2\\envs\\tf\\lib\\site-packages\\sklearn\\linear_model\\_sag.py:330: ConvergenceWarning: The max_iter was reached which means the coef_ did not converge\n",
      "  \"the coef_ did not converge\", ConvergenceWarning)\n",
      "C:\\Users\\Vladuk\\Anaconda2\\envs\\tf\\lib\\site-packages\\sklearn\\linear_model\\_sag.py:330: ConvergenceWarning: The max_iter was reached which means the coef_ did not converge\n",
      "  \"the coef_ did not converge\", ConvergenceWarning)\n",
      "C:\\Users\\Vladuk\\Anaconda2\\envs\\tf\\lib\\site-packages\\sklearn\\linear_model\\_sag.py:330: ConvergenceWarning: The max_iter was reached which means the coef_ did not converge\n",
      "  \"the coef_ did not converge\", ConvergenceWarning)\n"
     ]
    },
    {
     "data": {
      "text/plain": [
       "GridSearchCV(cv=StratifiedKFold(n_splits=3, random_state=None, shuffle=False),\n",
       "             error_score=nan,\n",
       "             estimator=LogisticRegression(C=1.0, class_weight='balanced',\n",
       "                                          dual=False, fit_intercept=True,\n",
       "                                          intercept_scaling=1, l1_ratio=None,\n",
       "                                          max_iter=100, multi_class='auto',\n",
       "                                          n_jobs=None, penalty='l2',\n",
       "                                          random_state=None, solver='lbfgs',\n",
       "                                          tol=0.0001, verbose=0,\n",
       "                                          warm_start=False),\n",
       "             iid='deprecated', n_jobs=None,\n",
       "             param_grid={'C': [0.1, 1, 10], 'penalty': ['l1', 'l2'],\n",
       "                         'solver': ['lbfgs', 'liblinear', 'saga']},\n",
       "             pre_dispatch='2*n_jobs', refit=True, return_train_score=False,\n",
       "             scoring='roc_auc', verbose=0)"
      ]
     },
     "execution_count": 327,
     "metadata": {},
     "output_type": "execute_result"
    }
   ],
   "source": [
    "from sklearn.model_selection import GridSearchCV\n",
    "param_grid = {'C': [0.1, 1, 10], 'solver': ['lbfgs', 'liblinear', 'saga'], 'penalty':['l1', 'l2']}\n",
    "model = LogisticRegression(class_weight='balanced')\n",
    "grid_cv = GridSearchCV(model, param_grid, scoring='roc_auc',  cv=skf)\n",
    "grid_cv.fit(X,y)"
   ]
  },
  {
   "cell_type": "code",
   "execution_count": 331,
   "metadata": {},
   "outputs": [
    {
     "name": "stdout",
     "output_type": "stream",
     "text": [
      "ROC-AUC: 0.6433086648165278\n",
      "ACC: 0.6480874316939891\n",
      "Precission: 0.12903225806451613\n",
      "Recall: 0.6376811594202898\n"
     ]
    }
   ],
   "source": [
    "y_pred = grid_cv.predict(X_hold_out)\n",
    "acc = accuracy_score(y_hold_out,y_pred)\n",
    "roc_auc = roc_auc_score(y_hold_out,y_pred)\n",
    "precision = precision_score(y_hold_out,y_pred, pos_label=1)\n",
    "recall = recall_score(y_hold_out,y_pred)\n",
    "print('ROC-AUC:', roc_auc)\n",
    "print('ACC:', acc)\n",
    "print('Precission:', precision)\n",
    "print('Recall:', recall)"
   ]
  },
  {
   "cell_type": "code",
   "execution_count": 334,
   "metadata": {},
   "outputs": [
    {
     "name": "stdout",
     "output_type": "stream",
     "text": [
      "682.0\n",
      "1148.0\n"
     ]
    }
   ],
   "source": [
    "print(y_pred.mean()*len(y_pred))\n",
    "print(len(y_pred) - y_pred.mean()*len(y_pred))"
   ]
  },
  {
   "cell_type": "code",
   "execution_count": 335,
   "metadata": {},
   "outputs": [
    {
     "name": "stdout",
     "output_type": "stream",
     "text": [
      "138.0\n",
      "1692.0\n"
     ]
    }
   ],
   "source": [
    "print(y_hold_out.mean()*len(y_hold_out))\n",
    "print(len(y_hold_out) - y_hold_out.mean()*len(y_hold_out))"
   ]
  },
  {
   "cell_type": "markdown",
   "metadata": {},
   "source": [
    "# Проверка нейронной сети"
   ]
  },
  {
   "cell_type": "code",
   "execution_count": 54,
   "metadata": {},
   "outputs": [],
   "source": [
    "X, X_hold_out, y, y_hold_out = train_test_split(data_train, target['labels'], test_size=0.1, stratify = target)"
   ]
  },
  {
   "cell_type": "code",
   "execution_count": 55,
   "metadata": {},
   "outputs": [
    {
     "data": {
      "text/plain": [
       "(16468, 463)"
      ]
     },
     "execution_count": 55,
     "metadata": {},
     "output_type": "execute_result"
    }
   ],
   "source": [
    "X.shape"
   ]
  },
  {
   "cell_type": "code",
   "execution_count": 78,
   "metadata": {},
   "outputs": [
    {
     "name": "stdout",
     "output_type": "stream",
     "text": [
      "Model: \"sequential_6\"\n",
      "_________________________________________________________________\n",
      "Layer (type)                 Output Shape              Param #   \n",
      "=================================================================\n",
      "dense_15 (Dense)             (None, 128)               59392     \n",
      "_________________________________________________________________\n",
      "dropout_9 (Dropout)          (None, 128)               0         \n",
      "_________________________________________________________________\n",
      "dense_16 (Dense)             (None, 64)                8256      \n",
      "_________________________________________________________________\n",
      "dropout_10 (Dropout)         (None, 64)                0         \n",
      "_________________________________________________________________\n",
      "dense_17 (Dense)             (None, 1)                 65        \n",
      "=================================================================\n",
      "Total params: 67,713\n",
      "Trainable params: 67,713\n",
      "Non-trainable params: 0\n",
      "_________________________________________________________________\n"
     ]
    }
   ],
   "source": [
    "import tensorflow\n",
    "from tensorflow.keras import models\n",
    "from tensorflow.keras import layers\n",
    "model = models.Sequential()\n",
    "model.add(layers.Dense(128, activation='relu', input_shape=(463,)))\n",
    "model.add(layers.Dropout(0.3))\n",
    "model.add(layers.Dense(64, activation='relu'))\n",
    "model.add(layers.Dropout(0.3))\n",
    "model.add(layers.Dense(1, activation='sigmoid'))\n",
    "\n",
    "model.compile(loss=tensorflow.keras.losses.BinaryCrossentropy(), optimizer='rmsprop', metrics=[tensorflow.keras.metrics.AUC()])\n",
    "model.summary()"
   ]
  },
  {
   "cell_type": "code",
   "execution_count": 79,
   "metadata": {},
   "outputs": [
    {
     "name": "stdout",
     "output_type": "stream",
     "text": [
      "Train on 16468 samples, validate on 1830 samples\n",
      "Epoch 1/10\n",
      "16468/16468 [==============================] - 2s 96us/sample - loss: 0.3149 - auc_4: 0.5374 - val_loss: 0.2590 - val_auc_4: 0.6617\n",
      "Epoch 2/10\n",
      "16468/16468 [==============================] - 0s 21us/sample - loss: 0.2655 - auc_4: 0.6236 - val_loss: 0.2547 - val_auc_4: 0.6762\n",
      "Epoch 3/10\n",
      "16468/16468 [==============================] - 0s 20us/sample - loss: 0.2602 - auc_4: 0.6452 - val_loss: 0.2519 - val_auc_4: 0.6767\n",
      "Epoch 4/10\n",
      "16468/16468 [==============================] - 0s 20us/sample - loss: 0.2553 - auc_4: 0.6721 - val_loss: 0.2548 - val_auc_4: 0.6679\n",
      "Epoch 5/10\n",
      "16468/16468 [==============================] - 0s 20us/sample - loss: 0.2518 - auc_4: 0.6894 - val_loss: 0.2533 - val_auc_4: 0.6649\n",
      "Epoch 6/10\n",
      "16468/16468 [==============================] - 0s 20us/sample - loss: 0.2496 - auc_4: 0.6983 - val_loss: 0.2572 - val_auc_4: 0.6672\n",
      "Epoch 7/10\n",
      "16468/16468 [==============================] - 0s 20us/sample - loss: 0.2478 - auc_4: 0.7055 - val_loss: 0.2560 - val_auc_4: 0.6640\n",
      "Epoch 8/10\n",
      "16468/16468 [==============================] - 0s 20us/sample - loss: 0.2449 - auc_4: 0.7200 - val_loss: 0.2584 - val_auc_4: 0.6617\n",
      "Epoch 9/10\n",
      "16468/16468 [==============================] - 0s 20us/sample - loss: 0.2438 - auc_4: 0.7261 - val_loss: 0.2573 - val_auc_4: 0.6637\n",
      "Epoch 10/10\n",
      "16468/16468 [==============================] - 0s 20us/sample - loss: 0.2413 - auc_4: 0.7339 - val_loss: 0.2676 - val_auc_4: 0.6575\n"
     ]
    }
   ],
   "source": [
    "history = model.fit(X, y, batch_size=512, epochs=10, validation_data=(X_hold_out, y_hold_out))"
   ]
  },
  {
   "cell_type": "code",
   "execution_count": 80,
   "metadata": {},
   "outputs": [
    {
     "data": {
      "text/plain": [
       "dict_keys(['loss', 'auc_4', 'val_loss', 'val_auc_4'])"
      ]
     },
     "execution_count": 80,
     "metadata": {},
     "output_type": "execute_result"
    }
   ],
   "source": [
    "history_dict = history.history\n",
    "history_dict.keys()"
   ]
  },
  {
   "cell_type": "code",
   "execution_count": 81,
   "metadata": {},
   "outputs": [
    {
     "data": {
      "image/png": "[encoded data removed]",
      "text/plain": [
       "<Figure size 432x288 with 1 Axes>"
      ]
     },
     "metadata": {
      "needs_background": "light"
     },
     "output_type": "display_data"
    }
   ],
   "source": [
    "import matplotlib.pyplot as plt\n",
    "loss_values = history_dict['loss']\n",
    "val_loss_values = history_dict['val_loss']\n",
    "epochs = range(1, len(loss_values) + 1)\n",
    "plt.plot(epochs, loss_values, 'bo', label='Training loss') \n",
    "plt.plot(epochs, val_loss_values, 'b', label='Validation loss') \n",
    "plt.title('Training and validation loss')\n",
    "plt.xlabel('Epochs')\n",
    "plt.ylabel('Loss')\n",
    "plt.legend()\n",
    "plt.show()"
   ]
  },
  {
   "cell_type": "code",
   "execution_count": 83,
   "metadata": {},
   "outputs": [
    {
     "data": {
      "image/png": "[encoded data removed]",
      "text/plain": [
       "<Figure size 432x288 with 1 Axes>"
      ]
     },
     "metadata": {
      "needs_background": "light"
     },
     "output_type": "display_data"
    }
   ],
   "source": [
    "acc_values = history_dict['auc_4']\n",
    "val_acc_values = history_dict['val_auc_4']\n",
    "plt.plot(epochs, acc_values, 'bo', label='Training auc')\n",
    "plt.plot(epochs, val_acc_values, 'b', label='Validation auc')\n",
    "plt.title('Training and validation auc')\n",
    "plt.xlabel('Epochs')\n",
    "plt.ylabel('auc')\n",
    "plt.legend()\n",
    "plt.show()"
   ]
  },
  {
   "cell_type": "markdown",
   "metadata": {},
   "source": [
    "Переобучение наблюдается с третей эпохи. Максимальная оценка, которую смогли достигнуть на валидационной выборке составляет 0,675"
   ]
  },
  {
   "cell_type": "markdown",
   "metadata": {},
   "source": [
    "# Подготовка тестовой выборки"
   ]
  },
  {
   "cell_type": "code",
   "execution_count": 84,
   "metadata": {},
   "outputs": [
    {
     "name": "stdout",
     "output_type": "stream",
     "text": [
      "(10000, 230)\n"
     ]
    }
   ],
   "source": [
    "print(test.shape)"
   ]
  },
  {
   "cell_type": "code",
   "execution_count": 85,
   "metadata": {},
   "outputs": [],
   "source": [
    "#отобранные признаки\n",
    "test_num = test[corr_num_feat]\n",
    "test_cat = test[corr_cat_feat_top_filter]"
   ]
  },
  {
   "cell_type": "code",
   "execution_count": 86,
   "metadata": {},
   "outputs": [],
   "source": [
    "#масштабирование численных признаков тестового набора\n",
    "test_num = test_num[corr_num_feat].fillna(mean_train)\n",
    "test_num_scaled = scaler.transform(test_num)\n",
    "test_num_scaled = pd.DataFrame(test_num_scaled, index=test_num.index, columns=test_num.columns)"
   ]
  },
  {
   "cell_type": "code",
   "execution_count": 87,
   "metadata": {},
   "outputs": [
    {
     "data": {
      "text/plain": [
       "(18298, 20)"
      ]
     },
     "execution_count": 87,
     "metadata": {},
     "output_type": "execute_result"
    }
   ],
   "source": [
    "#обработка категориальных признаков\n",
    "data[corr_cat_feat_top_filter].shape"
   ]
  },
  {
   "cell_type": "code",
   "execution_count": 88,
   "metadata": {},
   "outputs": [
    {
     "data": {
      "text/plain": [
       "(28298, 456)"
      ]
     },
     "execution_count": 88,
     "metadata": {},
     "output_type": "execute_result"
    }
   ],
   "source": [
    "all_cat_data =pd.concat([data[corr_cat_feat_top_filter],test_cat],axis=0)\n",
    "all_cat_data_transf = pd.get_dummies(all_cat_data, dummy_na=True) #one-hot кодирование\n",
    "all_cat_data_transf.shape"
   ]
  },
  {
   "cell_type": "code",
   "execution_count": 89,
   "metadata": {},
   "outputs": [
    {
     "name": "stdout",
     "output_type": "stream",
     "text": [
      "434\n"
     ]
    }
   ],
   "source": [
    "train_cat_transf = all_cat_data_transf[:18298]\n",
    "train_cat_list = [(fear,len(train_cat_transf[fear].unique())) for fear in train_cat_transf.columns]\n",
    "need_cat_fear = list()\n",
    "for obj in train_cat_list:\n",
    "    if obj[1]> 1:\n",
    "        need_cat_fear.append(obj[0])\n",
    "print(len(need_cat_fear))"
   ]
  },
  {
   "cell_type": "code",
   "execution_count": 90,
   "metadata": {},
   "outputs": [],
   "source": [
    "train_cat_transf = train_cat_transf[need_cat_fear]\n",
    "test_cat_transf = all_cat_data_transf[need_cat_fear][18298:]"
   ]
  },
  {
   "cell_type": "code",
   "execution_count": 91,
   "metadata": {},
   "outputs": [
    {
     "data": {
      "text/plain": [
       "(10000, 454)"
      ]
     },
     "execution_count": 91,
     "metadata": {},
     "output_type": "execute_result"
    }
   ],
   "source": [
    "#сбор обработанного тестового набора\n",
    "test_transf = pd.concat([test_num_scaled,test_cat_transf], axis=1)\n",
    "test_transf.shape"
   ]
  },
  {
   "cell_type": "code",
   "execution_count": 92,
   "metadata": {},
   "outputs": [
    {
     "data": {
      "text/plain": [
       "(18298, 454)"
      ]
     },
     "execution_count": 92,
     "metadata": {},
     "output_type": "execute_result"
    }
   ],
   "source": [
    "#сбор обработанного тренировочного набора\n",
    "train_transf = pd.concat([data_num_scaled,train_cat_transf], axis=1)\n",
    "train_transf.shape"
   ]
  },
  {
   "cell_type": "markdown",
   "metadata": {},
   "source": [
    "## Предсказание логистической регрессии на тестовых данных"
   ]
  },
  {
   "cell_type": "code",
   "execution_count": 199,
   "metadata": {},
   "outputs": [
    {
     "data": {
      "text/plain": [
       "LogisticRegression(C=1.0, class_weight='balanced', dual=False,\n",
       "                   fit_intercept=True, intercept_scaling=1, l1_ratio=None,\n",
       "                   max_iter=100, multi_class='auto', n_jobs=-1, penalty='l2',\n",
       "                   random_state=None, solver='lbfgs', tol=0.0001, verbose=0,\n",
       "                   warm_start=False)"
      ]
     },
     "execution_count": 199,
     "metadata": {},
     "output_type": "execute_result"
    }
   ],
   "source": [
    "# Логистическая регрессия\n",
    "model = LogisticRegression(class_weight='balanced', n_jobs=-1)\n",
    "model.fit(train_transf,target['labels'].values)"
   ]
  },
  {
   "cell_type": "code",
   "execution_count": 200,
   "metadata": {},
   "outputs": [],
   "source": [
    "y_pred_test = model.predict_proba(test_transf)"
   ]
  },
  {
   "cell_type": "code",
   "execution_count": 204,
   "metadata": {},
   "outputs": [],
   "source": [
    "y_pred_test_prob_1 = [obj[1] for obj in y_pred_test]"
   ]
  },
  {
   "cell_type": "code",
   "execution_count": 205,
   "metadata": {},
   "outputs": [],
   "source": [
    "answer_df = pd.DataFrame(y_pred_test_prob_1, columns=['result'])\n",
    "answer_df.index.name = 'ID'\n",
    "answer_df.to_csv('answer.csv', index='ID') #0.66745 (преодолели simple benchmark)"
   ]
  },
  {
   "cell_type": "markdown",
   "metadata": {},
   "source": [
    "## Предсказание нейронной сети на тестовых данных"
   ]
  },
  {
   "cell_type": "code",
   "execution_count": 130,
   "metadata": {},
   "outputs": [
    {
     "name": "stdout",
     "output_type": "stream",
     "text": [
      "Model: \"sequential_13\"\n",
      "_________________________________________________________________\n",
      "Layer (type)                 Output Shape              Param #   \n",
      "=================================================================\n",
      "dense_33 (Dense)             (None, 128)               58240     \n",
      "_________________________________________________________________\n",
      "dropout_21 (Dropout)         (None, 128)               0         \n",
      "_________________________________________________________________\n",
      "dense_34 (Dense)             (None, 64)                8256      \n",
      "_________________________________________________________________\n",
      "dropout_22 (Dropout)         (None, 64)                0         \n",
      "_________________________________________________________________\n",
      "dense_35 (Dense)             (None, 1)                 65        \n",
      "=================================================================\n",
      "Total params: 66,561\n",
      "Trainable params: 66,561\n",
      "Non-trainable params: 0\n",
      "_________________________________________________________________\n"
     ]
    }
   ],
   "source": [
    "import tensorflow\n",
    "from tensorflow.keras import models\n",
    "from tensorflow.keras import layers\n",
    "model = models.Sequential()\n",
    "model.add(layers.Dense(128, kernel_regularizer=tensorflow.keras.regularizers.l2(0.001), activation='relu', input_shape=(454,)))\n",
    "model.add(layers.Dropout(0.3))\n",
    "model.add(layers.Dense(64, kernel_regularizer=tensorflow.keras.regularizers.l2(0.001), activation='relu'))\n",
    "model.add(layers.Dropout(0.3))\n",
    "model.add(layers.Dense(1, activation='sigmoid'))\n",
    "\n",
    "model.compile(loss=tensorflow.keras.losses.BinaryCrossentropy(), optimizer='rmsprop', metrics=[tensorflow.keras.metrics.AUC()])\n",
    "model.summary()"
   ]
  },
  {
   "cell_type": "code",
   "execution_count": 131,
   "metadata": {},
   "outputs": [],
   "source": [
    "X, X_hold_out, y, y_hold_out = train_test_split(train_transf, target['labels'].values, test_size=0.1, stratify = target)"
   ]
  },
  {
   "cell_type": "code",
   "execution_count": 132,
   "metadata": {},
   "outputs": [
    {
     "name": "stdout",
     "output_type": "stream",
     "text": [
      "Train on 16468 samples, validate on 1830 samples\n",
      "Epoch 1/20\n",
      "16468/16468 [==============================] - 2s 101us/sample - loss: 0.5231 - auc_10: 0.5514 - val_loss: 0.4112 - val_auc_10: 0.6313\n",
      "Epoch 2/20\n",
      "16468/16468 [==============================] - 0s 21us/sample - loss: 0.3865 - auc_10: 0.6133 - val_loss: 0.3518 - val_auc_10: 0.6586\n",
      "Epoch 3/20\n",
      "16468/16468 [==============================] - 0s 21us/sample - loss: 0.3367 - auc_10: 0.6408 - val_loss: 0.3171 - val_auc_10: 0.6667\n",
      "Epoch 4/20\n",
      "16468/16468 [==============================] - 0s 21us/sample - loss: 0.3109 - auc_10: 0.6574 - val_loss: 0.3004 - val_auc_10: 0.6726\n",
      "Epoch 5/20\n",
      "16468/16468 [==============================] - 0s 21us/sample - loss: 0.2968 - auc_10: 0.6627 - val_loss: 0.2911 - val_auc_10: 0.6735\n",
      "Epoch 6/20\n",
      "16468/16468 [==============================] - 0s 21us/sample - loss: 0.2871 - auc_10: 0.6717 - val_loss: 0.2836 - val_auc_10: 0.6653\n",
      "Epoch 7/20\n",
      "16468/16468 [==============================] - 0s 22us/sample - loss: 0.2812 - auc_10: 0.6713 - val_loss: 0.2793 - val_auc_10: 0.6765\n",
      "Epoch 8/20\n",
      "16468/16468 [==============================] - 0s 21us/sample - loss: 0.2759 - auc_10: 0.6786 - val_loss: 0.2756 - val_auc_10: 0.6725\n",
      "Epoch 9/20\n",
      "16468/16468 [==============================] - 0s 21us/sample - loss: 0.2745 - auc_10: 0.6733 - val_loss: 0.2733 - val_auc_10: 0.6656\n",
      "Epoch 10/20\n",
      "16468/16468 [==============================] - 0s 21us/sample - loss: 0.2722 - auc_10: 0.6710 - val_loss: 0.2721 - val_auc_10: 0.6662\n",
      "Epoch 11/20\n",
      "16468/16468 [==============================] - 0s 21us/sample - loss: 0.2672 - auc_10: 0.6889 - val_loss: 0.2755 - val_auc_10: 0.6694\n",
      "Epoch 12/20\n",
      "16468/16468 [==============================] - 0s 21us/sample - loss: 0.2677 - auc_10: 0.6768 - val_loss: 0.2785 - val_auc_10: 0.6634\n",
      "Epoch 13/20\n",
      "16468/16468 [==============================] - 0s 20us/sample - loss: 0.2659 - auc_10: 0.6816 - val_loss: 0.2690 - val_auc_10: 0.6617\n",
      "Epoch 14/20\n",
      "16468/16468 [==============================] - 0s 21us/sample - loss: 0.2650 - auc_10: 0.6851 - val_loss: 0.2673 - val_auc_10: 0.6651\n",
      "Epoch 15/20\n",
      "16468/16468 [==============================] - 0s 21us/sample - loss: 0.2642 - auc_10: 0.6846 - val_loss: 0.2798 - val_auc_10: 0.6679\n",
      "Epoch 16/20\n",
      "16468/16468 [==============================] - 0s 20us/sample - loss: 0.2619 - auc_10: 0.6940 - val_loss: 0.2675 - val_auc_10: 0.6746\n",
      "Epoch 17/20\n",
      "16468/16468 [==============================] - 0s 21us/sample - loss: 0.2621 - auc_10: 0.6901 - val_loss: 0.2687 - val_auc_10: 0.6647\n",
      "Epoch 18/20\n",
      "16468/16468 [==============================] - 0s 21us/sample - loss: 0.2617 - auc_10: 0.6876 - val_loss: 0.2654 - val_auc_10: 0.6728\n",
      "Epoch 19/20\n",
      "16468/16468 [==============================] - 0s 21us/sample - loss: 0.2596 - auc_10: 0.6981 - val_loss: 0.2659 - val_auc_10: 0.6662\n",
      "Epoch 20/20\n",
      "16468/16468 [==============================] - 0s 20us/sample - loss: 0.2597 - auc_10: 0.6967 - val_loss: 0.2651 - val_auc_10: 0.6776\n"
     ]
    }
   ],
   "source": [
    "history = model.fit(X, y, batch_size=512, epochs=20, validation_data=(X_hold_out, y_hold_out))"
   ]
  },
  {
   "cell_type": "code",
   "execution_count": 133,
   "metadata": {},
   "outputs": [
    {
     "data": {
      "text/plain": [
       "dict_keys(['loss', 'auc_10', 'val_loss', 'val_auc_10'])"
      ]
     },
     "execution_count": 133,
     "metadata": {},
     "output_type": "execute_result"
    }
   ],
   "source": [
    "history_dict = history.history\n",
    "history_dict.keys()"
   ]
  },
  {
   "cell_type": "code",
   "execution_count": 134,
   "metadata": {},
   "outputs": [
    {
     "data": {
      "image/png": "[encoded data removed]",
      "text/plain": [
       "<Figure size 432x288 with 1 Axes>"
      ]
     },
     "metadata": {
      "needs_background": "light"
     },
     "output_type": "display_data"
    }
   ],
   "source": [
    "import matplotlib.pyplot as plt\n",
    "loss_values = history_dict['loss']\n",
    "val_loss_values = history_dict['val_loss']\n",
    "epochs = range(1, len(loss_values) + 1)\n",
    "plt.plot(epochs, loss_values, 'bo', label='Training loss') \n",
    "plt.plot(epochs, val_loss_values, 'b', label='Validation loss') \n",
    "plt.title('Training and validation loss')\n",
    "plt.xlabel('Epochs')\n",
    "plt.ylabel('Loss')\n",
    "plt.legend()\n",
    "plt.show()"
   ]
  },
  {
   "cell_type": "code",
   "execution_count": 136,
   "metadata": {},
   "outputs": [
    {
     "data": {
      "image/png": "[encoded data removed]",
      "text/plain": [
       "<Figure size 432x288 with 1 Axes>"
      ]
     },
     "metadata": {
      "needs_background": "light"
     },
     "output_type": "display_data"
    }
   ],
   "source": [
    "acc_values = history_dict['auc_10']\n",
    "val_acc_values = history_dict['val_auc_10']\n",
    "plt.plot(epochs, acc_values, 'bo', label='Training auc')\n",
    "plt.plot(epochs, val_acc_values, 'b', label='Validation auc')\n",
    "plt.title('Training and validation auc')\n",
    "plt.xlabel('Epochs')\n",
    "plt.ylabel('auc')\n",
    "plt.legend()\n",
    "plt.show()"
   ]
  },
  {
   "cell_type": "code",
   "execution_count": 193,
   "metadata": {},
   "outputs": [
    {
     "name": "stdout",
     "output_type": "stream",
     "text": [
      "Train on 18298 samples\n",
      "Epoch 1/20\n",
      "18298/18298 [==============================] - 1s 73us/sample - loss: 0.4949 - auc_14: 0.5549\n",
      "Epoch 2/20\n",
      "18298/18298 [==============================] - 0s 18us/sample - loss: 0.3774 - auc_14: 0.6133\n",
      "Epoch 3/20\n",
      "18298/18298 [==============================] - 0s 18us/sample - loss: 0.3318 - auc_14: 0.6412\n",
      "Epoch 4/20\n",
      "18298/18298 [==============================] - 0s 18us/sample - loss: 0.3078 - auc_14: 0.6609\n",
      "Epoch 5/20\n",
      "18298/18298 [==============================] - 0s 18us/sample - loss: 0.2951 - auc_14: 0.6602\n",
      "Epoch 6/20\n",
      "18298/18298 [==============================] - 0s 18us/sample - loss: 0.2859 - auc_14: 0.6683\n",
      "Epoch 7/20\n",
      "18298/18298 [==============================] - 0s 18us/sample - loss: 0.2807 - auc_14: 0.6707\n",
      "Epoch 8/20\n",
      "18298/18298 [==============================] - 0s 18us/sample - loss: 0.2765 - auc_14: 0.6745\n",
      "Epoch 9/20\n",
      "18298/18298 [==============================] - 0s 18us/sample - loss: 0.2727 - auc_14: 0.6784\n",
      "Epoch 10/20\n",
      "18298/18298 [==============================] - 0s 18us/sample - loss: 0.2702 - auc_14: 0.6827\n",
      "Epoch 11/20\n",
      "18298/18298 [==============================] - 0s 18us/sample - loss: 0.2685 - auc_14: 0.6840\n",
      "Epoch 12/20\n",
      "18298/18298 [==============================] - 0s 18us/sample - loss: 0.2665 - auc_14: 0.6865\n",
      "Epoch 13/20\n",
      "18298/18298 [==============================] - 0s 18us/sample - loss: 0.2659 - auc_14: 0.6836\n",
      "Epoch 14/20\n",
      "18298/18298 [==============================] - 0s 19us/sample - loss: 0.2648 - auc_14: 0.6850\n",
      "Epoch 15/20\n",
      "18298/18298 [==============================] - 0s 20us/sample - loss: 0.2639 - auc_14: 0.6842\n",
      "Epoch 16/20\n",
      "18298/18298 [==============================] - 0s 20us/sample - loss: 0.2629 - auc_14: 0.6864\n",
      "Epoch 17/20\n",
      "18298/18298 [==============================] - 0s 19us/sample - loss: 0.2629 - auc_14: 0.6871\n",
      "Epoch 18/20\n",
      "18298/18298 [==============================] - 0s 19us/sample - loss: 0.2611 - auc_14: 0.6938\n",
      "Epoch 19/20\n",
      "18298/18298 [==============================] - 0s 18us/sample - loss: 0.2589 - auc_14: 0.7009\n",
      "Epoch 20/20\n",
      "18298/18298 [==============================] - 0s 19us/sample - loss: 0.2598 - auc_14: 0.6948\n"
     ]
    },
    {
     "data": {
      "text/plain": [
       "<tensorflow.python.keras.callbacks.History at 0x30cc3f08>"
      ]
     },
     "execution_count": 193,
     "metadata": {},
     "output_type": "execute_result"
    }
   ],
   "source": [
    "model = models.Sequential()\n",
    "model.add(layers.Dense(128, kernel_regularizer=tensorflow.keras.regularizers.l2(0.001), activation='relu', input_shape=(454,)))\n",
    "model.add(layers.Dropout(0.3))\n",
    "model.add(layers.Dense(64, kernel_regularizer=tensorflow.keras.regularizers.l2(0.001), activation='relu'))\n",
    "model.add(layers.Dropout(0.3))\n",
    "model.add(layers.Dense(1, activation='sigmoid'))\n",
    "model.compile(loss=tensorflow.keras.losses.BinaryCrossentropy(), optimizer='rmsprop', metrics=[tensorflow.keras.metrics.AUC()])\n",
    "\n",
    "model.fit(train_transf, target['labels'].values, epochs=20, batch_size=512)"
   ]
  },
  {
   "cell_type": "code",
   "execution_count": 194,
   "metadata": {},
   "outputs": [],
   "source": [
    "predictions = model.predict(test_transf) #предсказание модели"
   ]
  },
  {
   "cell_type": "code",
   "execution_count": 195,
   "metadata": {},
   "outputs": [],
   "source": [
    "predictions = predictions.reshape(10000)"
   ]
  },
  {
   "cell_type": "code",
   "execution_count": 197,
   "metadata": {},
   "outputs": [],
   "source": [
    "answer_df = pd.DataFrame(predictions, columns=['result'])\n",
    "answer_df.index.name = 'ID'\n",
    "answer_df.to_csv('answer_n_2.csv', index='ID') #0.66 - порог simple benchmark ([оценка хуже, чем  линейной регрессии])"
   ]
  }
 ],
 "metadata": {
  "kernelspec": {
   "display_name": "Python 3",
   "language": "python",
   "name": "python3"
  },
  "language_info": {
   "codemirror_mode": {
    "name": "ipython",
    "version": 3
   },
   "file_extension": ".py",
   "mimetype": "text/x-python",
   "name": "python",
   "nbconvert_exporter": "python",
   "pygments_lexer": "ipython3",
   "version": "3.7.7"
  }
 },
 "nbformat": 4,
 "nbformat_minor": 4
}
