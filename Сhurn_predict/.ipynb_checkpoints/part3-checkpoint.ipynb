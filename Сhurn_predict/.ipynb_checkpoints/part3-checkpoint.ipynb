{
 "cells": [
  {
   "cell_type": "markdown",
   "metadata": {},
   "source": [
    "### Финальный проект: Прогнозирование оттока клиентов\n",
    "\n",
    "## Неделя 3: Эксперименты с моделью прогнозирования оттока\n"
   ]
  },
  {
   "cell_type": "markdown",
   "metadata": {},
   "source": [
    "В рамках проекта мы будем решать задачу прогнозирования оттока пользователей, или churn prediction. Эта задача заключается в прогнозировании вероятности того, что клиент перестанет пользоваться сервисом в течение некоторого заданного заранее промежутка времени, например, решит перейти к конкуренту или откажется от использования услуги данного типа вообще.\n",
    "\n",
    "Данные были предоставлены французской телекоммуникационной компанией Orange. В задаче речь идет о клиентских данных, поэтому данные были предварительно обфусцированы и анонимизированны: из датасета убрана любая персональная информация, позволяющая идентифицировать пользователей, а также не представлены названия и описания переменных, предназначенных для построения прогнозов. Мы будем работать с набором данных orange small dataset. Он состоит из 50 тыс. объектов и включает 230 переменных, из которых первые 190 переменных - числовые, и оставшиеся 40 переменные - категориальные.\n",
    "\n",
    "---\n",
    "\n",
    "На прошлой неделе вы поучаствовали в соревновании на kaggle и, наверняка, большинство успешно справилось с прохождением baseline, а значит пора двигаться дальше - заняться оптимизацией модели, провести серию экспериментов и построить сильное финальное решения.\n",
    "\n",
    "В этом задании вам нужно провести ряд эскпериментов, оценить качество полученных в процессе экспериментирования моделей и выбрать лучшее решение. "
   ]
  },
  {
   "cell_type": "code",
   "execution_count": 45,
   "metadata": {},
   "outputs": [
    {
     "name": "stdout",
     "output_type": "stream",
     "text": [
      "Populating the interactive namespace from numpy and matplotlib\n"
     ]
    }
   ],
   "source": [
    "# библиотеки\n",
    "import pandas as pd\n",
    "import numpy as np\n",
    "import itertools\n",
    "import xgboost as xgb\n",
    "\n",
    "from sklearn import metrics\n",
    "from sklearn.model_selection import StratifiedKFold\n",
    "from sklearn.model_selection import learning_curve\n",
    "from sklearn.preprocessing import StandardScaler\n",
    "from sklearn.feature_selection import SelectKBest, SelectFromModel\n",
    "from sklearn.model_selection import GridSearchCV\n",
    "from sklearn.linear_model import LogisticRegression\n",
    "from sklearn.linear_model import LogisticRegressionCV\n",
    "from sklearn.model_selection import train_test_split\n",
    "from matplotlib import pyplot as plt\n",
    "import seaborn as sns\n",
    "%pylab inline\n",
    "\n",
    "import warnings\n",
    "warnings.filterwarnings(\"ignore\")"
   ]
  },
  {
   "cell_type": "code",
   "execution_count": 3,
   "metadata": {},
   "outputs": [],
   "source": [
    "# загрузка данных\n",
    "train = pd.read_csv(\"telecom_clients_prediction/orange_small_churn_train_data.csv\")\n",
    "train.loc[train['labels'] == -1, 'labels'] = 0\n",
    "labels = train['labels'].copy()\n",
    "\n",
    "# имена категориальных и числовых переменных\n",
    "features_num = train.columns[1:191].tolist()\n",
    "features_cat = train.columns[191:231].tolist()\n",
    "\n",
    "# приводим типы\n",
    "train[features_cat] = train[features_cat].astype(object)\n",
    "\n",
    "# среднее по выборке\n",
    "baseline = labels.mean()"
   ]
  },
  {
   "cell_type": "code",
   "execution_count": 11,
   "metadata": {},
   "outputs": [],
   "source": [
    "train = train[:-1]\n",
    "labels = labels[:-1]"
   ]
  },
  {
   "cell_type": "markdown",
   "metadata": {},
   "source": [
    "## 1.  Как много объектов действительно нужно для построения качественной модели?\n",
    "\n",
    "*Начнем с простого. Давайте оценим как много объектов действительно нужно для построения качественной модели. Для обучения доступна достаточно большая выборка и может так оказаться, что начиная с некоторого момента рост размера обучающей выборки перестает влиять на качество модели. Постройте кривые обучения, обучая модель на выборках разного размера начиная с небольшого количество объектов в обучающей выборке и постепенно наращивая её размер с некоторым шагом. Обратите внимание на `sklearn.model_selection.learning_curve`*"
   ]
  },
  {
   "cell_type": "markdown",
   "metadata": {},
   "source": [
    "Здесь я буду работать только с числовыми признаками:"
   ]
  },
  {
   "cell_type": "code",
   "execution_count": 12,
   "metadata": {},
   "outputs": [],
   "source": [
    "# заменяем пропущенные значения средними, выбросим пустые колонки и нормализуем\n",
    "X1 = train[features_num].copy()\n",
    "X1 = X1.fillna(X1.mean())\n",
    "X1 = X1.dropna(axis=1,how='all')\n",
    "X1 = pd.DataFrame(StandardScaler().fit_transform(X1))"
   ]
  },
  {
   "cell_type": "code",
   "execution_count": 14,
   "metadata": {},
   "outputs": [
    {
     "data": {
      "image/png": "[encoded data removed]",
      "text/plain": [
       "<Figure size 864x432 with 1 Axes>"
      ]
     },
     "metadata": {
      "needs_background": "light"
     },
     "output_type": "display_data"
    }
   ],
   "source": [
    "import warnings\n",
    "warnings.filterwarnings(\"ignore\")\n",
    "train_sizes, train_scores, test_scores = learning_curve(LogisticRegression(), X1, labels, cv=3, scoring='roc_auc',\n",
    "                                                       train_sizes=[0.2, 0.4, 0.6, 0.8, 1])\n",
    "plt.figure(figsize=(12,6))\n",
    "plt.plot(train_sizes, train_scores.mean(axis=1), label=u\"Обучающая выборка\")\n",
    "plt.plot(train_sizes, test_scores.mean(axis=1), label=u\"Тренировочная выборка\")\n",
    "plt.xlabel(u'Размер выборки')\n",
    "plt.ylabel(u'ROC AUC')\n",
    "plt.legend(loc=\"best\")\n",
    "plt.show()\n",
    "\n",
    "del train_sizes, train_scores, test_scores"
   ]
  },
  {
   "cell_type": "markdown",
   "metadata": {},
   "source": [
    "Как видно из графика, метрика на тестовой выборке продолжает расти с увеличением обучающей выборки. Поэтому на этом объеме чем больше, тем лучше."
   ]
  },
  {
   "cell_type": "markdown",
   "metadata": {},
   "source": [
    "## 2. Баланс классов \n",
    "*Часто несбалансированные по классам выборки приводят к различным проблемам при обучении моделей. Давайте попробуем по-разному обработать выборку, поиграть с распределением объектов по классам и сделать выводы о том, как соотношение классов влияет на качество модели.*"
   ]
  },
  {
   "cell_type": "markdown",
   "metadata": {},
   "source": [
    "### 2.1 Задайте веса объектам\n",
    "\n",
    "*Задайте веса объектам так, чтобы соотношение классов с учетом весов объектов изменилось. Попробуйте не менее трёх различных вариантов весов. Меняются ли результаты классификации? Как это сказывается на качестве модели? Какой вариант выглядит наиболее оптимальным с точки зрения качества?*"
   ]
  },
  {
   "cell_type": "markdown",
   "metadata": {},
   "source": [
    "В исходной выборке положительный класс составляет ~7.4%, т.е. соотношение отрицательного и положительного классов составляет 13:1. Воспользуемся параметром class_weight в логистической регрессии и посмотрим на что он влияет:"
   ]
  },
  {
   "cell_type": "code",
   "execution_count": 16,
   "metadata": {},
   "outputs": [],
   "source": [
    "# печатаем метрики по кросс-валидации\n",
    "def get_cv_roc_pr_rc(clf, skf, X, y):\n",
    "    roc_auc = []\n",
    "    pr_auc = []\n",
    "    precision = []\n",
    "    recall = []\n",
    "    models = []\n",
    "    for train, test in skf.split(X, y):\n",
    "        models.append(clf.fit(X.iloc[train,:], y.iloc[train]))\n",
    "        y_pred = clf.predict(X.iloc[test,:])\n",
    "        y_pred_prob = clf.predict_proba(X.iloc[test,:])[:,1]\n",
    "        roc_auc.append(metrics.roc_auc_score(y.iloc[test], y_pred_prob))\n",
    "        pr_auc.append(metrics.average_precision_score(y.iloc[test], y_pred_prob))\n",
    "        precision.append(metrics.precision_score(y.iloc[test], y_pred))\n",
    "        recall.append(metrics.recall_score(y.iloc[test], y_pred))\n",
    "\n",
    "    print('ROC-AUC:', np.mean(roc_auc))\n",
    "    print('PR-AUC:', np.mean(pr_auc))\n",
    "    print('Precission:', np.mean(precision))\n",
    "    print('Recall:', np.mean(recall))\n",
    "    \n",
    "    return roc_auc, pr_auc, precision, recall, models"
   ]
  },
  {
   "cell_type": "code",
   "execution_count": 17,
   "metadata": {},
   "outputs": [
    {
     "name": "stdout",
     "output_type": "stream",
     "text": [
      "ROC-AUC: 0.639947158363298\n",
      "PR-AUC: 0.12186945219501015\n",
      "Precission: 0.11966794380587482\n",
      "Recall: 0.005083514887436456\n"
     ]
    }
   ],
   "source": [
    "skf = StratifiedKFold(n_splits=3, random_state=19)\n",
    "clf = LogisticRegression()\n",
    "roc_auc, pr_auc, precision, recall, models = get_cv_roc_pr_rc(clf, skf, X1, labels)"
   ]
  },
  {
   "cell_type": "code",
   "execution_count": 18,
   "metadata": {},
   "outputs": [
    {
     "name": "stdout",
     "output_type": "stream",
     "text": [
      "ROC-AUC: 0.6392105546121685\n",
      "PR-AUC: 0.1210250746092864\n",
      "Precission: 0.20304232804232805\n",
      "Recall: 0.0036310820624546117\n"
     ]
    }
   ],
   "source": [
    "w = {0: 3, 1: 1}\n",
    "skf = StratifiedKFold(n_splits=3, random_state=19)\n",
    "clf = LogisticRegression(class_weight=w)\n",
    "roc_auc, pr_auc, precision, recall, models = get_cv_roc_pr_rc(clf, skf, X1, labels)"
   ]
  },
  {
   "cell_type": "code",
   "execution_count": 19,
   "metadata": {},
   "outputs": [
    {
     "name": "stdout",
     "output_type": "stream",
     "text": [
      "ROC-AUC: 0.6400587987485337\n",
      "PR-AUC: 0.12210889943636401\n",
      "Precission: 0.1677952677952678\n",
      "Recall: 0.028322440087145972\n"
     ]
    }
   ],
   "source": [
    "w = {0: 1, 1: 3}\n",
    "skf = StratifiedKFold(n_splits=3, random_state=19)\n",
    "clf = LogisticRegression(class_weight=w)\n",
    "roc_auc, pr_auc, precision, recall, models = get_cv_roc_pr_rc(clf, skf, X1, labels)"
   ]
  },
  {
   "cell_type": "code",
   "execution_count": 20,
   "metadata": {
    "scrolled": true
   },
   "outputs": [
    {
     "name": "stdout",
     "output_type": "stream",
     "text": [
      "ROC-AUC: 0.6377282618150898\n",
      "PR-AUC: 0.11934178806272044\n",
      "Precission: 0.10633939289684156\n",
      "Recall: 0.6535947712418301\n"
     ]
    }
   ],
   "source": [
    "w = {0: 1, 1: 13}\n",
    "skf = StratifiedKFold(n_splits=3, random_state=19)\n",
    "clf = LogisticRegression(class_weight=w)\n",
    "roc_auc, pr_auc, precision, recall, models = get_cv_roc_pr_rc(clf, skf, X1, labels)"
   ]
  },
  {
   "cell_type": "code",
   "execution_count": 21,
   "metadata": {},
   "outputs": [
    {
     "name": "stdout",
     "output_type": "stream",
     "text": [
      "ROC-AUC: 0.6381813367707765\n",
      "PR-AUC: 0.11967740155579383\n",
      "Precission: 0.10782076878210133\n",
      "Recall: 0.6114742193173566\n"
     ]
    }
   ],
   "source": [
    "skf = StratifiedKFold(n_splits=3, random_state=19)\n",
    "clf = LogisticRegression(class_weight='balanced')\n",
    "roc_auc, pr_auc, precision, recall, models = get_cv_roc_pr_rc(clf, skf, X1, labels)"
   ]
  },
  {
   "cell_type": "markdown",
   "metadata": {},
   "source": [
    "Изменяя веса каждого класса, мы в большей степени влияем на точность и полноту, чем на остальные метрики."
   ]
  },
  {
   "cell_type": "markdown",
   "metadata": {},
   "source": [
    "### 2.2 Примените к выборке технологию undersampling\n",
    "*Для этого нужно убрать из обучения некоторое количество объектов большего класса таким образом, чтобы соотношение классов изменилось. Попробуйте не менее трёх различных вариантов undersampling (варианты могут отличаться как по количество отфильтрованных объектов, так и по принципу выборка объектов для отсеивания из выборки). Меняются ли результаты классификации? Как это сказывается на качестве модели? Какой вариант выглядит наиболее оптимальным с точки зрения качества?*"
   ]
  },
  {
   "cell_type": "code",
   "execution_count": 24,
   "metadata": {},
   "outputs": [
    {
     "name": "stdout",
     "output_type": "stream",
     "text": [
      "0.25 0.5 0.75\n"
     ]
    }
   ],
   "source": [
    "# найдем индексы обоих классов\n",
    "idx_0 = X1[labels == 0].index.tolist()\n",
    "idx_1 = X1[labels == 1].index.tolist()\n",
    "\n",
    "# наблюдения, которые оставим в трех случаях\n",
    "undersample_1 = list(np.random.choice(idx_0, 3*len(idx_1)))\n",
    "undersample_2 = list(np.random.choice(idx_0, 1*len(idx_1)))\n",
    "undersample_3 = list(np.random.choice(idx_0, len(idx_1)//3))\n",
    "\n",
    "# посчитаем соотношение классов\n",
    "print(np.mean(labels[undersample_1 + idx_1]), np.mean(labels[undersample_2 + idx_1]),\\\n",
    "    np.mean(labels[undersample_3 + idx_1]))"
   ]
  },
  {
   "cell_type": "code",
   "execution_count": 26,
   "metadata": {},
   "outputs": [
    {
     "name": "stdout",
     "output_type": "stream",
     "text": [
      "ROC-AUC: 0.6404843763267162\n",
      "PR-AUC: 0.3458180638913893\n",
      "Precission: 0.4061137432545722\n",
      "Recall: 0.07262164124909223\n"
     ]
    }
   ],
   "source": [
    "skf = StratifiedKFold(n_splits=3, random_state=19)\n",
    "clf = LogisticRegression()\n",
    "roc_auc, pr_auc, precision, recall, models = get_cv_roc_pr_rc(clf, skf,\\\n",
    "        X1.iloc[undersample_1 + idx_1], labels[undersample_1 + idx_1])"
   ]
  },
  {
   "cell_type": "code",
   "execution_count": 27,
   "metadata": {},
   "outputs": [
    {
     "name": "stdout",
     "output_type": "stream",
     "text": [
      "ROC-AUC: 0.638996080962846\n",
      "PR-AUC: 0.6052832368314708\n",
      "Precission: 0.5976555543018366\n",
      "Recall: 0.6528685548293391\n"
     ]
    }
   ],
   "source": [
    "skf = StratifiedKFold(n_splits=3, random_state=19)\n",
    "clf = LogisticRegression()\n",
    "roc_auc, pr_auc, precision, recall, models = get_cv_roc_pr_rc(clf, skf,\\\n",
    "        X1.iloc[undersample_2 + idx_1], labels[undersample_2 + idx_1])"
   ]
  },
  {
   "cell_type": "code",
   "execution_count": 28,
   "metadata": {},
   "outputs": [
    {
     "name": "stdout",
     "output_type": "stream",
     "text": [
      "ROC-AUC: 0.6330850907295864\n",
      "PR-AUC: 0.819992877209314\n",
      "Precission: 0.766667338311129\n",
      "Recall: 0.9491648511256354\n"
     ]
    }
   ],
   "source": [
    "skf = StratifiedKFold(n_splits=3, random_state=19)\n",
    "clf = LogisticRegression()\n",
    "roc_auc, pr_auc, precision, recall, models = get_cv_roc_pr_rc(clf, skf,\\\n",
    "        X1.iloc[undersample_3 + idx_1], labels[undersample_3 + idx_1])"
   ]
  },
  {
   "cell_type": "markdown",
   "metadata": {},
   "source": [
    "Основная метрика (ROC AUC) несколько падает, если выбрасывать объекты доминирующего класса, зато сильно растут точность и полнота. В этом нет ничего удивительного, в выборке теперь значительно меньше объектов отрицательного класса. В целом, изменение весов и андерсэмплинг ничего не дал с токи зрения улучшения roc-auc."
   ]
  },
  {
   "cell_type": "markdown",
   "metadata": {},
   "source": [
    "## 3. Обработкa пропущенных значений\n",
    "*Теперь перейдем к работе с признаками. Ранее вы реализовали несколько стратегий для обработки пропущенных значений. Сравните эти стратегии между собой с помощью оценки качества моделей кросс-валидации, построенных на датасетах с использованием различных стратегий. Как обработка пропущенных значений сказывается на качестве модели? Какой вариант выглядит наиболее оптимальным с точки зрения качества?*"
   ]
  },
  {
   "cell_type": "code",
   "execution_count": 34,
   "metadata": {},
   "outputs": [],
   "source": [
    "# выбросим пустые колонки из исходного датасета\n",
    "X2 = train[features_num].copy()\n",
    "X2 = X2.dropna(axis=1,how='all')"
   ]
  },
  {
   "cell_type": "code",
   "execution_count": 36,
   "metadata": {},
   "outputs": [
    {
     "name": "stdout",
     "output_type": "stream",
     "text": [
      "ROC-AUC: 0.6463796026350778\n",
      "PR-AUC: 0.12675426839315204\n",
      "Precission: 0.1526262626262626\n",
      "Recall: 0.005810276679841897\n"
     ]
    }
   ],
   "source": [
    "# замена пропущенных значений на средние\n",
    "X2_mean = X2.fillna(X2.mean())\n",
    "X2_mean = pd.DataFrame(StandardScaler().fit_transform(X2_mean))\n",
    "\n",
    "skf = StratifiedKFold(n_splits=5, random_state=19)\n",
    "clf = LogisticRegression()\n",
    "roc_auc, pr_auc, precision, recall, models = get_cv_roc_pr_rc(clf, skf, X2_mean, labels)"
   ]
  },
  {
   "cell_type": "code",
   "execution_count": 70,
   "metadata": {},
   "outputs": [
    {
     "name": "stdout",
     "output_type": "stream",
     "text": [
      "ROC-AUC: 0.6497033639630474\n",
      "PR-AUC: 0.12725995682276842\n",
      "Precission: 0.08761904761904762\n",
      "Recall: 0.003631093544137023\n"
     ]
    }
   ],
   "source": [
    "# замена пропущенных значений на медианы\n",
    "X2_median = X2.fillna(X2.median())\n",
    "Scaler = StandardScaler()\n",
    "X2_median = pd.DataFrame(Scaler.fit_transform(X2_median))\n",
    "\n",
    "skf = StratifiedKFold(n_splits=5, random_state=19)\n",
    "clf = LogisticRegression()\n",
    "roc_auc, pr_auc, precision, recall, models = get_cv_roc_pr_rc(clf, skf, X2_median, labels)"
   ]
  },
  {
   "cell_type": "markdown",
   "metadata": {},
   "source": [
    "Медианы работают немного лучше. Добавим дополнительный признак -- пропущено ли значение в исходной таблице и опять посчитаем метрики для средних и медиан:"
   ]
  },
  {
   "cell_type": "code",
   "execution_count": 38,
   "metadata": {},
   "outputs": [],
   "source": [
    "# создадим признак: пропущенно ли значение в колонке\n",
    "X2_nan = X2.isnull()\n",
    "X2_nan.columns = ['nan_'] + X2_nan.columns"
   ]
  },
  {
   "cell_type": "code",
   "execution_count": 39,
   "metadata": {},
   "outputs": [
    {
     "name": "stdout",
     "output_type": "stream",
     "text": [
      "ROC-AUC: 0.6816747200228863\n",
      "PR-AUC: 0.14378666150454195\n",
      "Precission: 0.08611111111111111\n",
      "Recall: 0.003631093544137023\n"
     ]
    }
   ],
   "source": [
    "# замена пропущенных значений на средние и использование дамми\n",
    "skf = StratifiedKFold(n_splits=5, random_state=19)\n",
    "clf = LogisticRegression()\n",
    "roc_auc, pr_auc, precision, recall, models = get_cv_roc_pr_rc(clf, skf, pd.concat([X2_mean, X2_nan], axis=1), labels)"
   ]
  },
  {
   "cell_type": "code",
   "execution_count": 40,
   "metadata": {
    "scrolled": false
   },
   "outputs": [
    {
     "name": "stdout",
     "output_type": "stream",
     "text": [
      "ROC-AUC: 0.6806684922912281\n",
      "PR-AUC: 0.14340141271919576\n",
      "Precission: 0.08318181818181818\n",
      "Recall: 0.003631093544137023\n"
     ]
    }
   ],
   "source": [
    "# замена пропущенных значений на медианы и использование дамми\n",
    "skf = StratifiedKFold(n_splits=5, random_state=19)\n",
    "clf = LogisticRegression()\n",
    "roc_auc, pr_auc, precision, recall, models = get_cv_roc_pr_rc(clf, skf, pd.concat([X2_median, X2_nan], axis=1), labels)"
   ]
  },
  {
   "cell_type": "markdown",
   "metadata": {},
   "source": [
    "Использование бинарного признака о пропущенном значении может заметно улучшить метрику."
   ]
  },
  {
   "cell_type": "markdown",
   "metadata": {},
   "source": [
    "## 4. Обработка категориальных признаков\n",
    "*Также вы уже реализовали несколько стратегий для обработки категориальных признаков. Сравните эти стратегии между собой с помощью оценки качества моделей по кросс-валидации, построенных на датасетах с использованием различных стратегий. Как обработка категориальных признаков сказывается на качестве модели? Какой вариант выглядит наиболее оптимальным с точки зрения качества?*"
   ]
  },
  {
   "cell_type": "markdown",
   "metadata": {
    "collapsed": true
   },
   "source": [
    "Как правило, в этом случае применяют два основных метода, дамми кодирование признака или замена на среднее (частоте) по целевой переменной. \n",
    "\n",
    "Второй метод несколько сложнее и его нельзя реализовывать напрямую через методы sklearn (хотя эти реализации часто встречаются в работах). И вот почему: для того, чтобы проводить кросс-валидацию нужен готовый датасет со всеми рассчитанными признаками. Предположим мы берем первый фолд и у нас есть обучающая и тестовая выборки, здесь правильно рассчитать средние по обучающей и применить на тестовой. И точно так же поступить для остальных разбиений. Но простой реалзиации здесь нет, поэтому часто рассчитывают средние по всей выборке сразу, а проводят кросс-валидацию потом. Очевидно, что такой способ ведет к утечке (подробнее можно посмотреть, например, на докладе Станислава Семенова о соревновании на Kaggle BNP Paribas). По этой причине я не буду приводить здесь код для этого метода, а рассмотрю только дамми-кодирование.\n",
    "\n",
    "Возможен и третий подход, можно отсортировать уникальные значения признака в порядке в зависимости от того, как часто при них встречается положительный класс. Тогда мы получим порядковый признак. Для него необходимо проводить кросс-валидацию указанным выше, осторожным методом."
   ]
  },
  {
   "cell_type": "code",
   "execution_count": 42,
   "metadata": {},
   "outputs": [],
   "source": [
    "# обработаем категории\n",
    "X3 = train[features_cat].dropna(axis=1,how='all').copy()\n",
    "# заменим наны\n",
    "X3 = X3.fillna('fakenan')\n",
    "# посчитаем количество уникальных значений и отберем те, где меньше 250 уникальных\n",
    "counts = pd.Series([len(X3[X3.columns[i]].value_counts()) for i in range(len(X3.columns))], index = X3.columns)\n",
    "vars_2dummy = counts[counts <250].index\n",
    "# составим дамми переменные\n",
    "X3_dummy = pd.get_dummies(X3[vars_2dummy])\n",
    "# уберем дубликаты\n",
    "X3_dummy = X3_dummy.T.drop_duplicates().T"
   ]
  },
  {
   "cell_type": "code",
   "execution_count": 43,
   "metadata": {},
   "outputs": [
    {
     "name": "stdout",
     "output_type": "stream",
     "text": [
      "ROC-AUC: 0.685219287898854\n",
      "PR-AUC: 0.16093872214843322\n",
      "Precission: 0.23976197715328146\n",
      "Recall: 0.02324901185770751\n"
     ]
    }
   ],
   "source": [
    "# проверим на кросс-валидации\n",
    "skf = StratifiedKFold(n_splits=5, random_state=19)\n",
    "clf = LogisticRegression()\n",
    "roc_auc, pr_auc, precision, recall, models =\\\n",
    "    get_cv_roc_pr_rc(clf, skf, pd.concat([X2_median, X2_nan, X3_dummy], axis=1), labels)"
   ]
  },
  {
   "cell_type": "markdown",
   "metadata": {},
   "source": [
    "Качество повысилось от добавления дамми-переменных. "
   ]
  },
  {
   "cell_type": "markdown",
   "metadata": {},
   "source": [
    "## 5. Отбор признаков \n",
    "*Все ли признаки оказались полезными для построения моделей? Проведите процедуру отбора признаков, попробуйте разные варианты отбора (обратите внимание на модуль `sklearn.feature_selection`). Например, можно выбрасывать случайные признаки или строить отбор на основе l1-регуляризации - отфильтровать из обучения признаки, которые получат нулевой вес при построении регрессии с l1-регуляризацией (`sklearn.linear_model.Lasso`). И всегда можно придумать что-то своё=) Попробуйте как минимум 2 различные стратегии, сравните результаты. Помог ли отбор признаков улучшить качество модели? Поясните свой ответ.*"
   ]
  },
  {
   "cell_type": "code",
   "execution_count": 44,
   "metadata": {},
   "outputs": [],
   "source": [
    "X4 = pd.concat([X2_median, X2_nan, X3_dummy], axis=1)\n",
    "clf = LogisticRegression()"
   ]
  },
  {
   "cell_type": "code",
   "execution_count": 46,
   "metadata": {},
   "outputs": [
    {
     "name": "stdout",
     "output_type": "stream",
     "text": [
      "ROC-AUC: 0.7180063428332841\n",
      "PR-AUC: 0.18885320041524073\n",
      "Precission: 0.34891774891774896\n",
      "Recall: 0.01016600790513834\n"
     ]
    }
   ],
   "source": [
    "# попробуем 200 лучших переменных\n",
    "kb100 = SelectKBest(k=100).fit(X4, labels)\n",
    "roc_auc, pr_auc, precision, recall, models = get_cv_roc_pr_rc(clf, skf, X4.iloc[:, kb100.get_support()], labels)"
   ]
  },
  {
   "cell_type": "code",
   "execution_count": 47,
   "metadata": {},
   "outputs": [
    {
     "name": "stdout",
     "output_type": "stream",
     "text": [
      "ROC-AUC: 0.7206766231195718\n",
      "PR-AUC: 0.18811418714342273\n",
      "Precission: 0.4065623265623266\n",
      "Recall: 0.01742292490118577\n"
     ]
    }
   ],
   "source": [
    "# попробуем 300 лучших переменных\n",
    "kb300 = SelectKBest(k=300).fit(X4, labels)\n",
    "roc_auc, pr_auc, precision, recall, models = get_cv_roc_pr_rc(clf, skf, X4.loc[:, kb300.get_support()], labels)"
   ]
  },
  {
   "cell_type": "code",
   "execution_count": 49,
   "metadata": {},
   "outputs": [
    {
     "name": "stdout",
     "output_type": "stream",
     "text": [
      "ROC-AUC: 0.7196014513681025\n",
      "PR-AUC: 0.19269942035953075\n",
      "Precission: 0.3770100384651468\n",
      "Recall: 0.02106455862977602\n"
     ]
    }
   ],
   "source": [
    "# попробуем 400 лучших переменных\n",
    "kb400 = SelectKBest(k=400).fit(X4, labels)\n",
    "roc_auc, pr_auc, precision, recall, models = get_cv_roc_pr_rc(clf, skf, X4.iloc[:, kb400.get_support()], labels)"
   ]
  },
  {
   "cell_type": "markdown",
   "metadata": {},
   "source": [
    "Обучим классикатор с L1 регуляризатором у которого подберем коэффициент регуляризации по кросс-валидации. Используя науилучший классификатор отберем признаки. Обучим классификатор с отобранными признаками и проверим метрики:"
   ]
  },
  {
   "cell_type": "code",
   "execution_count": null,
   "metadata": {},
   "outputs": [],
   "source": [
    "lr_l1 = LogisticRegressionCV(penalty='l1', solver='liblinear', cv=3, scoring='roc_auc').fit(X4, labels)\n",
    "X_lr = SelectFromModel(lr_l1, prefit=True).transform(X4)\n",
    "# осталось признаков\n",
    "X_lr.shape[1]"
   ]
  },
  {
   "cell_type": "code",
   "execution_count": 182,
   "metadata": {},
   "outputs": [
    {
     "name": "stdout",
     "output_type": "stream",
     "text": [
      "ROC-AUC: 0.721436213958\n",
      "PR-AUC: 0.18590226433\n",
      "Precission: 0.339760348584\n",
      "Recall: 0.009407816818\n"
     ]
    }
   ],
   "source": [
    "clf = LogisticRegression()\n",
    "roc_auc, pr_auc, precision, recall, models = get_cv_roc_pr_rc(clf, skf, pd.DataFrame(X_lr), labels)"
   ]
  },
  {
   "cell_type": "markdown",
   "metadata": {},
   "source": [
    "Оба метода имеют право на жизнь. Первый оставил 300 переменных, второй 119. Качество примерно одинаковое."
   ]
  },
  {
   "cell_type": "markdown",
   "metadata": {},
   "source": [
    "## 6. Настройка гиперпараметров\n",
    "*Подберите оптимальные параметры модели. Обратите внимание, что в зависимости от того, как вы обработали исходные данные, сделали ли балансировку классов, сколько объектов оставили в обучающей выборке и др. оптимальные значения параметров могут меняться. Возьмите наилучшее из ваших решений на текущий момент и проведите процедуру подбора параметров модели (обратите внимание на `sklearn.model_selection.GridSearchCV`). Как подбор параметров повлиял на качество модели?*"
   ]
  },
  {
   "cell_type": "markdown",
   "metadata": {},
   "source": [
    "У логистической регресси, которая была использована выше только один гиперпараметр. Подберем гиперпараметры для xgboost классификатора обучая его по сетке возможных значений:"
   ]
  },
  {
   "cell_type": "code",
   "execution_count": 52,
   "metadata": {},
   "outputs": [],
   "source": [
    "# оставляем эти признаки\n",
    "X5 = X4.iloc[:, kb300.get_support()]"
   ]
  },
  {
   "cell_type": "code",
   "execution_count": 53,
   "metadata": {},
   "outputs": [
    {
     "name": "stdout",
     "output_type": "stream",
     "text": [
      "Fitting 3 folds for each of 12 candidates, totalling 36 fits\n"
     ]
    },
    {
     "name": "stderr",
     "output_type": "stream",
     "text": [
      "[Parallel(n_jobs=-1)]: Using backend LokyBackend with 8 concurrent workers.\n",
      "[Parallel(n_jobs=-1)]: Done  36 out of  36 | elapsed:  1.4min finished\n"
     ]
    },
    {
     "data": {
      "text/plain": [
       "GridSearchCV(cv=3, error_score=nan,\n",
       "             estimator=XGBClassifier(base_score=0.5, booster='gbtree',\n",
       "                                     colsample_bylevel=1, colsample_bynode=1,\n",
       "                                     colsample_bytree=1, gamma=0,\n",
       "                                     learning_rate=0.1, max_delta_step=0,\n",
       "                                     max_depth=3, min_child_weight=1,\n",
       "                                     missing=None, n_estimators=100, n_jobs=1,\n",
       "                                     nthread=None, objective='binary:logistic',\n",
       "                                     random_state=0, reg_alpha=0, reg_lambda=1,\n",
       "                                     scale_pos_weight=1, seed=None, silent=None,\n",
       "                                     subsample=1, verbosity=1),\n",
       "             iid='deprecated', n_jobs=-1,\n",
       "             param_grid={'learning_rate': [0.05, 0.1], 'max_depth': [2, 3, 4],\n",
       "                         'subsample': [0.8, 1.0]},\n",
       "             pre_dispatch='2*n_jobs', refit=True, return_train_score=False,\n",
       "             scoring='roc_auc', verbose=1)"
      ]
     },
     "execution_count": 53,
     "metadata": {},
     "output_type": "execute_result"
    }
   ],
   "source": [
    "# попробуем xgboost\n",
    "bst = xgb.XGBClassifier(n_estimators=100)\n",
    "params = {'max_depth': [2, 3, 4],\n",
    "          'learning_rate': [0.05, 0.1],\n",
    "          'subsample': [0.8, 1.0]}\n",
    "\n",
    "xgb_grid = GridSearchCV(bst, params, scoring = 'roc_auc', cv=3, n_jobs=-1, verbose=1)\n",
    "\n",
    "xgb_grid.fit(X5, labels)"
   ]
  },
  {
   "cell_type": "code",
   "execution_count": 61,
   "metadata": {},
   "outputs": [
    {
     "data": {
      "text/html": [
       "<div>\n",
       "<style scoped>\n",
       "    .dataframe tbody tr th:only-of-type {\n",
       "        vertical-align: middle;\n",
       "    }\n",
       "\n",
       "    .dataframe tbody tr th {\n",
       "        vertical-align: top;\n",
       "    }\n",
       "\n",
       "    .dataframe thead th {\n",
       "        text-align: right;\n",
       "    }\n",
       "</style>\n",
       "<table border=\"1\" class=\"dataframe\">\n",
       "  <thead>\n",
       "    <tr style=\"text-align: right;\">\n",
       "      <th></th>\n",
       "      <th>mean_test_score</th>\n",
       "      <th>std_test_score</th>\n",
       "      <th>param_learning_rate</th>\n",
       "      <th>param_max_depth</th>\n",
       "      <th>param_subsample</th>\n",
       "    </tr>\n",
       "  </thead>\n",
       "  <tbody>\n",
       "    <tr>\n",
       "      <th>0</th>\n",
       "      <td>0.724576</td>\n",
       "      <td>0.006366</td>\n",
       "      <td>0.05</td>\n",
       "      <td>2</td>\n",
       "      <td>0.8</td>\n",
       "    </tr>\n",
       "    <tr>\n",
       "      <th>1</th>\n",
       "      <td>0.725791</td>\n",
       "      <td>0.007922</td>\n",
       "      <td>0.05</td>\n",
       "      <td>2</td>\n",
       "      <td>1</td>\n",
       "    </tr>\n",
       "    <tr>\n",
       "      <th>2</th>\n",
       "      <td>0.729410</td>\n",
       "      <td>0.007830</td>\n",
       "      <td>0.05</td>\n",
       "      <td>3</td>\n",
       "      <td>0.8</td>\n",
       "    </tr>\n",
       "    <tr>\n",
       "      <th>3</th>\n",
       "      <td>0.729044</td>\n",
       "      <td>0.008890</td>\n",
       "      <td>0.05</td>\n",
       "      <td>3</td>\n",
       "      <td>1</td>\n",
       "    </tr>\n",
       "    <tr>\n",
       "      <th>4</th>\n",
       "      <td>0.729014</td>\n",
       "      <td>0.008625</td>\n",
       "      <td>0.05</td>\n",
       "      <td>4</td>\n",
       "      <td>0.8</td>\n",
       "    </tr>\n",
       "    <tr>\n",
       "      <th>5</th>\n",
       "      <td>0.729013</td>\n",
       "      <td>0.008801</td>\n",
       "      <td>0.05</td>\n",
       "      <td>4</td>\n",
       "      <td>1</td>\n",
       "    </tr>\n",
       "    <tr>\n",
       "      <th>6</th>\n",
       "      <td>0.732361</td>\n",
       "      <td>0.009726</td>\n",
       "      <td>0.1</td>\n",
       "      <td>2</td>\n",
       "      <td>0.8</td>\n",
       "    </tr>\n",
       "    <tr>\n",
       "      <th>7</th>\n",
       "      <td>0.732541</td>\n",
       "      <td>0.009541</td>\n",
       "      <td>0.1</td>\n",
       "      <td>2</td>\n",
       "      <td>1</td>\n",
       "    </tr>\n",
       "    <tr>\n",
       "      <th>8</th>\n",
       "      <td>0.728941</td>\n",
       "      <td>0.008228</td>\n",
       "      <td>0.1</td>\n",
       "      <td>3</td>\n",
       "      <td>0.8</td>\n",
       "    </tr>\n",
       "    <tr>\n",
       "      <th>9</th>\n",
       "      <td>0.732920</td>\n",
       "      <td>0.009752</td>\n",
       "      <td>0.1</td>\n",
       "      <td>3</td>\n",
       "      <td>1</td>\n",
       "    </tr>\n",
       "    <tr>\n",
       "      <th>10</th>\n",
       "      <td>0.729036</td>\n",
       "      <td>0.006454</td>\n",
       "      <td>0.1</td>\n",
       "      <td>4</td>\n",
       "      <td>0.8</td>\n",
       "    </tr>\n",
       "    <tr>\n",
       "      <th>11</th>\n",
       "      <td>0.728294</td>\n",
       "      <td>0.006927</td>\n",
       "      <td>0.1</td>\n",
       "      <td>4</td>\n",
       "      <td>1</td>\n",
       "    </tr>\n",
       "  </tbody>\n",
       "</table>\n",
       "</div>"
      ],
      "text/plain": [
       "    mean_test_score  std_test_score param_learning_rate param_max_depth  \\\n",
       "0          0.724576        0.006366                0.05               2   \n",
       "1          0.725791        0.007922                0.05               2   \n",
       "2          0.729410        0.007830                0.05               3   \n",
       "3          0.729044        0.008890                0.05               3   \n",
       "4          0.729014        0.008625                0.05               4   \n",
       "5          0.729013        0.008801                0.05               4   \n",
       "6          0.732361        0.009726                 0.1               2   \n",
       "7          0.732541        0.009541                 0.1               2   \n",
       "8          0.728941        0.008228                 0.1               3   \n",
       "9          0.732920        0.009752                 0.1               3   \n",
       "10         0.729036        0.006454                 0.1               4   \n",
       "11         0.728294        0.006927                 0.1               4   \n",
       "\n",
       "   param_subsample  \n",
       "0              0.8  \n",
       "1                1  \n",
       "2              0.8  \n",
       "3                1  \n",
       "4              0.8  \n",
       "5                1  \n",
       "6              0.8  \n",
       "7                1  \n",
       "8              0.8  \n",
       "9                1  \n",
       "10             0.8  \n",
       "11               1  "
      ]
     },
     "execution_count": 61,
     "metadata": {},
     "output_type": "execute_result"
    }
   ],
   "source": [
    "result_col = ['mean_test_score', 'std_test_score','param_learning_rate', 'param_max_depth', 'param_subsample']\n",
    "pd.DataFrame(xgb_grid.cv_results_)[result_col]"
   ]
  },
  {
   "cell_type": "code",
   "execution_count": 62,
   "metadata": {},
   "outputs": [
    {
     "data": {
      "text/plain": [
       "{'learning_rate': 0.1, 'max_depth': 3, 'subsample': 1.0}"
      ]
     },
     "execution_count": 62,
     "metadata": {},
     "output_type": "execute_result"
    }
   ],
   "source": [
    "# оптимальные параметры\n",
    "xgb_grid.best_params_"
   ]
  },
  {
   "cell_type": "markdown",
   "metadata": {},
   "source": [
    "Таким образом, мы обучили классификатор с оптимальными параметрами. На данный момент она показала максимальное качество."
   ]
  },
  {
   "cell_type": "markdown",
   "metadata": {},
   "source": [
    "## 7. Влияние признаков на модель\n",
    "*Предложите методику оценки того, какие признаки внесли наибольший вклад в модель (например, это могут быть веса в случае регрессии, а также большое количество моделей реализуют метод `feature_importances_` - оценка важности признаков). На основе предложенной методики проанализируйте, какие признаки внесли больший вклад в модель, а какие меньший?*"
   ]
  },
  {
   "cell_type": "markdown",
   "metadata": {
    "collapsed": true
   },
   "source": [
    "Воспользуемся оценкой важности признаков классификатора xgboost:"
   ]
  },
  {
   "cell_type": "code",
   "execution_count": 64,
   "metadata": {
    "scrolled": false
   },
   "outputs": [
    {
     "data": {
      "image/png": "[encoded data removed]",
      "text/plain": [
       "<Figure size 864x1152 with 1 Axes>"
      ]
     },
     "metadata": {
      "needs_background": "light"
     },
     "output_type": "display_data"
    }
   ],
   "source": [
    "fig, ax = plt.subplots(figsize=(12, 16))\n",
    "xgb.plot_importance(xgb_grid.best_estimator_, ax=ax)\n",
    "pyplot.show()"
   ]
  },
  {
   "cell_type": "markdown",
   "metadata": {},
   "source": [
    "По оценке xgboost из 10 наиболее важных признаков, 8 являются числовыми."
   ]
  },
  {
   "cell_type": "markdown",
   "metadata": {},
   "source": [
    "## 8. Анализ ошибок классификации\n",
    "*Напоследок давайте посмотрим на объекты. На каких объектах достигается наибольшая ошибка классификации? Есть ли межу этими объектами что-то общее? Видны ли какие-либо закономерности? Предположите, почему наибольшая ошибка достигается именно на этих объектах. В данном случае \"наибольшую\" ошибку можно понимать как отнесение объекта с чужому классу с большой долей уверенности (с высокой вероятностью).*"
   ]
  },
  {
   "cell_type": "markdown",
   "metadata": {},
   "source": [
    "Посмотрим на распределения по вероятностям:"
   ]
  },
  {
   "cell_type": "code",
   "execution_count": 65,
   "metadata": {},
   "outputs": [
    {
     "data": {
      "image/png": "[encoded data removed]",
      "text/plain": [
       "<Figure size 864x432 with 1 Axes>"
      ]
     },
     "metadata": {
      "needs_background": "light"
     },
     "output_type": "display_data"
    }
   ],
   "source": [
    "fig, ax = plt.subplots(figsize=(12, 6))\n",
    "\n",
    "pred = pd.Series(xgb_grid.best_estimator_.predict_proba(X5)[:,1])\n",
    "# гистограмма отклонений от истинных значений\n",
    "sns.kdeplot(pred[labels == 0], color = 'r', ax=ax, label=0)\n",
    "sns.kdeplot(pred[labels == 1], color = 'b', ax=ax, label=1)\n",
    "plt.ylabel(u'Частота')\n",
    "plt.xlabel(u'Вероятность')\n",
    "plt.show()"
   ]
  },
  {
   "cell_type": "markdown",
   "metadata": {},
   "source": [
    "Большинству объектов положительного класса предсказываются маленькие вероятности (до 0.2). Сравим средние значения по важным (по мнению xgboost) признакам для явно ошибочных предсказаний и для более-менее правдоподобных. Сравним разницу:"
   ]
  },
  {
   "cell_type": "code",
   "execution_count": 66,
   "metadata": {},
   "outputs": [
    {
     "data": {
      "text/html": [
       "<div>\n",
       "<style scoped>\n",
       "    .dataframe tbody tr th:only-of-type {\n",
       "        vertical-align: middle;\n",
       "    }\n",
       "\n",
       "    .dataframe tbody tr th {\n",
       "        vertical-align: top;\n",
       "    }\n",
       "\n",
       "    .dataframe thead th {\n",
       "        text-align: right;\n",
       "    }\n",
       "</style>\n",
       "<table border=\"1\" class=\"dataframe\">\n",
       "  <thead>\n",
       "    <tr style=\"text-align: right;\">\n",
       "      <th></th>\n",
       "      <th>means_low</th>\n",
       "      <th>means_high</th>\n",
       "      <th>abs_diff</th>\n",
       "    </tr>\n",
       "  </thead>\n",
       "  <tbody>\n",
       "    <tr>\n",
       "      <th>62</th>\n",
       "      <td>0.387524</td>\n",
       "      <td>-0.593542</td>\n",
       "      <td>0.981066</td>\n",
       "    </tr>\n",
       "    <tr>\n",
       "      <th>172</th>\n",
       "      <td>0.134934</td>\n",
       "      <td>-0.843149</td>\n",
       "      <td>0.978083</td>\n",
       "    </tr>\n",
       "    <tr>\n",
       "      <th>131</th>\n",
       "      <td>0.413708</td>\n",
       "      <td>-0.500122</td>\n",
       "      <td>0.913830</td>\n",
       "    </tr>\n",
       "    <tr>\n",
       "      <th>119</th>\n",
       "      <td>0.806457</td>\n",
       "      <td>-0.017488</td>\n",
       "      <td>0.823945</td>\n",
       "    </tr>\n",
       "    <tr>\n",
       "      <th>101</th>\n",
       "      <td>-0.147694</td>\n",
       "      <td>0.646579</td>\n",
       "      <td>0.794273</td>\n",
       "    </tr>\n",
       "    <tr>\n",
       "      <th>69</th>\n",
       "      <td>-0.105202</td>\n",
       "      <td>0.634971</td>\n",
       "      <td>0.740173</td>\n",
       "    </tr>\n",
       "    <tr>\n",
       "      <th>154</th>\n",
       "      <td>0.065637</td>\n",
       "      <td>-0.572655</td>\n",
       "      <td>0.638292</td>\n",
       "    </tr>\n",
       "    <tr>\n",
       "      <th>54</th>\n",
       "      <td>0.224044</td>\n",
       "      <td>-0.325822</td>\n",
       "      <td>0.549867</td>\n",
       "    </tr>\n",
       "    <tr>\n",
       "      <th>11</th>\n",
       "      <td>0.229307</td>\n",
       "      <td>-0.313136</td>\n",
       "      <td>0.542444</td>\n",
       "    </tr>\n",
       "    <tr>\n",
       "      <th>Var218_fakenan</th>\n",
       "      <td>0.000000</td>\n",
       "      <td>0.465116</td>\n",
       "      <td>0.465116</td>\n",
       "    </tr>\n",
       "    <tr>\n",
       "      <th>Var218_cJvF</th>\n",
       "      <td>0.523810</td>\n",
       "      <td>0.093023</td>\n",
       "      <td>0.430786</td>\n",
       "    </tr>\n",
       "    <tr>\n",
       "      <th>Var212_NhsEn4L</th>\n",
       "      <td>0.436508</td>\n",
       "      <td>0.829457</td>\n",
       "      <td>0.392949</td>\n",
       "    </tr>\n",
       "    <tr>\n",
       "      <th>Var228_F2FyR07IdsN7I</th>\n",
       "      <td>0.484127</td>\n",
       "      <td>0.868217</td>\n",
       "      <td>0.384090</td>\n",
       "    </tr>\n",
       "    <tr>\n",
       "      <th>Var229_fakenan</th>\n",
       "      <td>0.428571</td>\n",
       "      <td>0.782946</td>\n",
       "      <td>0.354374</td>\n",
       "    </tr>\n",
       "    <tr>\n",
       "      <th>Var205_sJzTlal</th>\n",
       "      <td>0.063492</td>\n",
       "      <td>0.403101</td>\n",
       "      <td>0.339609</td>\n",
       "    </tr>\n",
       "  </tbody>\n",
       "</table>\n",
       "</div>"
      ],
      "text/plain": [
       "                      means_low  means_high  abs_diff\n",
       "62                     0.387524   -0.593542  0.981066\n",
       "172                    0.134934   -0.843149  0.978083\n",
       "131                    0.413708   -0.500122  0.913830\n",
       "119                    0.806457   -0.017488  0.823945\n",
       "101                   -0.147694    0.646579  0.794273\n",
       "69                    -0.105202    0.634971  0.740173\n",
       "154                    0.065637   -0.572655  0.638292\n",
       "54                     0.224044   -0.325822  0.549867\n",
       "11                     0.229307   -0.313136  0.542444\n",
       "Var218_fakenan         0.000000    0.465116  0.465116\n",
       "Var218_cJvF            0.523810    0.093023  0.430786\n",
       "Var212_NhsEn4L         0.436508    0.829457  0.392949\n",
       "Var228_F2FyR07IdsN7I   0.484127    0.868217  0.384090\n",
       "Var229_fakenan         0.428571    0.782946  0.354374\n",
       "Var205_sJzTlal         0.063492    0.403101  0.339609"
      ]
     },
     "execution_count": 66,
     "metadata": {},
     "output_type": "execute_result"
    }
   ],
   "source": [
    "idx_low = pred[(pred < 0.05) & (labels == 1)].index #ошибочные предсказания, уверенно отнесенные к 0му классу\n",
    "idx_high = pred[(pred > 0.3) & (labels == 1)].index #верные предсказания, уверенно отнесенные к 1му классу\n",
    "\n",
    "means_low = X5.iloc[idx_low, (xgb_grid.best_estimator_.feature_importances_ != 0).tolist()].mean()\n",
    "means_high = X5.iloc[idx_high, (xgb_grid.best_estimator_.feature_importances_ != 0).tolist()].mean()\n",
    "\n",
    "diff = pd.DataFrame(dict(means_low = means_low, means_high = means_high))\n",
    "diff['abs_diff'] = abs(diff['means_high'] - diff['means_low'])\n",
    "diff.sort_values('abs_diff', ascending=False)[:15]"
   ]
  },
  {
   "cell_type": "markdown",
   "metadata": {},
   "source": [
    "Как видно из таблицы, наши признаки недостаточно хороши, чтобы отделять один хвостик распределения от другуго. Возможно, придумывание новых признаков могло бы помочь."
   ]
  },
  {
   "cell_type": "markdown",
   "metadata": {},
   "source": [
    "## 9. Финальная модель\n",
    "*По итогам проведенных экспериментов постройте финальную решение - модель с наилучшим качеством. Укажите, какие преобразования данных, параметры и пр. вы выбрали для построения финальной модели.*"
   ]
  },
  {
   "cell_type": "markdown",
   "metadata": {
    "collapsed": true
   },
   "source": [
    "Для финального решения я бы оставил классификатор xgboost. Пропуски в числовых переменных заменил бы медианой и составил дамми-признаки пропусков. Категориальные переменные можно тоже перевести в дамми. Отбор признаков провести с помощью оценки важности признаков xgboost или SelectKBest."
   ]
  },
  {
   "cell_type": "markdown",
   "metadata": {},
   "source": [
    "## 10. Подумайте, можно ли еще улучшить модель? Что для этого можно сделать? "
   ]
  },
  {
   "cell_type": "markdown",
   "metadata": {
    "collapsed": true
   },
   "source": [
    "Модели может помочь создание новых признаков (например, взаимодействие категорий). Так же можно объединить разные модели в ансамбль."
   ]
  },
  {
   "cell_type": "markdown",
   "metadata": {
    "collapsed": true
   },
   "source": [
    "## 11. Подготовка тестовых данных и прогноза модели."
   ]
  },
  {
   "cell_type": "code",
   "execution_count": 2,
   "metadata": {},
   "outputs": [],
   "source": [
    "# загрузка данных\n",
    "train = pd.read_csv(\"telecom_clients_prediction/orange_small_churn_train_data.csv\")\n",
    "test = pd.read_csv(\"telecom_clients_prediction/orange_small_churn_test_data.csv\")"
   ]
  },
  {
   "cell_type": "code",
   "execution_count": 3,
   "metadata": {},
   "outputs": [],
   "source": [
    "train.loc[train['labels'] == -1, 'labels'] = 0\n",
    "labels = train['labels'].copy()"
   ]
  },
  {
   "cell_type": "code",
   "execution_count": 4,
   "metadata": {},
   "outputs": [],
   "source": [
    "train = train[:-1]\n",
    "labels = labels[:-1]"
   ]
  },
  {
   "cell_type": "code",
   "execution_count": 5,
   "metadata": {},
   "outputs": [],
   "source": [
    "X_train = train.drop('labels',axis=1)\n",
    "X_test = test"
   ]
  },
  {
   "cell_type": "code",
   "execution_count": 10,
   "metadata": {},
   "outputs": [],
   "source": [
    "features_num = train.columns[1:191].tolist()\n",
    "features_cat = train.columns[191:231].tolist()"
   ]
  },
  {
   "cell_type": "code",
   "execution_count": 11,
   "metadata": {},
   "outputs": [],
   "source": [
    "X_train[features_cat] = X_train[features_cat].astype(object)\n",
    "X_test[features_cat] = X_test[features_cat].astype(object)"
   ]
  },
  {
   "cell_type": "code",
   "execution_count": 12,
   "metadata": {},
   "outputs": [],
   "source": [
    "X_all = pd.concat([X_train, X_test], axis=0)"
   ]
  },
  {
   "cell_type": "code",
   "execution_count": 145,
   "metadata": {},
   "outputs": [],
   "source": [
    "#численные признаки"
   ]
  },
  {
   "cell_type": "code",
   "execution_count": 15,
   "metadata": {},
   "outputs": [],
   "source": [
    "X2 = train[features_num].copy()\n",
    "X2 = X2.dropna(axis=1,how='all')"
   ]
  },
  {
   "cell_type": "code",
   "execution_count": 16,
   "metadata": {},
   "outputs": [],
   "source": [
    "X_all_num = X_all[features_num].copy()\n",
    "X_all_num = X_all_num.fillna(X2.median())\n",
    "X_all_num = X_all_num.dropna(axis=1,how='all')\n",
    "X_all_num = pd.DataFrame(StandardScaler().fit_transform(X_all_num), columns=X_all_num.columns)"
   ]
  },
  {
   "cell_type": "code",
   "execution_count": 147,
   "metadata": {},
   "outputs": [],
   "source": [
    "#индикатор пропущенных значений"
   ]
  },
  {
   "cell_type": "code",
   "execution_count": 17,
   "metadata": {},
   "outputs": [],
   "source": [
    "X_all_num_nan = X_all_num.isnull()\n",
    "X_all_num_nan.columns = ['nan_'] + X_all_num_nan.columns"
   ]
  },
  {
   "cell_type": "code",
   "execution_count": 149,
   "metadata": {},
   "outputs": [],
   "source": [
    "#категориальные признаки"
   ]
  },
  {
   "cell_type": "code",
   "execution_count": 18,
   "metadata": {},
   "outputs": [],
   "source": [
    "# обработаем категории\n",
    "X_all_cat = X_all[features_cat].dropna(axis=1,how='all').copy()\n",
    "# заменим наны\n",
    "X_all_cat = X_all_cat.fillna('fakenan')\n",
    "# посчитаем количество уникальных значений и отберем те, где меньше 250 уникальных\n",
    "counts = pd.Series([len(X_all_cat[X_all_cat.columns[i]].value_counts()) for i in range(len(X_all_cat.columns))], index = X_all_cat.columns)\n",
    "vars_2dummy = counts[counts <250].index\n",
    "# составим дамми переменные\n",
    "X_all_cat_dummy = pd.get_dummies(X_all_cat[vars_2dummy])\n",
    "# уберем дубликаты\n",
    "X_all_cat_dummy = X_all_cat_dummy.T.drop_duplicates().T"
   ]
  },
  {
   "cell_type": "code",
   "execution_count": 20,
   "metadata": {},
   "outputs": [
    {
     "data": {
      "text/plain": [
       "(28298, 981)"
      ]
     },
     "execution_count": 20,
     "metadata": {},
     "output_type": "execute_result"
    }
   ],
   "source": [
    "X_all_cat_dummy.index = X_all_num.index\n",
    "X_all_after = pd.concat([X_all_num, X_all_num_nan, X_all_cat_dummy], axis=1)\n",
    "X_all_after.shape"
   ]
  },
  {
   "cell_type": "code",
   "execution_count": 27,
   "metadata": {},
   "outputs": [],
   "source": [
    "X_all_after_train = X_all_after[:18298]\n",
    "X_all_after_test = X_all_after[18298:]"
   ]
  },
  {
   "cell_type": "code",
   "execution_count": 28,
   "metadata": {},
   "outputs": [
    {
     "name": "stdout",
     "output_type": "stream",
     "text": [
      "787\n"
     ]
    }
   ],
   "source": [
    "train_cat_list = [(fear,len(X_all_after_train[fear].unique())) for fear in X_all_after_train.columns]\n",
    "need_cat_fear = list()\n",
    "for obj in train_cat_list:\n",
    "    if obj[1]> 1:\n",
    "        need_cat_fear.append(obj[0])\n",
    "print(len(need_cat_fear))"
   ]
  },
  {
   "cell_type": "code",
   "execution_count": 29,
   "metadata": {},
   "outputs": [],
   "source": [
    "X_all_after_train = X_all_after_train[need_cat_fear]\n",
    "X_all_after_test = X_all_after_test[need_cat_fear]"
   ]
  },
  {
   "cell_type": "code",
   "execution_count": 33,
   "metadata": {},
   "outputs": [],
   "source": [
    "# печатаем метрики по кросс-валидации\n",
    "def get_cv_roc_pr_rc(clf, skf, X, y):\n",
    "    roc_auc = []\n",
    "    pr_auc = []\n",
    "    precision = []\n",
    "    recall = []\n",
    "    models = []\n",
    "    for train, test in skf.split(X, y):\n",
    "        models.append(clf.fit(X.iloc[train,:], y.iloc[train]))\n",
    "        y_pred = clf.predict(X.iloc[test,:])\n",
    "        y_pred_prob = clf.predict_proba(X.iloc[test,:])[:,1]\n",
    "        roc_auc.append(metrics.roc_auc_score(y.iloc[test], y_pred_prob))\n",
    "        pr_auc.append(metrics.average_precision_score(y.iloc[test], y_pred_prob))\n",
    "        precision.append(metrics.precision_score(y.iloc[test], y_pred))\n",
    "        recall.append(metrics.recall_score(y.iloc[test], y_pred))\n",
    "\n",
    "    print('ROC-AUC:', np.mean(roc_auc))\n",
    "    print('PR-AUC:', np.mean(pr_auc))\n",
    "    print('Precission:', np.mean(precision))\n",
    "    print('Recall:', np.mean(recall))\n",
    "    \n",
    "    return roc_auc, pr_auc, precision, recall, models"
   ]
  },
  {
   "cell_type": "code",
   "execution_count": 38,
   "metadata": {},
   "outputs": [
    {
     "name": "stdout",
     "output_type": "stream",
     "text": [
      "ROC-AUC: 0.6993482822176244\n",
      "PR-AUC: 0.1781120674068753\n",
      "Precission: 0.3767857142857143\n",
      "Recall: 0.01888274044795784\n"
     ]
    }
   ],
   "source": [
    "# попробуем 300 лучших переменных\n",
    "skf = StratifiedKFold(n_splits=5, random_state=19)\n",
    "clf = LogisticRegression()\n",
    "kb300 = SelectKBest(k=300).fit(X_all_after_train, labels)\n",
    "roc_auc, pr_auc, precision, recall, models = get_cv_roc_pr_rc(clf, skf, X_all_after_train.loc[:, kb300.get_support()], labels)"
   ]
  },
  {
   "cell_type": "code",
   "execution_count": 39,
   "metadata": {},
   "outputs": [],
   "source": [
    "X_train = X_all_after_train.iloc[:, kb300.get_support()]\n",
    "X_test = X_all_after_test.iloc[:, kb300.get_support()]"
   ]
  },
  {
   "cell_type": "markdown",
   "metadata": {},
   "source": [
    "## XGBoosting"
   ]
  },
  {
   "cell_type": "code",
   "execution_count": 165,
   "metadata": {},
   "outputs": [
    {
     "name": "stdout",
     "output_type": "stream",
     "text": [
      "Fitting 3 folds for each of 12 candidates, totalling 36 fits\n"
     ]
    },
    {
     "name": "stderr",
     "output_type": "stream",
     "text": [
      "[Parallel(n_jobs=-1)]: Using backend LokyBackend with 8 concurrent workers.\n",
      "[Parallel(n_jobs=-1)]: Done  36 out of  36 | elapsed:  1.8min finished\n"
     ]
    },
    {
     "data": {
      "text/plain": [
       "GridSearchCV(cv=3, error_score=nan,\n",
       "             estimator=XGBClassifier(base_score=0.5, booster='gbtree',\n",
       "                                     colsample_bylevel=1, colsample_bynode=1,\n",
       "                                     colsample_bytree=1, gamma=0,\n",
       "                                     learning_rate=0.1, max_delta_step=0,\n",
       "                                     max_depth=3, min_child_weight=1,\n",
       "                                     missing=None, n_estimators=100, n_jobs=1,\n",
       "                                     nthread=None, objective='binary:logistic',\n",
       "                                     random_state=0, reg_alpha=0, reg_lambda=1,\n",
       "                                     scale_pos_weight=1, seed=None, silent=None,\n",
       "                                     subsample=1, verbosity=1),\n",
       "             iid='deprecated', n_jobs=-1,\n",
       "             param_grid={'learning_rate': [0.05, 0.1], 'max_depth': [2, 3, 4],\n",
       "                         'subsample': [0.8, 1.0]},\n",
       "             pre_dispatch='2*n_jobs', refit=True, return_train_score=False,\n",
       "             scoring='roc_auc', verbose=1)"
      ]
     },
     "execution_count": 165,
     "metadata": {},
     "output_type": "execute_result"
    }
   ],
   "source": [
    "bst = xgb.XGBClassifier(n_estimators=100)\n",
    "params = {'max_depth': [2, 3, 4],\n",
    "          'learning_rate': [0.05, 0.1],\n",
    "          'subsample': [0.8, 1.0]}\n",
    "\n",
    "xgb_grid = GridSearchCV(bst, params, scoring = 'roc_auc', cv=3, n_jobs=-1, verbose=1)\n",
    "\n",
    "xgb_grid.fit(X_train, labels)"
   ]
  },
  {
   "cell_type": "code",
   "execution_count": 167,
   "metadata": {},
   "outputs": [],
   "source": [
    "y_pred_test = xgb_grid.predict_proba(X_test)"
   ]
  },
  {
   "cell_type": "code",
   "execution_count": 168,
   "metadata": {},
   "outputs": [],
   "source": [
    "y_pred_test_prob_1 = [obj[1] for obj in y_pred_test]\n",
    "answer_df = pd.DataFrame(y_pred_test_prob_1, columns=['result'])\n",
    "answer_df.index.name = 'ID'\n",
    "answer_df.to_csv('answer_xgb.csv', index='ID') #0.71295"
   ]
  },
  {
   "cell_type": "markdown",
   "metadata": {},
   "source": [
    "## Нейронная сеть"
   ]
  },
  {
   "cell_type": "code",
   "execution_count": 41,
   "metadata": {},
   "outputs": [
    {
     "name": "stdout",
     "output_type": "stream",
     "text": [
      "Train on 18298 samples\n",
      "Epoch 1/20\n",
      "18298/18298 [==============================] - 2s 88us/sample - loss: 0.4645 - auc: 0.5346\n",
      "Epoch 2/20\n",
      "18298/18298 [==============================] - 0s 12us/sample - loss: 0.3725 - auc: 0.6140\n",
      "Epoch 3/20\n",
      "18298/18298 [==============================] - 0s 11us/sample - loss: 0.3417 - auc: 0.6276\n",
      "Epoch 4/20\n",
      "18298/18298 [==============================] - 0s 12us/sample - loss: 0.3199 - auc: 0.6499\n",
      "Epoch 5/20\n",
      "18298/18298 [==============================] - 0s 11us/sample - loss: 0.3053 - auc: 0.6626\n",
      "Epoch 6/20\n",
      "18298/18298 [==============================] - 0s 11us/sample - loss: 0.2938 - auc: 0.6786\n",
      "Epoch 7/20\n",
      "18298/18298 [==============================] - 0s 11us/sample - loss: 0.2870 - auc: 0.6840\n",
      "Epoch 8/20\n",
      "18298/18298 [==============================] - 0s 11us/sample - loss: 0.2813 - auc: 0.6866\n",
      "Epoch 9/20\n",
      "18298/18298 [==============================] - 0s 12us/sample - loss: 0.2765 - auc: 0.6905\n",
      "Epoch 10/20\n",
      "18298/18298 [==============================] - 0s 11us/sample - loss: 0.2727 - auc: 0.6986\n",
      "Epoch 11/20\n",
      "18298/18298 [==============================] - 0s 11us/sample - loss: 0.2685 - auc: 0.7060\n",
      "Epoch 12/20\n",
      "18298/18298 [==============================] - 0s 11us/sample - loss: 0.2656 - auc: 0.7139\n",
      "Epoch 13/20\n",
      "18298/18298 [==============================] - 0s 12us/sample - loss: 0.2642 - auc: 0.7120\n",
      "Epoch 14/20\n",
      "18298/18298 [==============================] - 0s 12us/sample - loss: 0.2615 - auc: 0.7198\n",
      "Epoch 15/20\n",
      "18298/18298 [==============================] - 0s 11us/sample - loss: 0.2595 - auc: 0.7239\n",
      "Epoch 16/20\n",
      "18298/18298 [==============================] - 0s 12us/sample - loss: 0.2585 - auc: 0.7249\n",
      "Epoch 17/20\n",
      "18298/18298 [==============================] - 0s 12us/sample - loss: 0.2578 - auc: 0.7263\n",
      "Epoch 18/20\n",
      "18298/18298 [==============================] - 0s 12us/sample - loss: 0.2549 - auc: 0.7369\n",
      "Epoch 19/20\n",
      "18298/18298 [==============================] - 0s 12us/sample - loss: 0.2535 - auc: 0.7390\n",
      "Epoch 20/20\n",
      "18298/18298 [==============================] - 0s 11us/sample - loss: 0.2535 - auc: 0.7365\n"
     ]
    },
    {
     "data": {
      "text/plain": [
       "<tensorflow.python.keras.callbacks.History at 0x1bcd2988>"
      ]
     },
     "execution_count": 41,
     "metadata": {},
     "output_type": "execute_result"
    }
   ],
   "source": [
    "import tensorflow\n",
    "from tensorflow.keras import models\n",
    "from tensorflow.keras import layers\n",
    "\n",
    "model = models.Sequential()\n",
    "model.add(layers.Dense(64, kernel_regularizer=tensorflow.keras.regularizers.l2(0.001), activation='relu', input_shape=(300,)))\n",
    "model.add(layers.Dropout(0.3))\n",
    "model.add(layers.Dense(64, kernel_regularizer=tensorflow.keras.regularizers.l2(0.001), activation='relu'))\n",
    "model.add(layers.Dropout(0.3))\n",
    "model.add(layers.Dense(1, activation='sigmoid'))\n",
    "model.compile(loss=tensorflow.keras.losses.BinaryCrossentropy(), optimizer='rmsprop', metrics=[tensorflow.keras.metrics.AUC()])\n",
    "\n",
    "model.fit(X_train, labels, epochs=20, batch_size=512)"
   ]
  },
  {
   "cell_type": "code",
   "execution_count": 43,
   "metadata": {},
   "outputs": [],
   "source": [
    "predictions = model.predict(X_test) #предсказание модели\n",
    "predictions = predictions.reshape(10000)\n",
    "answer_df = pd.DataFrame(predictions, columns=['result'])\n",
    "answer_df.index.name = 'ID'\n",
    "answer_df.to_csv('answer_n_3.csv', index='ID') # 0.67997"
   ]
  },
  {
   "cell_type": "code",
   "execution_count": 60,
   "metadata": {},
   "outputs": [],
   "source": [
    "X, X_hold_out, y, y_hold_out = train_test_split(X_all_after_train, labels, test_size=0.1, stratify = labels)"
   ]
  },
  {
   "cell_type": "code",
   "execution_count": 73,
   "metadata": {},
   "outputs": [],
   "source": [
    "model = models.Sequential()\n",
    "model.add(layers.Dense(128, kernel_regularizer=tensorflow.keras.regularizers.l2(0.001), activation='relu', input_shape=(787,)))\n",
    "model.add(layers.Dropout(0.3))\n",
    "model.add(layers.Dense(64, kernel_regularizer=tensorflow.keras.regularizers.l2(0.001), activation='relu'))\n",
    "model.add(layers.Dropout(0.3))\n",
    "model.add(layers.Dense(64, kernel_regularizer=tensorflow.keras.regularizers.l2(0.001), activation='relu'))\n",
    "model.add(layers.Dropout(0.3))\n",
    "model.add(layers.Dense(1, activation='sigmoid'))\n",
    "model.compile(loss=tensorflow.keras.losses.BinaryCrossentropy(), optimizer='rmsprop', metrics=[tensorflow.keras.metrics.AUC()])"
   ]
  },
  {
   "cell_type": "code",
   "execution_count": 74,
   "metadata": {},
   "outputs": [
    {
     "name": "stdout",
     "output_type": "stream",
     "text": [
      "Train on 16468 samples, validate on 1830 samples\n",
      "Epoch 1/20\n",
      "16468/16468 [==============================] - 2s 148us/sample - loss: 0.5784 - auc_10: 0.5450 - val_loss: 0.4748 - val_auc_10: 0.6549\n",
      "Epoch 2/20\n",
      "16468/16468 [==============================] - 1s 30us/sample - loss: 0.4457 - auc_10: 0.6316 - val_loss: 0.4052 - val_auc_10: 0.6630\n",
      "Epoch 3/20\n",
      "16468/16468 [==============================] - 1s 32us/sample - loss: 0.3924 - auc_10: 0.6471 - val_loss: 0.3717 - val_auc_10: 0.6708\n",
      "Epoch 4/20\n",
      "16468/16468 [==============================] - 1s 33us/sample - loss: 0.3603 - auc_10: 0.6638 - val_loss: 0.3447 - val_auc_10: 0.6738\n",
      "Epoch 5/20\n",
      "16468/16468 [==============================] - 1s 32us/sample - loss: 0.3359 - auc_10: 0.6749 - val_loss: 0.3381 - val_auc_10: 0.6711\n",
      "Epoch 6/20\n",
      "16468/16468 [==============================] - 1s 31us/sample - loss: 0.3189 - auc_10: 0.6873 - val_loss: 0.3149 - val_auc_10: 0.6756\n",
      "Epoch 7/20\n",
      "16468/16468 [==============================] - 0s 30us/sample - loss: 0.3060 - auc_10: 0.6933 - val_loss: 0.3106 - val_auc_10: 0.6731\n",
      "Epoch 8/20\n",
      "16468/16468 [==============================] - 1s 31us/sample - loss: 0.2955 - auc_10: 0.7037 - val_loss: 0.3031 - val_auc_10: 0.6725\n",
      "Epoch 9/20\n",
      "16468/16468 [==============================] - 1s 32us/sample - loss: 0.2885 - auc_10: 0.7061 - val_loss: 0.2955 - val_auc_10: 0.6724\n",
      "Epoch 10/20\n",
      "16468/16468 [==============================] - 1s 33us/sample - loss: 0.2822 - auc_10: 0.7181 - val_loss: 0.2942 - val_auc_10: 0.6695\n",
      "Epoch 11/20\n",
      "16468/16468 [==============================] - 1s 31us/sample - loss: 0.2784 - auc_10: 0.7189 - val_loss: 0.2944 - val_auc_10: 0.6759\n",
      "Epoch 12/20\n",
      "16468/16468 [==============================] - 1s 31us/sample - loss: 0.2732 - auc_10: 0.7316 - val_loss: 0.2928 - val_auc_10: 0.6788\n",
      "Epoch 13/20\n",
      "16468/16468 [==============================] - 1s 32us/sample - loss: 0.2693 - auc_10: 0.7408 - val_loss: 0.2846 - val_auc_10: 0.6741\n",
      "Epoch 14/20\n",
      "16468/16468 [==============================] - 1s 32us/sample - loss: 0.2653 - auc_10: 0.7490 - val_loss: 0.2843 - val_auc_10: 0.6815\n",
      "Epoch 15/20\n",
      "16468/16468 [==============================] - 1s 32us/sample - loss: 0.2634 - auc_10: 0.7515 - val_loss: 0.2846 - val_auc_10: 0.6678\n",
      "Epoch 16/20\n",
      "16468/16468 [==============================] - 1s 33us/sample - loss: 0.2605 - auc_10: 0.7623 - val_loss: 0.2952 - val_auc_10: 0.6771\n",
      "Epoch 17/20\n",
      "16468/16468 [==============================] - 1s 31us/sample - loss: 0.2577 - auc_10: 0.7671 - val_loss: 0.2942 - val_auc_10: 0.6731\n",
      "Epoch 18/20\n",
      "16468/16468 [==============================] - 1s 33us/sample - loss: 0.2550 - auc_10: 0.7768 - val_loss: 0.2858 - val_auc_10: 0.6736\n",
      "Epoch 19/20\n",
      "16468/16468 [==============================] - 1s 32us/sample - loss: 0.2537 - auc_10: 0.7789 - val_loss: 0.2823 - val_auc_10: 0.6777\n",
      "Epoch 20/20\n",
      "16468/16468 [==============================] - 1s 32us/sample - loss: 0.2520 - auc_10: 0.7858 - val_loss: 0.2904 - val_auc_10: 0.6789\n"
     ]
    }
   ],
   "source": [
    "history = model.fit(X, y, batch_size=512, epochs=20, validation_data=(X_hold_out, y_hold_out))"
   ]
  },
  {
   "cell_type": "code",
   "execution_count": 56,
   "metadata": {},
   "outputs": [
    {
     "data": {
      "text/plain": [
       "dict_keys(['loss', 'auc_3', 'val_loss', 'val_auc_3'])"
      ]
     },
     "execution_count": 56,
     "metadata": {},
     "output_type": "execute_result"
    }
   ],
   "source": [
    "history_dict = history.history\n",
    "history_dict.keys()"
   ]
  },
  {
   "cell_type": "code",
   "execution_count": 57,
   "metadata": {},
   "outputs": [
    {
     "data": {
      "image/png": "[encoded data removed]",
      "text/plain": [
       "<Figure size 432x288 with 1 Axes>"
      ]
     },
     "metadata": {
      "needs_background": "light"
     },
     "output_type": "display_data"
    }
   ],
   "source": [
    "import matplotlib.pyplot as plt\n",
    "loss_values = history_dict['loss']\n",
    "val_loss_values = history_dict['val_loss']\n",
    "epochs = range(1, len(loss_values) + 1)\n",
    "plt.plot(epochs, loss_values, 'bo', label='Training loss') \n",
    "plt.plot(epochs, val_loss_values, 'b', label='Validation loss') \n",
    "plt.title('Training and validation loss')\n",
    "plt.xlabel('Epochs')\n",
    "plt.ylabel('Loss')\n",
    "plt.legend()\n",
    "plt.show()"
   ]
  },
  {
   "cell_type": "markdown",
   "metadata": {},
   "source": [
    "## Блендинг решений "
   ]
  },
  {
   "cell_type": "code",
   "execution_count": 76,
   "metadata": {},
   "outputs": [
    {
     "data": {
      "text/html": [
       "<div>\n",
       "<style scoped>\n",
       "    .dataframe tbody tr th:only-of-type {\n",
       "        vertical-align: middle;\n",
       "    }\n",
       "\n",
       "    .dataframe tbody tr th {\n",
       "        vertical-align: top;\n",
       "    }\n",
       "\n",
       "    .dataframe thead th {\n",
       "        text-align: right;\n",
       "    }\n",
       "</style>\n",
       "<table border=\"1\" class=\"dataframe\">\n",
       "  <thead>\n",
       "    <tr style=\"text-align: right;\">\n",
       "      <th></th>\n",
       "      <th>result</th>\n",
       "    </tr>\n",
       "    <tr>\n",
       "      <th>ID</th>\n",
       "      <th></th>\n",
       "    </tr>\n",
       "  </thead>\n",
       "  <tbody>\n",
       "    <tr>\n",
       "      <th>0</th>\n",
       "      <td>0.068091</td>\n",
       "    </tr>\n",
       "    <tr>\n",
       "      <th>1</th>\n",
       "      <td>0.076407</td>\n",
       "    </tr>\n",
       "    <tr>\n",
       "      <th>2</th>\n",
       "      <td>0.030698</td>\n",
       "    </tr>\n",
       "    <tr>\n",
       "      <th>3</th>\n",
       "      <td>0.087809</td>\n",
       "    </tr>\n",
       "    <tr>\n",
       "      <th>4</th>\n",
       "      <td>0.065510</td>\n",
       "    </tr>\n",
       "  </tbody>\n",
       "</table>\n",
       "</div>"
      ],
      "text/plain": [
       "      result\n",
       "ID          \n",
       "0   0.068091\n",
       "1   0.076407\n",
       "2   0.030698\n",
       "3   0.087809\n",
       "4   0.065510"
      ]
     },
     "execution_count": 76,
     "metadata": {},
     "output_type": "execute_result"
    }
   ],
   "source": [
    "pred1 = pd.read_csv('answer_xgb.csv', index_col='ID')\n",
    "pred1.head()"
   ]
  },
  {
   "cell_type": "code",
   "execution_count": 83,
   "metadata": {},
   "outputs": [],
   "source": [
    "blend_result = (pred1['result'] + predictions)/2."
   ]
  },
  {
   "cell_type": "code",
   "execution_count": 85,
   "metadata": {},
   "outputs": [],
   "source": [
    "blend_result_df = pd.DataFrame(blend_result, columns=['result'])\n",
    "blend_result_df.index.name = 'ID'\n",
    "blend_result_df.to_csv('blend_result.csv', index='ID')"
   ]
  },
  {
   "cell_type": "markdown",
   "metadata": {},
   "source": [
    "## Логистическая регрессия"
   ]
  },
  {
   "cell_type": "code",
   "execution_count": 93,
   "metadata": {},
   "outputs": [],
   "source": [
    "from sklearn.model_selection import train_test_split\n",
    "from sklearn.model_selection import StratifiedKFold\n",
    "from sklearn import metrics\n",
    "from sklearn.linear_model import LogisticRegression\n",
    "\n",
    "from sklearn.metrics import accuracy_score #точность\n",
    "from sklearn.metrics import roc_auc_score #площадь под кривой\n",
    "from sklearn.metrics import precision_score\n",
    "from sklearn.metrics import recall_score"
   ]
  },
  {
   "cell_type": "code",
   "execution_count": 91,
   "metadata": {},
   "outputs": [],
   "source": [
    "X, X_hold_out, y, y_hold_out = train_test_split(X_train, labels, test_size=0.1, stratify = labels)"
   ]
  },
  {
   "cell_type": "code",
   "execution_count": 89,
   "metadata": {},
   "outputs": [],
   "source": [
    "def get_result_for_x_hold(clf, X, X_hold_out, y, y_hold_out):\n",
    "    clf.fit(X,y)\n",
    "    y_pred = clf.predict(X_hold_out)\n",
    "    acc = accuracy_score(y_hold_out,y_pred)\n",
    "    roc_auc = roc_auc_score(y_hold_out,y_pred)\n",
    "    precision = precision_score(y_hold_out,y_pred)\n",
    "    recall = recall_score(y_hold_out,y_pred)\n",
    "    print('ROC-AUC:', roc_auc)\n",
    "    print('ACC:', acc)\n",
    "    print('Precission:', precision)\n",
    "    print('Recall:', recall)\n",
    "    \n",
    "    return clf, y_pred"
   ]
  },
  {
   "cell_type": "code",
   "execution_count": 92,
   "metadata": {},
   "outputs": [
    {
     "name": "stdout",
     "output_type": "stream",
     "text": [
      "ROC-AUC: 0.6954996988903467\n",
      "PR-AUC: 0.16881381258608696\n",
      "Precission: 0.1288703170388001\n",
      "Recall: 0.6166155152148362\n"
     ]
    }
   ],
   "source": [
    "clf = LogisticRegression(class_weight='balanced', n_jobs=-1)\n",
    "roc_auc, pr_auc, precision, recall, models = get_cv_roc_pr_rc(clf, skf, X, y)"
   ]
  },
  {
   "cell_type": "code",
   "execution_count": 94,
   "metadata": {},
   "outputs": [
    {
     "name": "stdout",
     "output_type": "stream",
     "text": [
      "ROC-AUC: 0.6574930619796484\n",
      "ACC: 0.6743169398907104\n",
      "Precission: 0.138801261829653\n",
      "Recall: 0.6376811594202898\n"
     ]
    }
   ],
   "source": [
    "model, y_pred = get_result_for_x_hold(clf, X, X_hold_out, y, y_hold_out)"
   ]
  }
 ],
 "metadata": {
  "kernelspec": {
   "display_name": "Python 3",
   "language": "python",
   "name": "python3"
  },
  "language_info": {
   "codemirror_mode": {
    "name": "ipython",
    "version": 3
   },
   "file_extension": ".py",
   "mimetype": "text/x-python",
   "name": "python",
   "nbconvert_exporter": "python",
   "pygments_lexer": "ipython3",
   "version": "3.7.7"
  }
 },
 "nbformat": 4,
 "nbformat_minor": 1
}
